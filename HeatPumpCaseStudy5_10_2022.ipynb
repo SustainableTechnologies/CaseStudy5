{
 "cells": [
  {
   "cell_type": "markdown",
   "metadata": {},
   "source": [
    "# Residential Heat Pump Case Study 5:  \n",
    "Created: 10/2022  \n",
    "Erik Janssen, Analyst Sustainable Technologies Evaluation Program (STEP)  \n",
    "Toronto and Region Conservation Authority (TRCA)  "
   ]
  },
  {
   "cell_type": "markdown",
   "metadata": {},
   "source": [
    "## 1 Introduction\n",
    "This Jupyter Notebook was used to analyze the changes in utility consumption pre- and post-retrofit for the air-source heat pump (ASHP) system analyzed in the accompanying case study. The basic process of the analysis is:\n",
    "\n",
    "1) Import utility data pre- and post-retrofit.  \n",
    "\n",
    "2) Create a linear regression model of the pre-retrofit data as a function of heating degree days (HDDs) - and CDDs if necessary. \n",
    "\n",
    "3) Determine savings by comparing baseline against actual post-retrofit utility data. \n",
    "\n",
    "4) Ensure that the utility impacts attributed to the ASHP system are reasonable by calculating the average COP from the gas savings and electricity increase. Compare the calculated average COP against manufacturer data (i.e. an expected COP). The COP calculated from the utility data should be near that expected based on the manufacturer data. Note COP was not explicitly monitoried, this is just to ensure that it is reasonable to attribute a certain gas savings to the ASHP based on how much electricity it consumed.\n",
    "\n",
    "5) Estimate utility rates and calculate other parameters like cost and carbon savings. \n",
    "\n",
    "6) Consider utility implications for carbon pricing schedule looking out to 2030 and beyond.\n",
    "\n",
    "7) Perform a full net present value (NPV) business case analysis."
   ]
  },
  {
   "cell_type": "markdown",
   "metadata": {},
   "source": [
    "## 2 Libraries"
   ]
  },
  {
   "cell_type": "code",
   "execution_count": 134,
   "metadata": {},
   "outputs": [],
   "source": [
    "# Import libraries\n",
    "import pandas as pd\n",
    "import matplotlib.pyplot as plt\n",
    "from datetime import datetime\n",
    "import numpy as np\n",
    "from scipy import stats\n",
    "from sklearn.linear_model import LinearRegression\n",
    "import datetime\n",
    "import matplotlib.dates as mdates\n",
    "from matplotlib.patches import Patch\n",
    "\n",
    "# Set some basic parameters for plotting and visualizing data\n",
    "font = {'size'   : 16}\n",
    "plt.rc('font', **font)\n",
    "step_blue = \"#00a3af\"\n",
    "step_gold = \"#f8a81d\"\n",
    "pd.set_option('display.max_columns', None)\n",
    "MonthFmt = mdates.DateFormatter('%m/%Y')"
   ]
  },
  {
   "cell_type": "markdown",
   "metadata": {},
   "source": [
    "## 3 Import Data\n",
    "\n",
    "### 3.1 Import Weather Data"
   ]
  },
  {
   "cell_type": "code",
   "execution_count": 135,
   "metadata": {},
   "outputs": [
    {
     "data": {
      "text/html": [
       "<div>\n",
       "<style scoped>\n",
       "    .dataframe tbody tr th:only-of-type {\n",
       "        vertical-align: middle;\n",
       "    }\n",
       "\n",
       "    .dataframe tbody tr th {\n",
       "        vertical-align: top;\n",
       "    }\n",
       "\n",
       "    .dataframe thead th {\n",
       "        text-align: right;\n",
       "    }\n",
       "</style>\n",
       "<table border=\"1\" class=\"dataframe\">\n",
       "  <thead>\n",
       "    <tr style=\"text-align: right;\">\n",
       "      <th></th>\n",
       "      <th>temperature</th>\n",
       "      <th>HDDs</th>\n",
       "      <th>CDDs</th>\n",
       "    </tr>\n",
       "    <tr>\n",
       "      <th>date_time_local</th>\n",
       "      <th></th>\n",
       "      <th></th>\n",
       "      <th></th>\n",
       "    </tr>\n",
       "  </thead>\n",
       "  <tbody>\n",
       "    <tr>\n",
       "      <th>2022-07-25 11:00:00</th>\n",
       "      <td>20.4</td>\n",
       "      <td>0.0</td>\n",
       "      <td>0.0</td>\n",
       "    </tr>\n",
       "    <tr>\n",
       "      <th>2022-07-25 10:00:00</th>\n",
       "      <td>20.1</td>\n",
       "      <td>0.0</td>\n",
       "      <td>0.0</td>\n",
       "    </tr>\n",
       "    <tr>\n",
       "      <th>2022-07-25 09:00:00</th>\n",
       "      <td>19.8</td>\n",
       "      <td>0.0</td>\n",
       "      <td>0.0</td>\n",
       "    </tr>\n",
       "    <tr>\n",
       "      <th>2022-07-25 08:00:00</th>\n",
       "      <td>19.1</td>\n",
       "      <td>0.0</td>\n",
       "      <td>0.0</td>\n",
       "    </tr>\n",
       "    <tr>\n",
       "      <th>2022-07-25 07:00:00</th>\n",
       "      <td>18.4</td>\n",
       "      <td>0.0</td>\n",
       "      <td>0.0</td>\n",
       "    </tr>\n",
       "  </tbody>\n",
       "</table>\n",
       "</div>"
      ],
      "text/plain": [
       "                     temperature  HDDs  CDDs\n",
       "date_time_local                             \n",
       "2022-07-25 11:00:00         20.4   0.0   0.0\n",
       "2022-07-25 10:00:00         20.1   0.0   0.0\n",
       "2022-07-25 09:00:00         19.8   0.0   0.0\n",
       "2022-07-25 08:00:00         19.1   0.0   0.0\n",
       "2022-07-25 07:00:00         18.4   0.0   0.0"
      ]
     },
     "execution_count": 135,
     "metadata": {},
     "output_type": "execute_result"
    }
   ],
   "source": [
    "# Import hourly weather data file for Toronto and calculate HDDs and CDDs\n",
    "# Assumed building balance points to create the best linear relationships \n",
    "toronto_weather = pd.read_csv(\"weatherstats_toronto_hourly_10yr.csv\",parse_dates=True, infer_datetime_format=True)\n",
    "toronto_weather.date_time_local = [datetime.datetime.strptime(x,'%m/%d/%Y %H:%M') for x in toronto_weather.date_time_local]\n",
    "toronto_weather = toronto_weather[['date_time_local','temperature']]\n",
    "toronto_weather['HDDs'] = [(16 - x)*(1/24) if (x < 16) else 0 for x in toronto_weather.temperature] \n",
    "toronto_weather['CDDs'] = [(x-25)*(1/24) if (x > 25) else 0 for x in toronto_weather.temperature] \n",
    "toronto_weather.index = toronto_weather.date_time_local\n",
    "del toronto_weather['date_time_local']\n",
    "toronto_weather.head()"
   ]
  },
  {
   "cell_type": "code",
   "execution_count": 136,
   "metadata": {},
   "outputs": [],
   "source": [
    "# Function that determines total HDDs in a given window of time\n",
    "def HDD_total(start_date,end_date):\n",
    "    temp_df = toronto_weather.loc[(toronto_weather.index>=start_date)&(toronto_weather.index<(end_date + datetime.timedelta(days=1)))]\n",
    "    total_HDDs = temp_df.HDDs.sum()\n",
    "    total_CDDs = temp_df.CDDs.sum()\n",
    "    return {'HDDs':total_HDDs,\n",
    "            'CDDs':total_CDDs}"
   ]
  },
  {
   "cell_type": "markdown",
   "metadata": {},
   "source": [
    "### 3.2 Import Gas Data"
   ]
  },
  {
   "cell_type": "code",
   "execution_count": 137,
   "metadata": {},
   "outputs": [
    {
     "data": {
      "text/html": [
       "<div>\n",
       "<style scoped>\n",
       "    .dataframe tbody tr th:only-of-type {\n",
       "        vertical-align: middle;\n",
       "    }\n",
       "\n",
       "    .dataframe tbody tr th {\n",
       "        vertical-align: top;\n",
       "    }\n",
       "\n",
       "    .dataframe thead th {\n",
       "        text-align: right;\n",
       "    }\n",
       "</style>\n",
       "<table border=\"1\" class=\"dataframe\">\n",
       "  <thead>\n",
       "    <tr style=\"text-align: right;\">\n",
       "      <th></th>\n",
       "      <th>Month</th>\n",
       "      <th>Year</th>\n",
       "      <th>m3</th>\n",
       "      <th>From</th>\n",
       "      <th>To</th>\n",
       "      <th>Actual Dates</th>\n",
       "    </tr>\n",
       "  </thead>\n",
       "  <tbody>\n",
       "    <tr>\n",
       "      <th>18</th>\n",
       "      <td>Jul</td>\n",
       "      <td>2020</td>\n",
       "      <td>34</td>\n",
       "      <td>2020-06-23</td>\n",
       "      <td>2020-07-23</td>\n",
       "      <td>Yes</td>\n",
       "    </tr>\n",
       "    <tr>\n",
       "      <th>19</th>\n",
       "      <td>Aug</td>\n",
       "      <td>2020</td>\n",
       "      <td>34</td>\n",
       "      <td>2020-07-24</td>\n",
       "      <td>2020-08-21</td>\n",
       "      <td>Yes</td>\n",
       "    </tr>\n",
       "    <tr>\n",
       "      <th>20</th>\n",
       "      <td>Sep</td>\n",
       "      <td>2020</td>\n",
       "      <td>36</td>\n",
       "      <td>2020-08-22</td>\n",
       "      <td>2020-09-23</td>\n",
       "      <td>Yes</td>\n",
       "    </tr>\n",
       "    <tr>\n",
       "      <th>21</th>\n",
       "      <td>Oct</td>\n",
       "      <td>2020</td>\n",
       "      <td>153</td>\n",
       "      <td>2020-09-24</td>\n",
       "      <td>2020-10-22</td>\n",
       "      <td>Yes</td>\n",
       "    </tr>\n",
       "    <tr>\n",
       "      <th>22</th>\n",
       "      <td>Nov</td>\n",
       "      <td>2020</td>\n",
       "      <td>190</td>\n",
       "      <td>2020-10-23</td>\n",
       "      <td>2020-11-23</td>\n",
       "      <td>Yes</td>\n",
       "    </tr>\n",
       "    <tr>\n",
       "      <th>23</th>\n",
       "      <td>Dec</td>\n",
       "      <td>2020</td>\n",
       "      <td>353</td>\n",
       "      <td>2020-11-24</td>\n",
       "      <td>2020-12-21</td>\n",
       "      <td>Yes</td>\n",
       "    </tr>\n",
       "    <tr>\n",
       "      <th>24</th>\n",
       "      <td>Jan</td>\n",
       "      <td>2021</td>\n",
       "      <td>357</td>\n",
       "      <td>2020-12-22</td>\n",
       "      <td>2021-01-22</td>\n",
       "      <td>Yes</td>\n",
       "    </tr>\n",
       "    <tr>\n",
       "      <th>25</th>\n",
       "      <td>Feb</td>\n",
       "      <td>2021</td>\n",
       "      <td>517</td>\n",
       "      <td>2021-01-23</td>\n",
       "      <td>2021-02-20</td>\n",
       "      <td>Yes</td>\n",
       "    </tr>\n",
       "    <tr>\n",
       "      <th>26</th>\n",
       "      <td>Mar</td>\n",
       "      <td>2021</td>\n",
       "      <td>307</td>\n",
       "      <td>2021-02-21</td>\n",
       "      <td>2021-03-23</td>\n",
       "      <td>Yes</td>\n",
       "    </tr>\n",
       "    <tr>\n",
       "      <th>27</th>\n",
       "      <td>Apr</td>\n",
       "      <td>2021</td>\n",
       "      <td>231</td>\n",
       "      <td>2021-03-24</td>\n",
       "      <td>2021-04-20</td>\n",
       "      <td>Yes</td>\n",
       "    </tr>\n",
       "    <tr>\n",
       "      <th>28</th>\n",
       "      <td>May</td>\n",
       "      <td>2021</td>\n",
       "      <td>111</td>\n",
       "      <td>2021-04-21</td>\n",
       "      <td>2021-05-21</td>\n",
       "      <td>Yes</td>\n",
       "    </tr>\n",
       "    <tr>\n",
       "      <th>29</th>\n",
       "      <td>Jun</td>\n",
       "      <td>2021</td>\n",
       "      <td>142</td>\n",
       "      <td>2021-05-22</td>\n",
       "      <td>2021-06-21</td>\n",
       "      <td>Yes</td>\n",
       "    </tr>\n",
       "    <tr>\n",
       "      <th>30</th>\n",
       "      <td>Jul</td>\n",
       "      <td>2021</td>\n",
       "      <td>38</td>\n",
       "      <td>2021-06-22</td>\n",
       "      <td>2021-07-22</td>\n",
       "      <td>Yes</td>\n",
       "    </tr>\n",
       "    <tr>\n",
       "      <th>31</th>\n",
       "      <td>Aug</td>\n",
       "      <td>2021</td>\n",
       "      <td>6</td>\n",
       "      <td>2021-07-23</td>\n",
       "      <td>2021-08-20</td>\n",
       "      <td>Yes</td>\n",
       "    </tr>\n",
       "    <tr>\n",
       "      <th>32</th>\n",
       "      <td>Sep</td>\n",
       "      <td>2021</td>\n",
       "      <td>42</td>\n",
       "      <td>2021-08-21</td>\n",
       "      <td>2021-09-23</td>\n",
       "      <td>Yes</td>\n",
       "    </tr>\n",
       "    <tr>\n",
       "      <th>33</th>\n",
       "      <td>Oct</td>\n",
       "      <td>2021</td>\n",
       "      <td>5</td>\n",
       "      <td>2021-09-24</td>\n",
       "      <td>2021-10-22</td>\n",
       "      <td>Yes</td>\n",
       "    </tr>\n",
       "    <tr>\n",
       "      <th>34</th>\n",
       "      <td>Nov</td>\n",
       "      <td>2021</td>\n",
       "      <td>5</td>\n",
       "      <td>2021-10-23</td>\n",
       "      <td>2021-11-23</td>\n",
       "      <td>Yes</td>\n",
       "    </tr>\n",
       "    <tr>\n",
       "      <th>35</th>\n",
       "      <td>Dec</td>\n",
       "      <td>2021</td>\n",
       "      <td>5</td>\n",
       "      <td>2021-11-24</td>\n",
       "      <td>2021-12-22</td>\n",
       "      <td>Yes</td>\n",
       "    </tr>\n",
       "    <tr>\n",
       "      <th>36</th>\n",
       "      <td>Jan</td>\n",
       "      <td>2022</td>\n",
       "      <td>6</td>\n",
       "      <td>2021-12-23</td>\n",
       "      <td>2022-01-24</td>\n",
       "      <td>Yes</td>\n",
       "    </tr>\n",
       "    <tr>\n",
       "      <th>37</th>\n",
       "      <td>Feb</td>\n",
       "      <td>2022</td>\n",
       "      <td>5</td>\n",
       "      <td>2022-01-25</td>\n",
       "      <td>2022-02-19</td>\n",
       "      <td>Yes</td>\n",
       "    </tr>\n",
       "    <tr>\n",
       "      <th>38</th>\n",
       "      <td>Mar</td>\n",
       "      <td>2022</td>\n",
       "      <td>4</td>\n",
       "      <td>2022-02-20</td>\n",
       "      <td>2022-03-23</td>\n",
       "      <td>Yes</td>\n",
       "    </tr>\n",
       "    <tr>\n",
       "      <th>39</th>\n",
       "      <td>Apr</td>\n",
       "      <td>2022</td>\n",
       "      <td>5</td>\n",
       "      <td>2022-03-23</td>\n",
       "      <td>2022-04-21</td>\n",
       "      <td>Yes</td>\n",
       "    </tr>\n",
       "    <tr>\n",
       "      <th>40</th>\n",
       "      <td>May</td>\n",
       "      <td>2022</td>\n",
       "      <td>5</td>\n",
       "      <td>2022-04-22</td>\n",
       "      <td>2022-05-24</td>\n",
       "      <td>Yes</td>\n",
       "    </tr>\n",
       "    <tr>\n",
       "      <th>41</th>\n",
       "      <td>Jun</td>\n",
       "      <td>2022</td>\n",
       "      <td>5</td>\n",
       "      <td>2022-05-25</td>\n",
       "      <td>2022-06-22</td>\n",
       "      <td>Yes</td>\n",
       "    </tr>\n",
       "  </tbody>\n",
       "</table>\n",
       "</div>"
      ],
      "text/plain": [
       "   Month  Year   m3       From         To Actual Dates\n",
       "18   Jul  2020   34 2020-06-23 2020-07-23          Yes\n",
       "19   Aug  2020   34 2020-07-24 2020-08-21          Yes\n",
       "20   Sep  2020   36 2020-08-22 2020-09-23          Yes\n",
       "21   Oct  2020  153 2020-09-24 2020-10-22          Yes\n",
       "22   Nov  2020  190 2020-10-23 2020-11-23          Yes\n",
       "23   Dec  2020  353 2020-11-24 2020-12-21          Yes\n",
       "24   Jan  2021  357 2020-12-22 2021-01-22          Yes\n",
       "25   Feb  2021  517 2021-01-23 2021-02-20          Yes\n",
       "26   Mar  2021  307 2021-02-21 2021-03-23          Yes\n",
       "27   Apr  2021  231 2021-03-24 2021-04-20          Yes\n",
       "28   May  2021  111 2021-04-21 2021-05-21          Yes\n",
       "29   Jun  2021  142 2021-05-22 2021-06-21          Yes\n",
       "30   Jul  2021   38 2021-06-22 2021-07-22          Yes\n",
       "31   Aug  2021    6 2021-07-23 2021-08-20          Yes\n",
       "32   Sep  2021   42 2021-08-21 2021-09-23          Yes\n",
       "33   Oct  2021    5 2021-09-24 2021-10-22          Yes\n",
       "34   Nov  2021    5 2021-10-23 2021-11-23          Yes\n",
       "35   Dec  2021    5 2021-11-24 2021-12-22          Yes\n",
       "36   Jan  2022    6 2021-12-23 2022-01-24          Yes\n",
       "37   Feb  2022    5 2022-01-25 2022-02-19          Yes\n",
       "38   Mar  2022    4 2022-02-20 2022-03-23          Yes\n",
       "39   Apr  2022    5 2022-03-23 2022-04-21          Yes\n",
       "40   May  2022    5 2022-04-22 2022-05-24          Yes\n",
       "41   Jun  2022    5 2022-05-25 2022-06-22          Yes"
      ]
     },
     "execution_count": 137,
     "metadata": {},
     "output_type": "execute_result"
    }
   ],
   "source": [
    "# Import data\n",
    "# Note \"Yes\" for Actual dates indicates that the \"To\" and \"From\" were confirmed via\n",
    "# the downloaded data from the Enbridge portal. Prior to June 2020, the \"To\" and \"From\"\n",
    "# dates are estimated since the data was recorded by the homeowner did have the exact\n",
    "# time windows. This is fine. While the data prior to June 2020 was included in some\n",
    "# visualizations, it was not used in the energy savings analysis itself.\n",
    "gas_data = pd.read_csv('Gas_Consumption.csv',parse_dates = ['To','From'])\n",
    "gas_data.tail(24)"
   ]
  },
  {
   "cell_type": "code",
   "execution_count": 138,
   "metadata": {},
   "outputs": [
    {
     "data": {
      "text/plain": [
       "Text(0, 0.5, 'Gas Consumption [m$^{3}$]')"
      ]
     },
     "execution_count": 138,
     "metadata": {},
     "output_type": "execute_result"
    },
    {
     "data": {
      "image/png": "[encoded data removed]",
      "text/plain": [
       "<Figure size 1080x360 with 1 Axes>"
      ]
     },
     "metadata": {
      "needs_background": "light"
     },
     "output_type": "display_data"
    }
   ],
   "source": [
    "# Quick Visualization\n",
    "fig,ax = plt.subplots(figsize=(15,5))\n",
    "ax.bar(gas_data.To,gas_data.m3, width = -25, align = 'edge',color = step_blue)\n",
    "ax.xaxis.set_major_formatter(MonthFmt)\n",
    "ax.set_ylabel('Gas Consumption [m$^{3}$]')"
   ]
  },
  {
   "cell_type": "markdown",
   "metadata": {},
   "source": [
    "It's clear the gas load has almost entirely been eliminated post-retrofit.\n",
    "\n",
    "Now add HDDs and CDDs to the gas dataframe."
   ]
  },
  {
   "cell_type": "code",
   "execution_count": 139,
   "metadata": {},
   "outputs": [
    {
     "data": {
      "text/html": [
       "<div>\n",
       "<style scoped>\n",
       "    .dataframe tbody tr th:only-of-type {\n",
       "        vertical-align: middle;\n",
       "    }\n",
       "\n",
       "    .dataframe tbody tr th {\n",
       "        vertical-align: top;\n",
       "    }\n",
       "\n",
       "    .dataframe thead th {\n",
       "        text-align: right;\n",
       "    }\n",
       "</style>\n",
       "<table border=\"1\" class=\"dataframe\">\n",
       "  <thead>\n",
       "    <tr style=\"text-align: right;\">\n",
       "      <th></th>\n",
       "      <th>Month</th>\n",
       "      <th>Year</th>\n",
       "      <th>m3</th>\n",
       "      <th>From</th>\n",
       "      <th>To</th>\n",
       "      <th>Actual Dates</th>\n",
       "      <th>HDDs</th>\n",
       "      <th>CDDs</th>\n",
       "    </tr>\n",
       "  </thead>\n",
       "  <tbody>\n",
       "    <tr>\n",
       "      <th>18</th>\n",
       "      <td>Jul</td>\n",
       "      <td>2020</td>\n",
       "      <td>34</td>\n",
       "      <td>2020-06-23</td>\n",
       "      <td>2020-07-23</td>\n",
       "      <td>Yes</td>\n",
       "      <td>0.562500</td>\n",
       "      <td>44.241667</td>\n",
       "    </tr>\n",
       "    <tr>\n",
       "      <th>19</th>\n",
       "      <td>Aug</td>\n",
       "      <td>2020</td>\n",
       "      <td>34</td>\n",
       "      <td>2020-07-24</td>\n",
       "      <td>2020-08-21</td>\n",
       "      <td>Yes</td>\n",
       "      <td>1.841667</td>\n",
       "      <td>24.570833</td>\n",
       "    </tr>\n",
       "    <tr>\n",
       "      <th>20</th>\n",
       "      <td>Sep</td>\n",
       "      <td>2020</td>\n",
       "      <td>36</td>\n",
       "      <td>2020-08-22</td>\n",
       "      <td>2020-09-23</td>\n",
       "      <td>Yes</td>\n",
       "      <td>39.533333</td>\n",
       "      <td>9.241667</td>\n",
       "    </tr>\n",
       "    <tr>\n",
       "      <th>21</th>\n",
       "      <td>Oct</td>\n",
       "      <td>2020</td>\n",
       "      <td>153</td>\n",
       "      <td>2020-09-24</td>\n",
       "      <td>2020-10-22</td>\n",
       "      <td>Yes</td>\n",
       "      <td>116.908333</td>\n",
       "      <td>0.295833</td>\n",
       "    </tr>\n",
       "    <tr>\n",
       "      <th>22</th>\n",
       "      <td>Nov</td>\n",
       "      <td>2020</td>\n",
       "      <td>190</td>\n",
       "      <td>2020-10-23</td>\n",
       "      <td>2020-11-23</td>\n",
       "      <td>Yes</td>\n",
       "      <td>292.900000</td>\n",
       "      <td>0.000000</td>\n",
       "    </tr>\n",
       "    <tr>\n",
       "      <th>23</th>\n",
       "      <td>Dec</td>\n",
       "      <td>2020</td>\n",
       "      <td>353</td>\n",
       "      <td>2020-11-24</td>\n",
       "      <td>2020-12-21</td>\n",
       "      <td>Yes</td>\n",
       "      <td>422.483333</td>\n",
       "      <td>0.000000</td>\n",
       "    </tr>\n",
       "    <tr>\n",
       "      <th>24</th>\n",
       "      <td>Jan</td>\n",
       "      <td>2021</td>\n",
       "      <td>357</td>\n",
       "      <td>2020-12-22</td>\n",
       "      <td>2021-01-22</td>\n",
       "      <td>Yes</td>\n",
       "      <td>529.212500</td>\n",
       "      <td>0.000000</td>\n",
       "    </tr>\n",
       "    <tr>\n",
       "      <th>25</th>\n",
       "      <td>Feb</td>\n",
       "      <td>2021</td>\n",
       "      <td>517</td>\n",
       "      <td>2021-01-23</td>\n",
       "      <td>2021-02-20</td>\n",
       "      <td>Yes</td>\n",
       "      <td>666.270833</td>\n",
       "      <td>0.000000</td>\n",
       "    </tr>\n",
       "    <tr>\n",
       "      <th>26</th>\n",
       "      <td>Mar</td>\n",
       "      <td>2021</td>\n",
       "      <td>307</td>\n",
       "      <td>2021-02-21</td>\n",
       "      <td>2021-03-23</td>\n",
       "      <td>Yes</td>\n",
       "      <td>455.425000</td>\n",
       "      <td>0.000000</td>\n",
       "    </tr>\n",
       "    <tr>\n",
       "      <th>27</th>\n",
       "      <td>Apr</td>\n",
       "      <td>2021</td>\n",
       "      <td>231</td>\n",
       "      <td>2021-03-24</td>\n",
       "      <td>2021-04-20</td>\n",
       "      <td>Yes</td>\n",
       "      <td>221.558333</td>\n",
       "      <td>0.000000</td>\n",
       "    </tr>\n",
       "    <tr>\n",
       "      <th>28</th>\n",
       "      <td>May</td>\n",
       "      <td>2021</td>\n",
       "      <td>111</td>\n",
       "      <td>2021-04-21</td>\n",
       "      <td>2021-05-21</td>\n",
       "      <td>Yes</td>\n",
       "      <td>187.012500</td>\n",
       "      <td>3.529167</td>\n",
       "    </tr>\n",
       "    <tr>\n",
       "      <th>29</th>\n",
       "      <td>Jun</td>\n",
       "      <td>2021</td>\n",
       "      <td>142</td>\n",
       "      <td>2021-05-22</td>\n",
       "      <td>2021-06-21</td>\n",
       "      <td>Yes</td>\n",
       "      <td>30.591667</td>\n",
       "      <td>13.991667</td>\n",
       "    </tr>\n",
       "    <tr>\n",
       "      <th>30</th>\n",
       "      <td>Jul</td>\n",
       "      <td>2021</td>\n",
       "      <td>38</td>\n",
       "      <td>2021-06-22</td>\n",
       "      <td>2021-07-22</td>\n",
       "      <td>Yes</td>\n",
       "      <td>4.725000</td>\n",
       "      <td>17.904167</td>\n",
       "    </tr>\n",
       "    <tr>\n",
       "      <th>31</th>\n",
       "      <td>Aug</td>\n",
       "      <td>2021</td>\n",
       "      <td>6</td>\n",
       "      <td>2021-07-23</td>\n",
       "      <td>2021-08-20</td>\n",
       "      <td>Yes</td>\n",
       "      <td>2.741667</td>\n",
       "      <td>17.333333</td>\n",
       "    </tr>\n",
       "    <tr>\n",
       "      <th>32</th>\n",
       "      <td>Sep</td>\n",
       "      <td>2021</td>\n",
       "      <td>42</td>\n",
       "      <td>2021-08-21</td>\n",
       "      <td>2021-09-23</td>\n",
       "      <td>Yes</td>\n",
       "      <td>11.445833</td>\n",
       "      <td>16.091667</td>\n",
       "    </tr>\n",
       "    <tr>\n",
       "      <th>33</th>\n",
       "      <td>Oct</td>\n",
       "      <td>2021</td>\n",
       "      <td>5</td>\n",
       "      <td>2021-09-24</td>\n",
       "      <td>2021-10-22</td>\n",
       "      <td>Yes</td>\n",
       "      <td>54.066667</td>\n",
       "      <td>0.025000</td>\n",
       "    </tr>\n",
       "    <tr>\n",
       "      <th>34</th>\n",
       "      <td>Nov</td>\n",
       "      <td>2021</td>\n",
       "      <td>5</td>\n",
       "      <td>2021-10-23</td>\n",
       "      <td>2021-11-23</td>\n",
       "      <td>Yes</td>\n",
       "      <td>312.579167</td>\n",
       "      <td>0.000000</td>\n",
       "    </tr>\n",
       "    <tr>\n",
       "      <th>35</th>\n",
       "      <td>Dec</td>\n",
       "      <td>2021</td>\n",
       "      <td>5</td>\n",
       "      <td>2021-11-24</td>\n",
       "      <td>2021-12-22</td>\n",
       "      <td>Yes</td>\n",
       "      <td>419.112500</td>\n",
       "      <td>0.000000</td>\n",
       "    </tr>\n",
       "    <tr>\n",
       "      <th>36</th>\n",
       "      <td>Jan</td>\n",
       "      <td>2022</td>\n",
       "      <td>6</td>\n",
       "      <td>2021-12-23</td>\n",
       "      <td>2022-01-24</td>\n",
       "      <td>Yes</td>\n",
       "      <td>685.462500</td>\n",
       "      <td>0.000000</td>\n",
       "    </tr>\n",
       "    <tr>\n",
       "      <th>37</th>\n",
       "      <td>Feb</td>\n",
       "      <td>2022</td>\n",
       "      <td>5</td>\n",
       "      <td>2022-01-25</td>\n",
       "      <td>2022-02-19</td>\n",
       "      <td>Yes</td>\n",
       "      <td>566.616667</td>\n",
       "      <td>0.000000</td>\n",
       "    </tr>\n",
       "    <tr>\n",
       "      <th>38</th>\n",
       "      <td>Mar</td>\n",
       "      <td>2022</td>\n",
       "      <td>4</td>\n",
       "      <td>2022-02-20</td>\n",
       "      <td>2022-03-23</td>\n",
       "      <td>Yes</td>\n",
       "      <td>522.066667</td>\n",
       "      <td>0.000000</td>\n",
       "    </tr>\n",
       "    <tr>\n",
       "      <th>39</th>\n",
       "      <td>Apr</td>\n",
       "      <td>2022</td>\n",
       "      <td>5</td>\n",
       "      <td>2022-03-23</td>\n",
       "      <td>2022-04-21</td>\n",
       "      <td>Yes</td>\n",
       "      <td>343.312500</td>\n",
       "      <td>0.000000</td>\n",
       "    </tr>\n",
       "    <tr>\n",
       "      <th>40</th>\n",
       "      <td>May</td>\n",
       "      <td>2022</td>\n",
       "      <td>5</td>\n",
       "      <td>2022-04-22</td>\n",
       "      <td>2022-05-24</td>\n",
       "      <td>Yes</td>\n",
       "      <td>146.616667</td>\n",
       "      <td>1.437500</td>\n",
       "    </tr>\n",
       "    <tr>\n",
       "      <th>41</th>\n",
       "      <td>Jun</td>\n",
       "      <td>2022</td>\n",
       "      <td>5</td>\n",
       "      <td>2022-05-25</td>\n",
       "      <td>2022-06-22</td>\n",
       "      <td>Yes</td>\n",
       "      <td>18.170833</td>\n",
       "      <td>14.979167</td>\n",
       "    </tr>\n",
       "  </tbody>\n",
       "</table>\n",
       "</div>"
      ],
      "text/plain": [
       "   Month  Year   m3       From         To Actual Dates        HDDs       CDDs\n",
       "18   Jul  2020   34 2020-06-23 2020-07-23          Yes    0.562500  44.241667\n",
       "19   Aug  2020   34 2020-07-24 2020-08-21          Yes    1.841667  24.570833\n",
       "20   Sep  2020   36 2020-08-22 2020-09-23          Yes   39.533333   9.241667\n",
       "21   Oct  2020  153 2020-09-24 2020-10-22          Yes  116.908333   0.295833\n",
       "22   Nov  2020  190 2020-10-23 2020-11-23          Yes  292.900000   0.000000\n",
       "23   Dec  2020  353 2020-11-24 2020-12-21          Yes  422.483333   0.000000\n",
       "24   Jan  2021  357 2020-12-22 2021-01-22          Yes  529.212500   0.000000\n",
       "25   Feb  2021  517 2021-01-23 2021-02-20          Yes  666.270833   0.000000\n",
       "26   Mar  2021  307 2021-02-21 2021-03-23          Yes  455.425000   0.000000\n",
       "27   Apr  2021  231 2021-03-24 2021-04-20          Yes  221.558333   0.000000\n",
       "28   May  2021  111 2021-04-21 2021-05-21          Yes  187.012500   3.529167\n",
       "29   Jun  2021  142 2021-05-22 2021-06-21          Yes   30.591667  13.991667\n",
       "30   Jul  2021   38 2021-06-22 2021-07-22          Yes    4.725000  17.904167\n",
       "31   Aug  2021    6 2021-07-23 2021-08-20          Yes    2.741667  17.333333\n",
       "32   Sep  2021   42 2021-08-21 2021-09-23          Yes   11.445833  16.091667\n",
       "33   Oct  2021    5 2021-09-24 2021-10-22          Yes   54.066667   0.025000\n",
       "34   Nov  2021    5 2021-10-23 2021-11-23          Yes  312.579167   0.000000\n",
       "35   Dec  2021    5 2021-11-24 2021-12-22          Yes  419.112500   0.000000\n",
       "36   Jan  2022    6 2021-12-23 2022-01-24          Yes  685.462500   0.000000\n",
       "37   Feb  2022    5 2022-01-25 2022-02-19          Yes  566.616667   0.000000\n",
       "38   Mar  2022    4 2022-02-20 2022-03-23          Yes  522.066667   0.000000\n",
       "39   Apr  2022    5 2022-03-23 2022-04-21          Yes  343.312500   0.000000\n",
       "40   May  2022    5 2022-04-22 2022-05-24          Yes  146.616667   1.437500\n",
       "41   Jun  2022    5 2022-05-25 2022-06-22          Yes   18.170833  14.979167"
      ]
     },
     "execution_count": 139,
     "metadata": {},
     "output_type": "execute_result"
    }
   ],
   "source": [
    "# Add HDDs to gas dataframe\n",
    "gas_data['HDDs'] = [HDD_total(x,y)['HDDs'] for x,y in zip(gas_data.From,gas_data.To)]\n",
    "gas_data['CDDs'] = [HDD_total(x,y)['CDDs'] for x,y in zip(gas_data.From,gas_data.To)]\n",
    "gas_data.tail(24)"
   ]
  },
  {
   "cell_type": "markdown",
   "metadata": {},
   "source": [
    "Define pre- and post-retrofit dataframes for the gas data. Note the install took place in early October 2021. "
   ]
  },
  {
   "cell_type": "code",
   "execution_count": 140,
   "metadata": {},
   "outputs": [],
   "source": [
    "pre_gas_data_2 = gas_data.loc[(gas_data.index > 9)&(gas_data.index < 18)].copy() # Winter 2019/2020\n",
    "pre_gas_data = gas_data.loc[(gas_data.index > 21)&(gas_data.index < 30)].copy() # Winter 2020/2021\n",
    "post_gas_data = gas_data.loc[(gas_data.index > 33)].copy() # Winter 2021/2022"
   ]
  },
  {
   "cell_type": "code",
   "execution_count": 141,
   "metadata": {},
   "outputs": [
    {
     "data": {
      "text/html": [
       "<div>\n",
       "<style scoped>\n",
       "    .dataframe tbody tr th:only-of-type {\n",
       "        vertical-align: middle;\n",
       "    }\n",
       "\n",
       "    .dataframe tbody tr th {\n",
       "        vertical-align: top;\n",
       "    }\n",
       "\n",
       "    .dataframe thead th {\n",
       "        text-align: right;\n",
       "    }\n",
       "</style>\n",
       "<table border=\"1\" class=\"dataframe\">\n",
       "  <thead>\n",
       "    <tr style=\"text-align: right;\">\n",
       "      <th></th>\n",
       "      <th>Month</th>\n",
       "      <th>Year</th>\n",
       "      <th>m3</th>\n",
       "      <th>From</th>\n",
       "      <th>To</th>\n",
       "      <th>Actual Dates</th>\n",
       "      <th>HDDs</th>\n",
       "      <th>CDDs</th>\n",
       "    </tr>\n",
       "  </thead>\n",
       "  <tbody>\n",
       "    <tr>\n",
       "      <th>22</th>\n",
       "      <td>Nov</td>\n",
       "      <td>2020</td>\n",
       "      <td>190</td>\n",
       "      <td>2020-10-23</td>\n",
       "      <td>2020-11-23</td>\n",
       "      <td>Yes</td>\n",
       "      <td>292.900000</td>\n",
       "      <td>0.000000</td>\n",
       "    </tr>\n",
       "    <tr>\n",
       "      <th>23</th>\n",
       "      <td>Dec</td>\n",
       "      <td>2020</td>\n",
       "      <td>353</td>\n",
       "      <td>2020-11-24</td>\n",
       "      <td>2020-12-21</td>\n",
       "      <td>Yes</td>\n",
       "      <td>422.483333</td>\n",
       "      <td>0.000000</td>\n",
       "    </tr>\n",
       "    <tr>\n",
       "      <th>24</th>\n",
       "      <td>Jan</td>\n",
       "      <td>2021</td>\n",
       "      <td>357</td>\n",
       "      <td>2020-12-22</td>\n",
       "      <td>2021-01-22</td>\n",
       "      <td>Yes</td>\n",
       "      <td>529.212500</td>\n",
       "      <td>0.000000</td>\n",
       "    </tr>\n",
       "    <tr>\n",
       "      <th>25</th>\n",
       "      <td>Feb</td>\n",
       "      <td>2021</td>\n",
       "      <td>517</td>\n",
       "      <td>2021-01-23</td>\n",
       "      <td>2021-02-20</td>\n",
       "      <td>Yes</td>\n",
       "      <td>666.270833</td>\n",
       "      <td>0.000000</td>\n",
       "    </tr>\n",
       "    <tr>\n",
       "      <th>26</th>\n",
       "      <td>Mar</td>\n",
       "      <td>2021</td>\n",
       "      <td>307</td>\n",
       "      <td>2021-02-21</td>\n",
       "      <td>2021-03-23</td>\n",
       "      <td>Yes</td>\n",
       "      <td>455.425000</td>\n",
       "      <td>0.000000</td>\n",
       "    </tr>\n",
       "    <tr>\n",
       "      <th>27</th>\n",
       "      <td>Apr</td>\n",
       "      <td>2021</td>\n",
       "      <td>231</td>\n",
       "      <td>2021-03-24</td>\n",
       "      <td>2021-04-20</td>\n",
       "      <td>Yes</td>\n",
       "      <td>221.558333</td>\n",
       "      <td>0.000000</td>\n",
       "    </tr>\n",
       "    <tr>\n",
       "      <th>28</th>\n",
       "      <td>May</td>\n",
       "      <td>2021</td>\n",
       "      <td>111</td>\n",
       "      <td>2021-04-21</td>\n",
       "      <td>2021-05-21</td>\n",
       "      <td>Yes</td>\n",
       "      <td>187.012500</td>\n",
       "      <td>3.529167</td>\n",
       "    </tr>\n",
       "    <tr>\n",
       "      <th>29</th>\n",
       "      <td>Jun</td>\n",
       "      <td>2021</td>\n",
       "      <td>142</td>\n",
       "      <td>2021-05-22</td>\n",
       "      <td>2021-06-21</td>\n",
       "      <td>Yes</td>\n",
       "      <td>30.591667</td>\n",
       "      <td>13.991667</td>\n",
       "    </tr>\n",
       "  </tbody>\n",
       "</table>\n",
       "</div>"
      ],
      "text/plain": [
       "   Month  Year   m3       From         To Actual Dates        HDDs       CDDs\n",
       "22   Nov  2020  190 2020-10-23 2020-11-23          Yes  292.900000   0.000000\n",
       "23   Dec  2020  353 2020-11-24 2020-12-21          Yes  422.483333   0.000000\n",
       "24   Jan  2021  357 2020-12-22 2021-01-22          Yes  529.212500   0.000000\n",
       "25   Feb  2021  517 2021-01-23 2021-02-20          Yes  666.270833   0.000000\n",
       "26   Mar  2021  307 2021-02-21 2021-03-23          Yes  455.425000   0.000000\n",
       "27   Apr  2021  231 2021-03-24 2021-04-20          Yes  221.558333   0.000000\n",
       "28   May  2021  111 2021-04-21 2021-05-21          Yes  187.012500   3.529167\n",
       "29   Jun  2021  142 2021-05-22 2021-06-21          Yes   30.591667  13.991667"
      ]
     },
     "execution_count": 141,
     "metadata": {},
     "output_type": "execute_result"
    }
   ],
   "source": [
    "# Have a look\n",
    "pre_gas_data"
   ]
  },
  {
   "cell_type": "code",
   "execution_count": 142,
   "metadata": {},
   "outputs": [
    {
     "data": {
      "text/html": [
       "<div>\n",
       "<style scoped>\n",
       "    .dataframe tbody tr th:only-of-type {\n",
       "        vertical-align: middle;\n",
       "    }\n",
       "\n",
       "    .dataframe tbody tr th {\n",
       "        vertical-align: top;\n",
       "    }\n",
       "\n",
       "    .dataframe thead th {\n",
       "        text-align: right;\n",
       "    }\n",
       "</style>\n",
       "<table border=\"1\" class=\"dataframe\">\n",
       "  <thead>\n",
       "    <tr style=\"text-align: right;\">\n",
       "      <th></th>\n",
       "      <th>Month</th>\n",
       "      <th>Year</th>\n",
       "      <th>m3</th>\n",
       "      <th>From</th>\n",
       "      <th>To</th>\n",
       "      <th>Actual Dates</th>\n",
       "      <th>HDDs</th>\n",
       "      <th>CDDs</th>\n",
       "    </tr>\n",
       "  </thead>\n",
       "  <tbody>\n",
       "    <tr>\n",
       "      <th>10</th>\n",
       "      <td>Nov</td>\n",
       "      <td>2019</td>\n",
       "      <td>360</td>\n",
       "      <td>2019-10-23</td>\n",
       "      <td>2019-11-22</td>\n",
       "      <td>No</td>\n",
       "      <td>397.612500</td>\n",
       "      <td>0.000000</td>\n",
       "    </tr>\n",
       "    <tr>\n",
       "      <th>11</th>\n",
       "      <td>Dec</td>\n",
       "      <td>2019</td>\n",
       "      <td>200</td>\n",
       "      <td>2019-11-23</td>\n",
       "      <td>2019-12-22</td>\n",
       "      <td>No</td>\n",
       "      <td>502.745833</td>\n",
       "      <td>0.000000</td>\n",
       "    </tr>\n",
       "    <tr>\n",
       "      <th>12</th>\n",
       "      <td>Jan</td>\n",
       "      <td>2020</td>\n",
       "      <td>445</td>\n",
       "      <td>2019-12-23</td>\n",
       "      <td>2020-01-22</td>\n",
       "      <td>No</td>\n",
       "      <td>509.095833</td>\n",
       "      <td>0.000000</td>\n",
       "    </tr>\n",
       "    <tr>\n",
       "      <th>13</th>\n",
       "      <td>Feb</td>\n",
       "      <td>2020</td>\n",
       "      <td>349</td>\n",
       "      <td>2020-01-23</td>\n",
       "      <td>2020-02-22</td>\n",
       "      <td>No</td>\n",
       "      <td>570.358333</td>\n",
       "      <td>0.000000</td>\n",
       "    </tr>\n",
       "    <tr>\n",
       "      <th>14</th>\n",
       "      <td>Mar</td>\n",
       "      <td>2020</td>\n",
       "      <td>304</td>\n",
       "      <td>2020-02-23</td>\n",
       "      <td>2020-03-22</td>\n",
       "      <td>No</td>\n",
       "      <td>419.762500</td>\n",
       "      <td>0.000000</td>\n",
       "    </tr>\n",
       "    <tr>\n",
       "      <th>15</th>\n",
       "      <td>Apr</td>\n",
       "      <td>2020</td>\n",
       "      <td>326</td>\n",
       "      <td>2020-03-23</td>\n",
       "      <td>2020-04-22</td>\n",
       "      <td>No</td>\n",
       "      <td>339.087500</td>\n",
       "      <td>0.000000</td>\n",
       "    </tr>\n",
       "    <tr>\n",
       "      <th>16</th>\n",
       "      <td>May</td>\n",
       "      <td>2020</td>\n",
       "      <td>160</td>\n",
       "      <td>2020-04-23</td>\n",
       "      <td>2020-05-22</td>\n",
       "      <td>No</td>\n",
       "      <td>213.475000</td>\n",
       "      <td>0.000000</td>\n",
       "    </tr>\n",
       "    <tr>\n",
       "      <th>17</th>\n",
       "      <td>Jun</td>\n",
       "      <td>2020</td>\n",
       "      <td>94</td>\n",
       "      <td>2020-05-23</td>\n",
       "      <td>2020-06-22</td>\n",
       "      <td>No</td>\n",
       "      <td>22.933333</td>\n",
       "      <td>15.908333</td>\n",
       "    </tr>\n",
       "  </tbody>\n",
       "</table>\n",
       "</div>"
      ],
      "text/plain": [
       "   Month  Year   m3       From         To Actual Dates        HDDs       CDDs\n",
       "10   Nov  2019  360 2019-10-23 2019-11-22           No  397.612500   0.000000\n",
       "11   Dec  2019  200 2019-11-23 2019-12-22           No  502.745833   0.000000\n",
       "12   Jan  2020  445 2019-12-23 2020-01-22           No  509.095833   0.000000\n",
       "13   Feb  2020  349 2020-01-23 2020-02-22           No  570.358333   0.000000\n",
       "14   Mar  2020  304 2020-02-23 2020-03-22           No  419.762500   0.000000\n",
       "15   Apr  2020  326 2020-03-23 2020-04-22           No  339.087500   0.000000\n",
       "16   May  2020  160 2020-04-23 2020-05-22           No  213.475000   0.000000\n",
       "17   Jun  2020   94 2020-05-23 2020-06-22           No   22.933333  15.908333"
      ]
     },
     "execution_count": 142,
     "metadata": {},
     "output_type": "execute_result"
    }
   ],
   "source": [
    "# Have a look\n",
    "pre_gas_data_2"
   ]
  },
  {
   "cell_type": "code",
   "execution_count": 143,
   "metadata": {},
   "outputs": [
    {
     "data": {
      "text/html": [
       "<div>\n",
       "<style scoped>\n",
       "    .dataframe tbody tr th:only-of-type {\n",
       "        vertical-align: middle;\n",
       "    }\n",
       "\n",
       "    .dataframe tbody tr th {\n",
       "        vertical-align: top;\n",
       "    }\n",
       "\n",
       "    .dataframe thead th {\n",
       "        text-align: right;\n",
       "    }\n",
       "</style>\n",
       "<table border=\"1\" class=\"dataframe\">\n",
       "  <thead>\n",
       "    <tr style=\"text-align: right;\">\n",
       "      <th></th>\n",
       "      <th>Month</th>\n",
       "      <th>Year</th>\n",
       "      <th>m3</th>\n",
       "      <th>From</th>\n",
       "      <th>To</th>\n",
       "      <th>Actual Dates</th>\n",
       "      <th>HDDs</th>\n",
       "      <th>CDDs</th>\n",
       "    </tr>\n",
       "  </thead>\n",
       "  <tbody>\n",
       "    <tr>\n",
       "      <th>34</th>\n",
       "      <td>Nov</td>\n",
       "      <td>2021</td>\n",
       "      <td>5</td>\n",
       "      <td>2021-10-23</td>\n",
       "      <td>2021-11-23</td>\n",
       "      <td>Yes</td>\n",
       "      <td>312.579167</td>\n",
       "      <td>0.000000</td>\n",
       "    </tr>\n",
       "    <tr>\n",
       "      <th>35</th>\n",
       "      <td>Dec</td>\n",
       "      <td>2021</td>\n",
       "      <td>5</td>\n",
       "      <td>2021-11-24</td>\n",
       "      <td>2021-12-22</td>\n",
       "      <td>Yes</td>\n",
       "      <td>419.112500</td>\n",
       "      <td>0.000000</td>\n",
       "    </tr>\n",
       "    <tr>\n",
       "      <th>36</th>\n",
       "      <td>Jan</td>\n",
       "      <td>2022</td>\n",
       "      <td>6</td>\n",
       "      <td>2021-12-23</td>\n",
       "      <td>2022-01-24</td>\n",
       "      <td>Yes</td>\n",
       "      <td>685.462500</td>\n",
       "      <td>0.000000</td>\n",
       "    </tr>\n",
       "    <tr>\n",
       "      <th>37</th>\n",
       "      <td>Feb</td>\n",
       "      <td>2022</td>\n",
       "      <td>5</td>\n",
       "      <td>2022-01-25</td>\n",
       "      <td>2022-02-19</td>\n",
       "      <td>Yes</td>\n",
       "      <td>566.616667</td>\n",
       "      <td>0.000000</td>\n",
       "    </tr>\n",
       "    <tr>\n",
       "      <th>38</th>\n",
       "      <td>Mar</td>\n",
       "      <td>2022</td>\n",
       "      <td>4</td>\n",
       "      <td>2022-02-20</td>\n",
       "      <td>2022-03-23</td>\n",
       "      <td>Yes</td>\n",
       "      <td>522.066667</td>\n",
       "      <td>0.000000</td>\n",
       "    </tr>\n",
       "    <tr>\n",
       "      <th>39</th>\n",
       "      <td>Apr</td>\n",
       "      <td>2022</td>\n",
       "      <td>5</td>\n",
       "      <td>2022-03-23</td>\n",
       "      <td>2022-04-21</td>\n",
       "      <td>Yes</td>\n",
       "      <td>343.312500</td>\n",
       "      <td>0.000000</td>\n",
       "    </tr>\n",
       "    <tr>\n",
       "      <th>40</th>\n",
       "      <td>May</td>\n",
       "      <td>2022</td>\n",
       "      <td>5</td>\n",
       "      <td>2022-04-22</td>\n",
       "      <td>2022-05-24</td>\n",
       "      <td>Yes</td>\n",
       "      <td>146.616667</td>\n",
       "      <td>1.437500</td>\n",
       "    </tr>\n",
       "    <tr>\n",
       "      <th>41</th>\n",
       "      <td>Jun</td>\n",
       "      <td>2022</td>\n",
       "      <td>5</td>\n",
       "      <td>2022-05-25</td>\n",
       "      <td>2022-06-22</td>\n",
       "      <td>Yes</td>\n",
       "      <td>18.170833</td>\n",
       "      <td>14.979167</td>\n",
       "    </tr>\n",
       "  </tbody>\n",
       "</table>\n",
       "</div>"
      ],
      "text/plain": [
       "   Month  Year  m3       From         To Actual Dates        HDDs       CDDs\n",
       "34   Nov  2021   5 2021-10-23 2021-11-23          Yes  312.579167   0.000000\n",
       "35   Dec  2021   5 2021-11-24 2021-12-22          Yes  419.112500   0.000000\n",
       "36   Jan  2022   6 2021-12-23 2022-01-24          Yes  685.462500   0.000000\n",
       "37   Feb  2022   5 2022-01-25 2022-02-19          Yes  566.616667   0.000000\n",
       "38   Mar  2022   4 2022-02-20 2022-03-23          Yes  522.066667   0.000000\n",
       "39   Apr  2022   5 2022-03-23 2022-04-21          Yes  343.312500   0.000000\n",
       "40   May  2022   5 2022-04-22 2022-05-24          Yes  146.616667   1.437500\n",
       "41   Jun  2022   5 2022-05-25 2022-06-22          Yes   18.170833  14.979167"
      ]
     },
     "execution_count": 143,
     "metadata": {},
     "output_type": "execute_result"
    }
   ],
   "source": [
    "# Have a look\n",
    "post_gas_data"
   ]
  },
  {
   "cell_type": "markdown",
   "metadata": {},
   "source": [
    "Visualize gas consumption vs. HDDs."
   ]
  },
  {
   "cell_type": "code",
   "execution_count": 144,
   "metadata": {},
   "outputs": [
    {
     "data": {
      "text/plain": [
       "<matplotlib.legend.Legend at 0x216cbbb3eb8>"
      ]
     },
     "execution_count": 144,
     "metadata": {},
     "output_type": "execute_result"
    },
    {
     "data": {
      "image/png": "[encoded data removed]",
      "text/plain": [
       "<Figure size 504x360 with 1 Axes>"
      ]
     },
     "metadata": {
      "needs_background": "light"
     },
     "output_type": "display_data"
    }
   ],
   "source": [
    "plt.figure(figsize=(7,5))\n",
    "plt.scatter(pre_gas_data_2.HDDs,pre_gas_data_2.m3, color = 'grey', label = 'Pre-retrofit (Winter 2019/2020)')\n",
    "plt.scatter(pre_gas_data.HDDs,pre_gas_data.m3, color = step_blue, label = 'Pre-retrofit (Winter 2021/2022)')\n",
    "plt.scatter(post_gas_data.HDDs,post_gas_data.m3, color = step_gold, label = 'Post-retrofit (Winter 2020/2021)')\n",
    "\n",
    "plt.ylabel('Gas Consumption [m$^{3}$]')\n",
    "plt.xlabel('HDDs')\n",
    "plt.grid(ls='--')\n",
    "plt.legend()"
   ]
  },
  {
   "cell_type": "markdown",
   "metadata": {},
   "source": [
    "As expected, pre-retrofit data is very linear. This will make it easy to model a baseline."
   ]
  },
  {
   "cell_type": "markdown",
   "metadata": {},
   "source": [
    "### 3.3 Import Electricity Data"
   ]
  },
  {
   "cell_type": "code",
   "execution_count": 145,
   "metadata": {},
   "outputs": [
    {
     "data": {
      "text/html": [
       "<div>\n",
       "<style scoped>\n",
       "    .dataframe tbody tr th:only-of-type {\n",
       "        vertical-align: middle;\n",
       "    }\n",
       "\n",
       "    .dataframe tbody tr th {\n",
       "        vertical-align: top;\n",
       "    }\n",
       "\n",
       "    .dataframe thead th {\n",
       "        text-align: right;\n",
       "    }\n",
       "</style>\n",
       "<table border=\"1\" class=\"dataframe\">\n",
       "  <thead>\n",
       "    <tr style=\"text-align: right;\">\n",
       "      <th></th>\n",
       "      <th>From</th>\n",
       "      <th>To</th>\n",
       "      <th>Off-Peak</th>\n",
       "      <th>Mid-Peak</th>\n",
       "      <th>On-Peak</th>\n",
       "      <th>kWh</th>\n",
       "    </tr>\n",
       "  </thead>\n",
       "  <tbody>\n",
       "    <tr>\n",
       "      <th>0</th>\n",
       "      <td>2020-01-01</td>\n",
       "      <td>2020-01-31</td>\n",
       "      <td>192.65</td>\n",
       "      <td>57.35</td>\n",
       "      <td>59.80</td>\n",
       "      <td>309.80</td>\n",
       "    </tr>\n",
       "    <tr>\n",
       "      <th>1</th>\n",
       "      <td>2020-02-01</td>\n",
       "      <td>2020-02-29</td>\n",
       "      <td>17.01</td>\n",
       "      <td>46.20</td>\n",
       "      <td>40.48</td>\n",
       "      <td>103.69</td>\n",
       "    </tr>\n",
       "    <tr>\n",
       "      <th>2</th>\n",
       "      <td>2020-03-01</td>\n",
       "      <td>2020-03-31</td>\n",
       "      <td>69.91</td>\n",
       "      <td>34.71</td>\n",
       "      <td>29.70</td>\n",
       "      <td>134.32</td>\n",
       "    </tr>\n",
       "    <tr>\n",
       "      <th>3</th>\n",
       "      <td>2020-04-01</td>\n",
       "      <td>2020-04-30</td>\n",
       "      <td>261.68</td>\n",
       "      <td>0.00</td>\n",
       "      <td>0.00</td>\n",
       "      <td>261.68</td>\n",
       "    </tr>\n",
       "    <tr>\n",
       "      <th>4</th>\n",
       "      <td>2020-05-01</td>\n",
       "      <td>2020-05-31</td>\n",
       "      <td>279.40</td>\n",
       "      <td>0.00</td>\n",
       "      <td>0.00</td>\n",
       "      <td>279.40</td>\n",
       "    </tr>\n",
       "    <tr>\n",
       "      <th>5</th>\n",
       "      <td>2020-06-01</td>\n",
       "      <td>2020-06-30</td>\n",
       "      <td>395.71</td>\n",
       "      <td>0.00</td>\n",
       "      <td>0.00</td>\n",
       "      <td>395.71</td>\n",
       "    </tr>\n",
       "    <tr>\n",
       "      <th>6</th>\n",
       "      <td>2020-07-01</td>\n",
       "      <td>2020-07-31</td>\n",
       "      <td>35.31</td>\n",
       "      <td>0.00</td>\n",
       "      <td>0.00</td>\n",
       "      <td>35.31</td>\n",
       "    </tr>\n",
       "    <tr>\n",
       "      <th>7</th>\n",
       "      <td>2020-08-01</td>\n",
       "      <td>2020-08-31</td>\n",
       "      <td>275.81</td>\n",
       "      <td>102.20</td>\n",
       "      <td>142.99</td>\n",
       "      <td>521.00</td>\n",
       "    </tr>\n",
       "    <tr>\n",
       "      <th>8</th>\n",
       "      <td>2020-09-01</td>\n",
       "      <td>2020-09-30</td>\n",
       "      <td>153.93</td>\n",
       "      <td>49.52</td>\n",
       "      <td>50.55</td>\n",
       "      <td>254.00</td>\n",
       "    </tr>\n",
       "    <tr>\n",
       "      <th>9</th>\n",
       "      <td>2020-10-01</td>\n",
       "      <td>2020-10-31</td>\n",
       "      <td>148.12</td>\n",
       "      <td>44.68</td>\n",
       "      <td>52.52</td>\n",
       "      <td>245.32</td>\n",
       "    </tr>\n",
       "    <tr>\n",
       "      <th>10</th>\n",
       "      <td>2020-11-01</td>\n",
       "      <td>2020-11-30</td>\n",
       "      <td>192.84</td>\n",
       "      <td>58.17</td>\n",
       "      <td>59.10</td>\n",
       "      <td>310.11</td>\n",
       "    </tr>\n",
       "    <tr>\n",
       "      <th>11</th>\n",
       "      <td>2020-12-01</td>\n",
       "      <td>2020-12-31</td>\n",
       "      <td>206.57</td>\n",
       "      <td>82.67</td>\n",
       "      <td>74.46</td>\n",
       "      <td>363.70</td>\n",
       "    </tr>\n",
       "    <tr>\n",
       "      <th>12</th>\n",
       "      <td>2021-01-01</td>\n",
       "      <td>2021-01-31</td>\n",
       "      <td>276.97</td>\n",
       "      <td>81.60</td>\n",
       "      <td>73.10</td>\n",
       "      <td>431.67</td>\n",
       "    </tr>\n",
       "    <tr>\n",
       "      <th>13</th>\n",
       "      <td>2021-02-01</td>\n",
       "      <td>2021-02-28</td>\n",
       "      <td>230.79</td>\n",
       "      <td>94.31</td>\n",
       "      <td>79.78</td>\n",
       "      <td>404.88</td>\n",
       "    </tr>\n",
       "    <tr>\n",
       "      <th>14</th>\n",
       "      <td>2021-03-01</td>\n",
       "      <td>2021-03-31</td>\n",
       "      <td>210.51</td>\n",
       "      <td>55.97</td>\n",
       "      <td>61.38</td>\n",
       "      <td>327.86</td>\n",
       "    </tr>\n",
       "    <tr>\n",
       "      <th>15</th>\n",
       "      <td>2021-04-01</td>\n",
       "      <td>2021-04-30</td>\n",
       "      <td>191.29</td>\n",
       "      <td>61.48</td>\n",
       "      <td>50.37</td>\n",
       "      <td>303.14</td>\n",
       "    </tr>\n",
       "    <tr>\n",
       "      <th>16</th>\n",
       "      <td>2021-05-01</td>\n",
       "      <td>2021-05-31</td>\n",
       "      <td>171.07</td>\n",
       "      <td>64.97</td>\n",
       "      <td>66.72</td>\n",
       "      <td>302.76</td>\n",
       "    </tr>\n",
       "    <tr>\n",
       "      <th>17</th>\n",
       "      <td>2021-06-01</td>\n",
       "      <td>2021-06-30</td>\n",
       "      <td>246.12</td>\n",
       "      <td>77.77</td>\n",
       "      <td>69.86</td>\n",
       "      <td>393.75</td>\n",
       "    </tr>\n",
       "    <tr>\n",
       "      <th>18</th>\n",
       "      <td>2021-07-01</td>\n",
       "      <td>2021-07-31</td>\n",
       "      <td>266.32</td>\n",
       "      <td>128.84</td>\n",
       "      <td>126.92</td>\n",
       "      <td>522.08</td>\n",
       "    </tr>\n",
       "    <tr>\n",
       "      <th>19</th>\n",
       "      <td>2021-08-01</td>\n",
       "      <td>2021-08-31</td>\n",
       "      <td>307.83</td>\n",
       "      <td>161.20</td>\n",
       "      <td>145.70</td>\n",
       "      <td>614.73</td>\n",
       "    </tr>\n",
       "    <tr>\n",
       "      <th>20</th>\n",
       "      <td>2021-09-01</td>\n",
       "      <td>2021-09-30</td>\n",
       "      <td>192.39</td>\n",
       "      <td>60.84</td>\n",
       "      <td>53.22</td>\n",
       "      <td>306.45</td>\n",
       "    </tr>\n",
       "    <tr>\n",
       "      <th>21</th>\n",
       "      <td>2021-10-01</td>\n",
       "      <td>2021-10-31</td>\n",
       "      <td>317.82</td>\n",
       "      <td>69.83</td>\n",
       "      <td>77.88</td>\n",
       "      <td>465.53</td>\n",
       "    </tr>\n",
       "    <tr>\n",
       "      <th>22</th>\n",
       "      <td>2021-11-01</td>\n",
       "      <td>2021-11-30</td>\n",
       "      <td>713.25</td>\n",
       "      <td>176.45</td>\n",
       "      <td>191.15</td>\n",
       "      <td>1080.85</td>\n",
       "    </tr>\n",
       "    <tr>\n",
       "      <th>23</th>\n",
       "      <td>2021-12-01</td>\n",
       "      <td>2021-12-31</td>\n",
       "      <td>964.37</td>\n",
       "      <td>253.53</td>\n",
       "      <td>246.47</td>\n",
       "      <td>1464.37</td>\n",
       "    </tr>\n",
       "  </tbody>\n",
       "</table>\n",
       "</div>"
      ],
      "text/plain": [
       "         From         To  Off-Peak  Mid-Peak  On-Peak      kWh\n",
       "0  2020-01-01 2020-01-31    192.65     57.35    59.80   309.80\n",
       "1  2020-02-01 2020-02-29     17.01     46.20    40.48   103.69\n",
       "2  2020-03-01 2020-03-31     69.91     34.71    29.70   134.32\n",
       "3  2020-04-01 2020-04-30    261.68      0.00     0.00   261.68\n",
       "4  2020-05-01 2020-05-31    279.40      0.00     0.00   279.40\n",
       "5  2020-06-01 2020-06-30    395.71      0.00     0.00   395.71\n",
       "6  2020-07-01 2020-07-31     35.31      0.00     0.00    35.31\n",
       "7  2020-08-01 2020-08-31    275.81    102.20   142.99   521.00\n",
       "8  2020-09-01 2020-09-30    153.93     49.52    50.55   254.00\n",
       "9  2020-10-01 2020-10-31    148.12     44.68    52.52   245.32\n",
       "10 2020-11-01 2020-11-30    192.84     58.17    59.10   310.11\n",
       "11 2020-12-01 2020-12-31    206.57     82.67    74.46   363.70\n",
       "12 2021-01-01 2021-01-31    276.97     81.60    73.10   431.67\n",
       "13 2021-02-01 2021-02-28    230.79     94.31    79.78   404.88\n",
       "14 2021-03-01 2021-03-31    210.51     55.97    61.38   327.86\n",
       "15 2021-04-01 2021-04-30    191.29     61.48    50.37   303.14\n",
       "16 2021-05-01 2021-05-31    171.07     64.97    66.72   302.76\n",
       "17 2021-06-01 2021-06-30    246.12     77.77    69.86   393.75\n",
       "18 2021-07-01 2021-07-31    266.32    128.84   126.92   522.08\n",
       "19 2021-08-01 2021-08-31    307.83    161.20   145.70   614.73\n",
       "20 2021-09-01 2021-09-30    192.39     60.84    53.22   306.45\n",
       "21 2021-10-01 2021-10-31    317.82     69.83    77.88   465.53\n",
       "22 2021-11-01 2021-11-30    713.25    176.45   191.15  1080.85\n",
       "23 2021-12-01 2021-12-31    964.37    253.53   246.47  1464.37"
      ]
     },
     "execution_count": 145,
     "metadata": {},
     "output_type": "execute_result"
    }
   ],
   "source": [
    "elec_data = pd.read_csv('Elec_data.csv',parse_dates = ['To','From'])\n",
    "elec_data.head(24)"
   ]
  },
  {
   "cell_type": "code",
   "execution_count": 146,
   "metadata": {},
   "outputs": [
    {
     "data": {
      "text/html": [
       "<div>\n",
       "<style scoped>\n",
       "    .dataframe tbody tr th:only-of-type {\n",
       "        vertical-align: middle;\n",
       "    }\n",
       "\n",
       "    .dataframe tbody tr th {\n",
       "        vertical-align: top;\n",
       "    }\n",
       "\n",
       "    .dataframe thead th {\n",
       "        text-align: right;\n",
       "    }\n",
       "</style>\n",
       "<table border=\"1\" class=\"dataframe\">\n",
       "  <thead>\n",
       "    <tr style=\"text-align: right;\">\n",
       "      <th></th>\n",
       "      <th>From</th>\n",
       "      <th>To</th>\n",
       "      <th>Off-Peak</th>\n",
       "      <th>Mid-Peak</th>\n",
       "      <th>On-Peak</th>\n",
       "      <th>kWh</th>\n",
       "      <th>HDDs</th>\n",
       "      <th>CDDs</th>\n",
       "    </tr>\n",
       "  </thead>\n",
       "  <tbody>\n",
       "    <tr>\n",
       "      <th>0</th>\n",
       "      <td>2020-01-01</td>\n",
       "      <td>2020-01-31</td>\n",
       "      <td>192.65</td>\n",
       "      <td>57.35</td>\n",
       "      <td>59.80</td>\n",
       "      <td>309.80</td>\n",
       "      <td>533.895833</td>\n",
       "      <td>0.000000</td>\n",
       "    </tr>\n",
       "    <tr>\n",
       "      <th>1</th>\n",
       "      <td>2020-02-01</td>\n",
       "      <td>2020-02-29</td>\n",
       "      <td>17.01</td>\n",
       "      <td>46.20</td>\n",
       "      <td>40.48</td>\n",
       "      <td>103.69</td>\n",
       "      <td>541.679167</td>\n",
       "      <td>0.000000</td>\n",
       "    </tr>\n",
       "    <tr>\n",
       "      <th>2</th>\n",
       "      <td>2020-03-01</td>\n",
       "      <td>2020-03-31</td>\n",
       "      <td>69.91</td>\n",
       "      <td>34.71</td>\n",
       "      <td>29.70</td>\n",
       "      <td>134.32</td>\n",
       "      <td>397.525000</td>\n",
       "      <td>0.000000</td>\n",
       "    </tr>\n",
       "    <tr>\n",
       "      <th>3</th>\n",
       "      <td>2020-04-01</td>\n",
       "      <td>2020-04-30</td>\n",
       "      <td>261.68</td>\n",
       "      <td>0.00</td>\n",
       "      <td>0.00</td>\n",
       "      <td>261.68</td>\n",
       "      <td>301.595833</td>\n",
       "      <td>0.000000</td>\n",
       "    </tr>\n",
       "    <tr>\n",
       "      <th>4</th>\n",
       "      <td>2020-05-01</td>\n",
       "      <td>2020-05-31</td>\n",
       "      <td>279.40</td>\n",
       "      <td>0.00</td>\n",
       "      <td>0.00</td>\n",
       "      <td>279.40</td>\n",
       "      <td>159.300000</td>\n",
       "      <td>3.687500</td>\n",
       "    </tr>\n",
       "    <tr>\n",
       "      <th>5</th>\n",
       "      <td>2020-06-01</td>\n",
       "      <td>2020-06-30</td>\n",
       "      <td>395.71</td>\n",
       "      <td>0.00</td>\n",
       "      <td>0.00</td>\n",
       "      <td>395.71</td>\n",
       "      <td>16.395833</td>\n",
       "      <td>18.295833</td>\n",
       "    </tr>\n",
       "    <tr>\n",
       "      <th>6</th>\n",
       "      <td>2020-07-01</td>\n",
       "      <td>2020-07-31</td>\n",
       "      <td>35.31</td>\n",
       "      <td>0.00</td>\n",
       "      <td>0.00</td>\n",
       "      <td>35.31</td>\n",
       "      <td>0.016667</td>\n",
       "      <td>50.200000</td>\n",
       "    </tr>\n",
       "    <tr>\n",
       "      <th>7</th>\n",
       "      <td>2020-08-01</td>\n",
       "      <td>2020-08-31</td>\n",
       "      <td>275.81</td>\n",
       "      <td>102.20</td>\n",
       "      <td>142.99</td>\n",
       "      <td>521.00</td>\n",
       "      <td>2.341667</td>\n",
       "      <td>20.204167</td>\n",
       "    </tr>\n",
       "    <tr>\n",
       "      <th>8</th>\n",
       "      <td>2020-09-01</td>\n",
       "      <td>2020-09-30</td>\n",
       "      <td>153.93</td>\n",
       "      <td>49.52</td>\n",
       "      <td>50.55</td>\n",
       "      <td>254.00</td>\n",
       "      <td>43.883333</td>\n",
       "      <td>1.870833</td>\n",
       "    </tr>\n",
       "    <tr>\n",
       "      <th>9</th>\n",
       "      <td>2020-10-01</td>\n",
       "      <td>2020-10-31</td>\n",
       "      <td>148.12</td>\n",
       "      <td>44.68</td>\n",
       "      <td>52.52</td>\n",
       "      <td>245.32</td>\n",
       "      <td>206.804167</td>\n",
       "      <td>0.000000</td>\n",
       "    </tr>\n",
       "    <tr>\n",
       "      <th>10</th>\n",
       "      <td>2020-11-01</td>\n",
       "      <td>2020-11-30</td>\n",
       "      <td>192.84</td>\n",
       "      <td>58.17</td>\n",
       "      <td>59.10</td>\n",
       "      <td>310.11</td>\n",
       "      <td>277.708333</td>\n",
       "      <td>0.000000</td>\n",
       "    </tr>\n",
       "    <tr>\n",
       "      <th>11</th>\n",
       "      <td>2020-12-01</td>\n",
       "      <td>2020-12-31</td>\n",
       "      <td>206.57</td>\n",
       "      <td>82.67</td>\n",
       "      <td>74.46</td>\n",
       "      <td>363.70</td>\n",
       "      <td>504.058333</td>\n",
       "      <td>0.000000</td>\n",
       "    </tr>\n",
       "    <tr>\n",
       "      <th>12</th>\n",
       "      <td>2021-01-01</td>\n",
       "      <td>2021-01-31</td>\n",
       "      <td>276.97</td>\n",
       "      <td>81.60</td>\n",
       "      <td>73.10</td>\n",
       "      <td>431.67</td>\n",
       "      <td>569.108333</td>\n",
       "      <td>0.000000</td>\n",
       "    </tr>\n",
       "    <tr>\n",
       "      <th>13</th>\n",
       "      <td>2021-02-01</td>\n",
       "      <td>2021-02-28</td>\n",
       "      <td>230.79</td>\n",
       "      <td>94.31</td>\n",
       "      <td>79.78</td>\n",
       "      <td>404.88</td>\n",
       "      <td>591.412500</td>\n",
       "      <td>0.000000</td>\n",
       "    </tr>\n",
       "    <tr>\n",
       "      <th>14</th>\n",
       "      <td>2021-03-01</td>\n",
       "      <td>2021-03-31</td>\n",
       "      <td>210.51</td>\n",
       "      <td>55.97</td>\n",
       "      <td>61.38</td>\n",
       "      <td>327.86</td>\n",
       "      <td>393.262500</td>\n",
       "      <td>0.000000</td>\n",
       "    </tr>\n",
       "    <tr>\n",
       "      <th>15</th>\n",
       "      <td>2021-04-01</td>\n",
       "      <td>2021-04-30</td>\n",
       "      <td>191.29</td>\n",
       "      <td>61.48</td>\n",
       "      <td>50.37</td>\n",
       "      <td>303.14</td>\n",
       "      <td>247.162500</td>\n",
       "      <td>0.000000</td>\n",
       "    </tr>\n",
       "    <tr>\n",
       "      <th>16</th>\n",
       "      <td>2021-05-01</td>\n",
       "      <td>2021-05-31</td>\n",
       "      <td>171.07</td>\n",
       "      <td>64.97</td>\n",
       "      <td>66.72</td>\n",
       "      <td>302.76</td>\n",
       "      <td>124.237500</td>\n",
       "      <td>5.762500</td>\n",
       "    </tr>\n",
       "    <tr>\n",
       "      <th>17</th>\n",
       "      <td>2021-06-01</td>\n",
       "      <td>2021-06-30</td>\n",
       "      <td>246.12</td>\n",
       "      <td>77.77</td>\n",
       "      <td>69.86</td>\n",
       "      <td>393.75</td>\n",
       "      <td>7.633333</td>\n",
       "      <td>20.041667</td>\n",
       "    </tr>\n",
       "    <tr>\n",
       "      <th>18</th>\n",
       "      <td>2021-07-01</td>\n",
       "      <td>2021-07-31</td>\n",
       "      <td>266.32</td>\n",
       "      <td>128.84</td>\n",
       "      <td>126.92</td>\n",
       "      <td>522.08</td>\n",
       "      <td>2.154167</td>\n",
       "      <td>12.908333</td>\n",
       "    </tr>\n",
       "    <tr>\n",
       "      <th>19</th>\n",
       "      <td>2021-08-01</td>\n",
       "      <td>2021-08-31</td>\n",
       "      <td>307.83</td>\n",
       "      <td>161.20</td>\n",
       "      <td>145.70</td>\n",
       "      <td>614.73</td>\n",
       "      <td>1.437500</td>\n",
       "      <td>29.516667</td>\n",
       "    </tr>\n",
       "    <tr>\n",
       "      <th>20</th>\n",
       "      <td>2021-09-01</td>\n",
       "      <td>2021-09-30</td>\n",
       "      <td>192.39</td>\n",
       "      <td>60.84</td>\n",
       "      <td>53.22</td>\n",
       "      <td>306.45</td>\n",
       "      <td>28.154167</td>\n",
       "      <td>0.620833</td>\n",
       "    </tr>\n",
       "    <tr>\n",
       "      <th>21</th>\n",
       "      <td>2021-10-01</td>\n",
       "      <td>2021-10-31</td>\n",
       "      <td>317.82</td>\n",
       "      <td>69.83</td>\n",
       "      <td>77.88</td>\n",
       "      <td>465.53</td>\n",
       "      <td>103.320833</td>\n",
       "      <td>0.025000</td>\n",
       "    </tr>\n",
       "    <tr>\n",
       "      <th>22</th>\n",
       "      <td>2021-11-01</td>\n",
       "      <td>2021-11-30</td>\n",
       "      <td>713.25</td>\n",
       "      <td>176.45</td>\n",
       "      <td>191.15</td>\n",
       "      <td>1080.85</td>\n",
       "      <td>355.212500</td>\n",
       "      <td>0.000000</td>\n",
       "    </tr>\n",
       "    <tr>\n",
       "      <th>23</th>\n",
       "      <td>2021-12-01</td>\n",
       "      <td>2021-12-31</td>\n",
       "      <td>964.37</td>\n",
       "      <td>253.53</td>\n",
       "      <td>246.47</td>\n",
       "      <td>1464.37</td>\n",
       "      <td>447.708333</td>\n",
       "      <td>0.000000</td>\n",
       "    </tr>\n",
       "    <tr>\n",
       "      <th>24</th>\n",
       "      <td>2022-01-01</td>\n",
       "      <td>2022-01-31</td>\n",
       "      <td>1610.28</td>\n",
       "      <td>314.37</td>\n",
       "      <td>321.33</td>\n",
       "      <td>2245.98</td>\n",
       "      <td>732.379167</td>\n",
       "      <td>0.000000</td>\n",
       "    </tr>\n",
       "    <tr>\n",
       "      <th>25</th>\n",
       "      <td>2022-02-01</td>\n",
       "      <td>2022-02-28</td>\n",
       "      <td>1235.67</td>\n",
       "      <td>258.33</td>\n",
       "      <td>278.88</td>\n",
       "      <td>1772.88</td>\n",
       "      <td>562.070833</td>\n",
       "      <td>0.000000</td>\n",
       "    </tr>\n",
       "    <tr>\n",
       "      <th>26</th>\n",
       "      <td>2022-03-01</td>\n",
       "      <td>2022-03-31</td>\n",
       "      <td>963.42</td>\n",
       "      <td>217.97</td>\n",
       "      <td>242.93</td>\n",
       "      <td>1424.32</td>\n",
       "      <td>463.058333</td>\n",
       "      <td>0.000000</td>\n",
       "    </tr>\n",
       "    <tr>\n",
       "      <th>27</th>\n",
       "      <td>2022-04-01</td>\n",
       "      <td>2022-04-30</td>\n",
       "      <td>838.31</td>\n",
       "      <td>153.10</td>\n",
       "      <td>180.11</td>\n",
       "      <td>1171.52</td>\n",
       "      <td>284.004167</td>\n",
       "      <td>0.000000</td>\n",
       "    </tr>\n",
       "    <tr>\n",
       "      <th>28</th>\n",
       "      <td>2022-05-01</td>\n",
       "      <td>2022-05-31</td>\n",
       "      <td>426.49</td>\n",
       "      <td>83.14</td>\n",
       "      <td>88.50</td>\n",
       "      <td>598.13</td>\n",
       "      <td>74.758333</td>\n",
       "      <td>6.520833</td>\n",
       "    </tr>\n",
       "    <tr>\n",
       "      <th>29</th>\n",
       "      <td>2022-06-01</td>\n",
       "      <td>2022-06-30</td>\n",
       "      <td>260.76</td>\n",
       "      <td>64.17</td>\n",
       "      <td>65.12</td>\n",
       "      <td>390.05</td>\n",
       "      <td>16.991667</td>\n",
       "      <td>14.150000</td>\n",
       "    </tr>\n",
       "  </tbody>\n",
       "</table>\n",
       "</div>"
      ],
      "text/plain": [
       "         From         To  Off-Peak  Mid-Peak  On-Peak      kWh        HDDs  \\\n",
       "0  2020-01-01 2020-01-31    192.65     57.35    59.80   309.80  533.895833   \n",
       "1  2020-02-01 2020-02-29     17.01     46.20    40.48   103.69  541.679167   \n",
       "2  2020-03-01 2020-03-31     69.91     34.71    29.70   134.32  397.525000   \n",
       "3  2020-04-01 2020-04-30    261.68      0.00     0.00   261.68  301.595833   \n",
       "4  2020-05-01 2020-05-31    279.40      0.00     0.00   279.40  159.300000   \n",
       "5  2020-06-01 2020-06-30    395.71      0.00     0.00   395.71   16.395833   \n",
       "6  2020-07-01 2020-07-31     35.31      0.00     0.00    35.31    0.016667   \n",
       "7  2020-08-01 2020-08-31    275.81    102.20   142.99   521.00    2.341667   \n",
       "8  2020-09-01 2020-09-30    153.93     49.52    50.55   254.00   43.883333   \n",
       "9  2020-10-01 2020-10-31    148.12     44.68    52.52   245.32  206.804167   \n",
       "10 2020-11-01 2020-11-30    192.84     58.17    59.10   310.11  277.708333   \n",
       "11 2020-12-01 2020-12-31    206.57     82.67    74.46   363.70  504.058333   \n",
       "12 2021-01-01 2021-01-31    276.97     81.60    73.10   431.67  569.108333   \n",
       "13 2021-02-01 2021-02-28    230.79     94.31    79.78   404.88  591.412500   \n",
       "14 2021-03-01 2021-03-31    210.51     55.97    61.38   327.86  393.262500   \n",
       "15 2021-04-01 2021-04-30    191.29     61.48    50.37   303.14  247.162500   \n",
       "16 2021-05-01 2021-05-31    171.07     64.97    66.72   302.76  124.237500   \n",
       "17 2021-06-01 2021-06-30    246.12     77.77    69.86   393.75    7.633333   \n",
       "18 2021-07-01 2021-07-31    266.32    128.84   126.92   522.08    2.154167   \n",
       "19 2021-08-01 2021-08-31    307.83    161.20   145.70   614.73    1.437500   \n",
       "20 2021-09-01 2021-09-30    192.39     60.84    53.22   306.45   28.154167   \n",
       "21 2021-10-01 2021-10-31    317.82     69.83    77.88   465.53  103.320833   \n",
       "22 2021-11-01 2021-11-30    713.25    176.45   191.15  1080.85  355.212500   \n",
       "23 2021-12-01 2021-12-31    964.37    253.53   246.47  1464.37  447.708333   \n",
       "24 2022-01-01 2022-01-31   1610.28    314.37   321.33  2245.98  732.379167   \n",
       "25 2022-02-01 2022-02-28   1235.67    258.33   278.88  1772.88  562.070833   \n",
       "26 2022-03-01 2022-03-31    963.42    217.97   242.93  1424.32  463.058333   \n",
       "27 2022-04-01 2022-04-30    838.31    153.10   180.11  1171.52  284.004167   \n",
       "28 2022-05-01 2022-05-31    426.49     83.14    88.50   598.13   74.758333   \n",
       "29 2022-06-01 2022-06-30    260.76     64.17    65.12   390.05   16.991667   \n",
       "\n",
       "         CDDs  \n",
       "0    0.000000  \n",
       "1    0.000000  \n",
       "2    0.000000  \n",
       "3    0.000000  \n",
       "4    3.687500  \n",
       "5   18.295833  \n",
       "6   50.200000  \n",
       "7   20.204167  \n",
       "8    1.870833  \n",
       "9    0.000000  \n",
       "10   0.000000  \n",
       "11   0.000000  \n",
       "12   0.000000  \n",
       "13   0.000000  \n",
       "14   0.000000  \n",
       "15   0.000000  \n",
       "16   5.762500  \n",
       "17  20.041667  \n",
       "18  12.908333  \n",
       "19  29.516667  \n",
       "20   0.620833  \n",
       "21   0.025000  \n",
       "22   0.000000  \n",
       "23   0.000000  \n",
       "24   0.000000  \n",
       "25   0.000000  \n",
       "26   0.000000  \n",
       "27   0.000000  \n",
       "28   6.520833  \n",
       "29  14.150000  "
      ]
     },
     "execution_count": 146,
     "metadata": {},
     "output_type": "execute_result"
    }
   ],
   "source": [
    "# Add HDDs and CDDs\n",
    "elec_data['HDDs'] = [HDD_total(x,y)['HDDs'] for x,y in zip(elec_data.From,elec_data.To)]\n",
    "elec_data['CDDs'] = [HDD_total(x,y)['CDDs'] for x,y in zip(elec_data.From,elec_data.To)]\n",
    "elec_data"
   ]
  },
  {
   "cell_type": "code",
   "execution_count": 147,
   "metadata": {},
   "outputs": [
    {
     "data": {
      "text/plain": [
       "Text(0, 0.5, 'Electricity Consumption [kWh]')"
      ]
     },
     "execution_count": 147,
     "metadata": {},
     "output_type": "execute_result"
    },
    {
     "data": {
      "image/png": "[encoded data removed]",
      "text/plain": [
       "<Figure size 1080x360 with 1 Axes>"
      ]
     },
     "metadata": {
      "needs_background": "light"
     },
     "output_type": "display_data"
    }
   ],
   "source": [
    "# Quick time-series visualization\n",
    "fig,ax = plt.subplots(figsize=(15,5))\n",
    "ax.bar(elec_data.To,elec_data.kWh, width = -20, align = 'edge',color = step_blue)\n",
    "ax.xaxis.set_major_formatter(MonthFmt)\n",
    "ax.set_ylabel('Electricity Consumption [kWh]')"
   ]
  },
  {
   "cell_type": "markdown",
   "metadata": {},
   "source": [
    "As expected, electricity consumption increased substantially post-retrofit."
   ]
  },
  {
   "cell_type": "code",
   "execution_count": 148,
   "metadata": {},
   "outputs": [
    {
     "data": {
      "text/html": [
       "<div>\n",
       "<style scoped>\n",
       "    .dataframe tbody tr th:only-of-type {\n",
       "        vertical-align: middle;\n",
       "    }\n",
       "\n",
       "    .dataframe tbody tr th {\n",
       "        vertical-align: top;\n",
       "    }\n",
       "\n",
       "    .dataframe thead th {\n",
       "        text-align: right;\n",
       "    }\n",
       "</style>\n",
       "<table border=\"1\" class=\"dataframe\">\n",
       "  <thead>\n",
       "    <tr style=\"text-align: right;\">\n",
       "      <th></th>\n",
       "      <th>From</th>\n",
       "      <th>To</th>\n",
       "      <th>Off-Peak</th>\n",
       "      <th>Mid-Peak</th>\n",
       "      <th>On-Peak</th>\n",
       "      <th>kWh</th>\n",
       "      <th>HDDs</th>\n",
       "      <th>CDDs</th>\n",
       "    </tr>\n",
       "  </thead>\n",
       "  <tbody>\n",
       "    <tr>\n",
       "      <th>0</th>\n",
       "      <td>2020-01-01</td>\n",
       "      <td>2020-01-31</td>\n",
       "      <td>192.65</td>\n",
       "      <td>57.35</td>\n",
       "      <td>59.80</td>\n",
       "      <td>309.80</td>\n",
       "      <td>533.895833</td>\n",
       "      <td>0.000000</td>\n",
       "    </tr>\n",
       "    <tr>\n",
       "      <th>1</th>\n",
       "      <td>2020-02-01</td>\n",
       "      <td>2020-02-29</td>\n",
       "      <td>17.01</td>\n",
       "      <td>46.20</td>\n",
       "      <td>40.48</td>\n",
       "      <td>103.69</td>\n",
       "      <td>541.679167</td>\n",
       "      <td>0.000000</td>\n",
       "    </tr>\n",
       "    <tr>\n",
       "      <th>2</th>\n",
       "      <td>2020-03-01</td>\n",
       "      <td>2020-03-31</td>\n",
       "      <td>69.91</td>\n",
       "      <td>34.71</td>\n",
       "      <td>29.70</td>\n",
       "      <td>134.32</td>\n",
       "      <td>397.525000</td>\n",
       "      <td>0.000000</td>\n",
       "    </tr>\n",
       "    <tr>\n",
       "      <th>3</th>\n",
       "      <td>2020-04-01</td>\n",
       "      <td>2020-04-30</td>\n",
       "      <td>261.68</td>\n",
       "      <td>0.00</td>\n",
       "      <td>0.00</td>\n",
       "      <td>261.68</td>\n",
       "      <td>301.595833</td>\n",
       "      <td>0.000000</td>\n",
       "    </tr>\n",
       "    <tr>\n",
       "      <th>4</th>\n",
       "      <td>2020-05-01</td>\n",
       "      <td>2020-05-31</td>\n",
       "      <td>279.40</td>\n",
       "      <td>0.00</td>\n",
       "      <td>0.00</td>\n",
       "      <td>279.40</td>\n",
       "      <td>159.300000</td>\n",
       "      <td>3.687500</td>\n",
       "    </tr>\n",
       "    <tr>\n",
       "      <th>5</th>\n",
       "      <td>2020-06-01</td>\n",
       "      <td>2020-06-30</td>\n",
       "      <td>395.71</td>\n",
       "      <td>0.00</td>\n",
       "      <td>0.00</td>\n",
       "      <td>395.71</td>\n",
       "      <td>16.395833</td>\n",
       "      <td>18.295833</td>\n",
       "    </tr>\n",
       "    <tr>\n",
       "      <th>6</th>\n",
       "      <td>2020-07-01</td>\n",
       "      <td>2020-07-31</td>\n",
       "      <td>35.31</td>\n",
       "      <td>0.00</td>\n",
       "      <td>0.00</td>\n",
       "      <td>35.31</td>\n",
       "      <td>0.016667</td>\n",
       "      <td>50.200000</td>\n",
       "    </tr>\n",
       "    <tr>\n",
       "      <th>7</th>\n",
       "      <td>2020-08-01</td>\n",
       "      <td>2020-08-31</td>\n",
       "      <td>275.81</td>\n",
       "      <td>102.20</td>\n",
       "      <td>142.99</td>\n",
       "      <td>521.00</td>\n",
       "      <td>2.341667</td>\n",
       "      <td>20.204167</td>\n",
       "    </tr>\n",
       "    <tr>\n",
       "      <th>8</th>\n",
       "      <td>2020-09-01</td>\n",
       "      <td>2020-09-30</td>\n",
       "      <td>153.93</td>\n",
       "      <td>49.52</td>\n",
       "      <td>50.55</td>\n",
       "      <td>254.00</td>\n",
       "      <td>43.883333</td>\n",
       "      <td>1.870833</td>\n",
       "    </tr>\n",
       "    <tr>\n",
       "      <th>9</th>\n",
       "      <td>2020-10-01</td>\n",
       "      <td>2020-10-31</td>\n",
       "      <td>148.12</td>\n",
       "      <td>44.68</td>\n",
       "      <td>52.52</td>\n",
       "      <td>245.32</td>\n",
       "      <td>206.804167</td>\n",
       "      <td>0.000000</td>\n",
       "    </tr>\n",
       "    <tr>\n",
       "      <th>10</th>\n",
       "      <td>2020-11-01</td>\n",
       "      <td>2020-11-30</td>\n",
       "      <td>192.84</td>\n",
       "      <td>58.17</td>\n",
       "      <td>59.10</td>\n",
       "      <td>310.11</td>\n",
       "      <td>277.708333</td>\n",
       "      <td>0.000000</td>\n",
       "    </tr>\n",
       "    <tr>\n",
       "      <th>11</th>\n",
       "      <td>2020-12-01</td>\n",
       "      <td>2020-12-31</td>\n",
       "      <td>206.57</td>\n",
       "      <td>82.67</td>\n",
       "      <td>74.46</td>\n",
       "      <td>363.70</td>\n",
       "      <td>504.058333</td>\n",
       "      <td>0.000000</td>\n",
       "    </tr>\n",
       "    <tr>\n",
       "      <th>12</th>\n",
       "      <td>2021-01-01</td>\n",
       "      <td>2021-01-31</td>\n",
       "      <td>276.97</td>\n",
       "      <td>81.60</td>\n",
       "      <td>73.10</td>\n",
       "      <td>431.67</td>\n",
       "      <td>569.108333</td>\n",
       "      <td>0.000000</td>\n",
       "    </tr>\n",
       "    <tr>\n",
       "      <th>13</th>\n",
       "      <td>2021-02-01</td>\n",
       "      <td>2021-02-28</td>\n",
       "      <td>230.79</td>\n",
       "      <td>94.31</td>\n",
       "      <td>79.78</td>\n",
       "      <td>404.88</td>\n",
       "      <td>591.412500</td>\n",
       "      <td>0.000000</td>\n",
       "    </tr>\n",
       "    <tr>\n",
       "      <th>14</th>\n",
       "      <td>2021-03-01</td>\n",
       "      <td>2021-03-31</td>\n",
       "      <td>210.51</td>\n",
       "      <td>55.97</td>\n",
       "      <td>61.38</td>\n",
       "      <td>327.86</td>\n",
       "      <td>393.262500</td>\n",
       "      <td>0.000000</td>\n",
       "    </tr>\n",
       "    <tr>\n",
       "      <th>15</th>\n",
       "      <td>2021-04-01</td>\n",
       "      <td>2021-04-30</td>\n",
       "      <td>191.29</td>\n",
       "      <td>61.48</td>\n",
       "      <td>50.37</td>\n",
       "      <td>303.14</td>\n",
       "      <td>247.162500</td>\n",
       "      <td>0.000000</td>\n",
       "    </tr>\n",
       "    <tr>\n",
       "      <th>16</th>\n",
       "      <td>2021-05-01</td>\n",
       "      <td>2021-05-31</td>\n",
       "      <td>171.07</td>\n",
       "      <td>64.97</td>\n",
       "      <td>66.72</td>\n",
       "      <td>302.76</td>\n",
       "      <td>124.237500</td>\n",
       "      <td>5.762500</td>\n",
       "    </tr>\n",
       "    <tr>\n",
       "      <th>17</th>\n",
       "      <td>2021-06-01</td>\n",
       "      <td>2021-06-30</td>\n",
       "      <td>246.12</td>\n",
       "      <td>77.77</td>\n",
       "      <td>69.86</td>\n",
       "      <td>393.75</td>\n",
       "      <td>7.633333</td>\n",
       "      <td>20.041667</td>\n",
       "    </tr>\n",
       "    <tr>\n",
       "      <th>18</th>\n",
       "      <td>2021-07-01</td>\n",
       "      <td>2021-07-31</td>\n",
       "      <td>266.32</td>\n",
       "      <td>128.84</td>\n",
       "      <td>126.92</td>\n",
       "      <td>522.08</td>\n",
       "      <td>2.154167</td>\n",
       "      <td>12.908333</td>\n",
       "    </tr>\n",
       "    <tr>\n",
       "      <th>19</th>\n",
       "      <td>2021-08-01</td>\n",
       "      <td>2021-08-31</td>\n",
       "      <td>307.83</td>\n",
       "      <td>161.20</td>\n",
       "      <td>145.70</td>\n",
       "      <td>614.73</td>\n",
       "      <td>1.437500</td>\n",
       "      <td>29.516667</td>\n",
       "    </tr>\n",
       "    <tr>\n",
       "      <th>20</th>\n",
       "      <td>2021-09-01</td>\n",
       "      <td>2021-09-30</td>\n",
       "      <td>192.39</td>\n",
       "      <td>60.84</td>\n",
       "      <td>53.22</td>\n",
       "      <td>306.45</td>\n",
       "      <td>28.154167</td>\n",
       "      <td>0.620833</td>\n",
       "    </tr>\n",
       "    <tr>\n",
       "      <th>21</th>\n",
       "      <td>2021-10-01</td>\n",
       "      <td>2021-10-31</td>\n",
       "      <td>317.82</td>\n",
       "      <td>69.83</td>\n",
       "      <td>77.88</td>\n",
       "      <td>465.53</td>\n",
       "      <td>103.320833</td>\n",
       "      <td>0.025000</td>\n",
       "    </tr>\n",
       "  </tbody>\n",
       "</table>\n",
       "</div>"
      ],
      "text/plain": [
       "         From         To  Off-Peak  Mid-Peak  On-Peak     kWh        HDDs  \\\n",
       "0  2020-01-01 2020-01-31    192.65     57.35    59.80  309.80  533.895833   \n",
       "1  2020-02-01 2020-02-29     17.01     46.20    40.48  103.69  541.679167   \n",
       "2  2020-03-01 2020-03-31     69.91     34.71    29.70  134.32  397.525000   \n",
       "3  2020-04-01 2020-04-30    261.68      0.00     0.00  261.68  301.595833   \n",
       "4  2020-05-01 2020-05-31    279.40      0.00     0.00  279.40  159.300000   \n",
       "5  2020-06-01 2020-06-30    395.71      0.00     0.00  395.71   16.395833   \n",
       "6  2020-07-01 2020-07-31     35.31      0.00     0.00   35.31    0.016667   \n",
       "7  2020-08-01 2020-08-31    275.81    102.20   142.99  521.00    2.341667   \n",
       "8  2020-09-01 2020-09-30    153.93     49.52    50.55  254.00   43.883333   \n",
       "9  2020-10-01 2020-10-31    148.12     44.68    52.52  245.32  206.804167   \n",
       "10 2020-11-01 2020-11-30    192.84     58.17    59.10  310.11  277.708333   \n",
       "11 2020-12-01 2020-12-31    206.57     82.67    74.46  363.70  504.058333   \n",
       "12 2021-01-01 2021-01-31    276.97     81.60    73.10  431.67  569.108333   \n",
       "13 2021-02-01 2021-02-28    230.79     94.31    79.78  404.88  591.412500   \n",
       "14 2021-03-01 2021-03-31    210.51     55.97    61.38  327.86  393.262500   \n",
       "15 2021-04-01 2021-04-30    191.29     61.48    50.37  303.14  247.162500   \n",
       "16 2021-05-01 2021-05-31    171.07     64.97    66.72  302.76  124.237500   \n",
       "17 2021-06-01 2021-06-30    246.12     77.77    69.86  393.75    7.633333   \n",
       "18 2021-07-01 2021-07-31    266.32    128.84   126.92  522.08    2.154167   \n",
       "19 2021-08-01 2021-08-31    307.83    161.20   145.70  614.73    1.437500   \n",
       "20 2021-09-01 2021-09-30    192.39     60.84    53.22  306.45   28.154167   \n",
       "21 2021-10-01 2021-10-31    317.82     69.83    77.88  465.53  103.320833   \n",
       "\n",
       "         CDDs  \n",
       "0    0.000000  \n",
       "1    0.000000  \n",
       "2    0.000000  \n",
       "3    0.000000  \n",
       "4    3.687500  \n",
       "5   18.295833  \n",
       "6   50.200000  \n",
       "7   20.204167  \n",
       "8    1.870833  \n",
       "9    0.000000  \n",
       "10   0.000000  \n",
       "11   0.000000  \n",
       "12   0.000000  \n",
       "13   0.000000  \n",
       "14   0.000000  \n",
       "15   0.000000  \n",
       "16   5.762500  \n",
       "17  20.041667  \n",
       "18  12.908333  \n",
       "19  29.516667  \n",
       "20   0.620833  \n",
       "21   0.025000  "
      ]
     },
     "execution_count": 148,
     "metadata": {},
     "output_type": "execute_result"
    }
   ],
   "source": [
    "pre_elec_data = elec_data.loc[(elec_data.index < 22)].copy()\n",
    "pre_elec_data"
   ]
  },
  {
   "cell_type": "code",
   "execution_count": 149,
   "metadata": {},
   "outputs": [
    {
     "data": {
      "text/html": [
       "<div>\n",
       "<style scoped>\n",
       "    .dataframe tbody tr th:only-of-type {\n",
       "        vertical-align: middle;\n",
       "    }\n",
       "\n",
       "    .dataframe tbody tr th {\n",
       "        vertical-align: top;\n",
       "    }\n",
       "\n",
       "    .dataframe thead th {\n",
       "        text-align: right;\n",
       "    }\n",
       "</style>\n",
       "<table border=\"1\" class=\"dataframe\">\n",
       "  <thead>\n",
       "    <tr style=\"text-align: right;\">\n",
       "      <th></th>\n",
       "      <th>From</th>\n",
       "      <th>To</th>\n",
       "      <th>Off-Peak</th>\n",
       "      <th>Mid-Peak</th>\n",
       "      <th>On-Peak</th>\n",
       "      <th>kWh</th>\n",
       "      <th>HDDs</th>\n",
       "      <th>CDDs</th>\n",
       "    </tr>\n",
       "  </thead>\n",
       "  <tbody>\n",
       "    <tr>\n",
       "      <th>22</th>\n",
       "      <td>2021-11-01</td>\n",
       "      <td>2021-11-30</td>\n",
       "      <td>713.25</td>\n",
       "      <td>176.45</td>\n",
       "      <td>191.15</td>\n",
       "      <td>1080.85</td>\n",
       "      <td>355.212500</td>\n",
       "      <td>0.000000</td>\n",
       "    </tr>\n",
       "    <tr>\n",
       "      <th>23</th>\n",
       "      <td>2021-12-01</td>\n",
       "      <td>2021-12-31</td>\n",
       "      <td>964.37</td>\n",
       "      <td>253.53</td>\n",
       "      <td>246.47</td>\n",
       "      <td>1464.37</td>\n",
       "      <td>447.708333</td>\n",
       "      <td>0.000000</td>\n",
       "    </tr>\n",
       "    <tr>\n",
       "      <th>24</th>\n",
       "      <td>2022-01-01</td>\n",
       "      <td>2022-01-31</td>\n",
       "      <td>1610.28</td>\n",
       "      <td>314.37</td>\n",
       "      <td>321.33</td>\n",
       "      <td>2245.98</td>\n",
       "      <td>732.379167</td>\n",
       "      <td>0.000000</td>\n",
       "    </tr>\n",
       "    <tr>\n",
       "      <th>25</th>\n",
       "      <td>2022-02-01</td>\n",
       "      <td>2022-02-28</td>\n",
       "      <td>1235.67</td>\n",
       "      <td>258.33</td>\n",
       "      <td>278.88</td>\n",
       "      <td>1772.88</td>\n",
       "      <td>562.070833</td>\n",
       "      <td>0.000000</td>\n",
       "    </tr>\n",
       "    <tr>\n",
       "      <th>26</th>\n",
       "      <td>2022-03-01</td>\n",
       "      <td>2022-03-31</td>\n",
       "      <td>963.42</td>\n",
       "      <td>217.97</td>\n",
       "      <td>242.93</td>\n",
       "      <td>1424.32</td>\n",
       "      <td>463.058333</td>\n",
       "      <td>0.000000</td>\n",
       "    </tr>\n",
       "    <tr>\n",
       "      <th>27</th>\n",
       "      <td>2022-04-01</td>\n",
       "      <td>2022-04-30</td>\n",
       "      <td>838.31</td>\n",
       "      <td>153.10</td>\n",
       "      <td>180.11</td>\n",
       "      <td>1171.52</td>\n",
       "      <td>284.004167</td>\n",
       "      <td>0.000000</td>\n",
       "    </tr>\n",
       "    <tr>\n",
       "      <th>28</th>\n",
       "      <td>2022-05-01</td>\n",
       "      <td>2022-05-31</td>\n",
       "      <td>426.49</td>\n",
       "      <td>83.14</td>\n",
       "      <td>88.50</td>\n",
       "      <td>598.13</td>\n",
       "      <td>74.758333</td>\n",
       "      <td>6.520833</td>\n",
       "    </tr>\n",
       "    <tr>\n",
       "      <th>29</th>\n",
       "      <td>2022-06-01</td>\n",
       "      <td>2022-06-30</td>\n",
       "      <td>260.76</td>\n",
       "      <td>64.17</td>\n",
       "      <td>65.12</td>\n",
       "      <td>390.05</td>\n",
       "      <td>16.991667</td>\n",
       "      <td>14.150000</td>\n",
       "    </tr>\n",
       "  </tbody>\n",
       "</table>\n",
       "</div>"
      ],
      "text/plain": [
       "         From         To  Off-Peak  Mid-Peak  On-Peak      kWh        HDDs  \\\n",
       "22 2021-11-01 2021-11-30    713.25    176.45   191.15  1080.85  355.212500   \n",
       "23 2021-12-01 2021-12-31    964.37    253.53   246.47  1464.37  447.708333   \n",
       "24 2022-01-01 2022-01-31   1610.28    314.37   321.33  2245.98  732.379167   \n",
       "25 2022-02-01 2022-02-28   1235.67    258.33   278.88  1772.88  562.070833   \n",
       "26 2022-03-01 2022-03-31    963.42    217.97   242.93  1424.32  463.058333   \n",
       "27 2022-04-01 2022-04-30    838.31    153.10   180.11  1171.52  284.004167   \n",
       "28 2022-05-01 2022-05-31    426.49     83.14    88.50   598.13   74.758333   \n",
       "29 2022-06-01 2022-06-30    260.76     64.17    65.12   390.05   16.991667   \n",
       "\n",
       "         CDDs  \n",
       "22   0.000000  \n",
       "23   0.000000  \n",
       "24   0.000000  \n",
       "25   0.000000  \n",
       "26   0.000000  \n",
       "27   0.000000  \n",
       "28   6.520833  \n",
       "29  14.150000  "
      ]
     },
     "execution_count": 149,
     "metadata": {},
     "output_type": "execute_result"
    }
   ],
   "source": [
    "post_elec_data = elec_data.loc[(elec_data.index > 21)].copy()\n",
    "post_elec_data"
   ]
  },
  {
   "cell_type": "code",
   "execution_count": 150,
   "metadata": {},
   "outputs": [
    {
     "data": {
      "text/plain": [
       "<matplotlib.legend.Legend at 0x216cbd39d30>"
      ]
     },
     "execution_count": 150,
     "metadata": {},
     "output_type": "execute_result"
    },
    {
     "data": {
      "image/png": "[encoded data removed]",
      "text/plain": [
       "<Figure size 504x360 with 1 Axes>"
      ]
     },
     "metadata": {
      "needs_background": "light"
     },
     "output_type": "display_data"
    }
   ],
   "source": [
    "# Visualize vs. HDDs\n",
    "plt.figure(figsize=(7,5))\n",
    "plt.scatter(pre_elec_data.HDDs,pre_elec_data.kWh, color = step_blue, label = 'Pre-retrofit')\n",
    "plt.scatter(post_elec_data.HDDs,post_elec_data.kWh, color = step_gold, label = 'Post-retrofit')\n",
    "plt.ylabel('kWh')\n",
    "plt.xlabel('HDDs')\n",
    "plt.grid(ls='--')\n",
    "plt.legend()"
   ]
  },
  {
   "cell_type": "markdown",
   "metadata": {},
   "source": [
    "Cooling data was not included in the analysis. The electricity consumption post-retrofit shows a very clear relationship with the HDDs - as expected."
   ]
  },
  {
   "cell_type": "markdown",
   "metadata": {},
   "source": [
    "## 4 Define Linear Regression Models of Baseline Utility Consumption and Calculate Total Utility Consumption\n",
    "\n",
    "We need linear regression baseline models so that we can determine a fair baseline as a point of comparison for the actual post-retrofit utility consumption. To do this, you model the gas and electricity consumption according to HDDs and then apply those models to the HDDs occuring during the post-retrofit period. This tells you what the utility consumption would have been with the old systems - normalizing for difference in weather year-to-year.\n",
    "\n",
    "### 4.1 Baseline Models"
   ]
  },
  {
   "cell_type": "code",
   "execution_count": 151,
   "metadata": {},
   "outputs": [
    {
     "name": "stdout",
     "output_type": "stream",
     "text": [
      "coefficient of determination: 0.005206956871262491\n",
      "intercept: 315.88473809646064\n",
      "slope: [-0.03373755]\n"
     ]
    },
    {
     "data": {
      "text/plain": [
       "<matplotlib.legend.Legend at 0x216cd413080>"
      ]
     },
     "execution_count": 151,
     "metadata": {},
     "output_type": "execute_result"
    },
    {
     "data": {
      "image/png": "[encoded data removed]",
      "text/plain": [
       "<Figure size 504x360 with 1 Axes>"
      ]
     },
     "metadata": {
      "needs_background": "light"
     },
     "output_type": "display_data"
    }
   ],
   "source": [
    "# Calculate regression line for baseline electricity data\n",
    "x = np.array(pre_elec_data.loc[pre_elec_data.HDDs > 10].HDDs).reshape((-1, 1))\n",
    "y = np.array(pre_elec_data.loc[pre_elec_data.HDDs > 10].kWh)\n",
    "base_model_elec = LinearRegression()\n",
    "base_model_elec.fit(x, y)\n",
    "base_model_elec_r_sq = base_model_elec.score(x, y)\n",
    "print('coefficient of determination:', base_model_elec_r_sq)\n",
    "print('intercept:', base_model_elec.intercept_)\n",
    "print('slope:', base_model_elec.coef_)\n",
    "\n",
    "# Define baseline elec function\n",
    "def base_elec_model(HDDs):\n",
    "    kWh = base_model_elec.coef_[0]*HDDs + base_model_elec.intercept_\n",
    "    return kWh\n",
    "\n",
    "# Visualize\n",
    "plt.figure(figsize = (7,5))\n",
    "plt.grid(ls='--')\n",
    "x = [0,500]\n",
    "y = [base_elec_model(a) for a in x]\n",
    "plt.scatter(post_elec_data.loc[post_elec_data.HDDs > 10].HDDs,post_elec_data.loc[post_elec_data.HDDs > 10].kWh, color = step_blue, label = 'Post-retrofit')\n",
    "plt.scatter(pre_elec_data.loc[pre_elec_data.HDDs > 10].HDDs,pre_elec_data.loc[pre_elec_data.HDDs > 10].kWh, color = step_gold, label = 'Pre-retrofit')\n",
    "plt.plot(x,y, color = step_gold, label = 'Baseline Model')\n",
    "plt.xlabel('HDDs')\n",
    "plt.ylabel('Electricity Consumption [kWh]')\n",
    "plt.legend()"
   ]
  },
  {
   "cell_type": "markdown",
   "metadata": {},
   "source": [
    "The baseline electricity model is effectively a constant value across all HDDs.\n",
    "\n",
    "Now do gas."
   ]
  },
  {
   "cell_type": "code",
   "execution_count": 152,
   "metadata": {},
   "outputs": [
    {
     "name": "stdout",
     "output_type": "stream",
     "text": [
      "coefficient of determination (R2): 0.8650300540600103\n",
      "intercept: 63.394734599506506\n",
      "slope: [0.60626267]\n"
     ]
    },
    {
     "data": {
      "text/plain": [
       "<matplotlib.legend.Legend at 0x216cd498fd0>"
      ]
     },
     "execution_count": 152,
     "metadata": {},
     "output_type": "execute_result"
    },
    {
     "data": {
      "image/png": "[encoded data removed]",
      "text/plain": [
       "<Figure size 504x360 with 1 Axes>"
      ]
     },
     "metadata": {
      "needs_background": "light"
     },
     "output_type": "display_data"
    }
   ],
   "source": [
    "# Calculate regression line for baseline data\n",
    "x = np.array(pre_gas_data.HDDs).reshape((-1, 1))\n",
    "y = np.array(pre_gas_data.m3)\n",
    "base_model_gas = LinearRegression()\n",
    "base_model_gas.fit(x, y)\n",
    "base_model_gas_r_sq = base_model_gas.score(x, y)\n",
    "print('coefficient of determination (R2):', base_model_gas_r_sq)\n",
    "print('intercept:', base_model_gas.intercept_)\n",
    "print('slope:', base_model_gas.coef_)\n",
    "\n",
    "# Function for baseline model\n",
    "def baseline_gas(HDDs):\n",
    "    m3 = base_model_gas.coef_[0]*HDDs + base_model_gas.intercept_\n",
    "    return m3\n",
    "\n",
    "# Visualize pre-retrofit data, baseline model, and post-retrofit data\n",
    "x = [0,600]\n",
    "y = [baseline_gas(a) for a in x]\n",
    "plt.figure(figsize = (7,5))\n",
    "plt.scatter(pre_gas_data.HDDs,pre_gas_data.m3, color = step_blue, label = 'Pre-retrofit')\n",
    "plt.plot(x,y, color = step_blue, label = 'Baseline Model')\n",
    "plt.xlim(0,600)\n",
    "plt.xlabel('HDDs')\n",
    "plt.ylabel('Gas Consumption [m$^{3}$]')\n",
    "plt.grid(ls='--')\n",
    "plt.scatter(post_gas_data.HDDs,post_gas_data.m3, color = step_gold, label = 'Post-retrofit')\n",
    "plt.legend(loc = 2)"
   ]
  },
  {
   "cell_type": "markdown",
   "metadata": {},
   "source": [
    "Baseline gas model is a good representation of actual consumption. "
   ]
  },
  {
   "cell_type": "code",
   "execution_count": 153,
   "metadata": {},
   "outputs": [
    {
     "data": {
      "text/html": [
       "<div>\n",
       "<style scoped>\n",
       "    .dataframe tbody tr th:only-of-type {\n",
       "        vertical-align: middle;\n",
       "    }\n",
       "\n",
       "    .dataframe tbody tr th {\n",
       "        vertical-align: top;\n",
       "    }\n",
       "\n",
       "    .dataframe thead th {\n",
       "        text-align: right;\n",
       "    }\n",
       "</style>\n",
       "<table border=\"1\" class=\"dataframe\">\n",
       "  <thead>\n",
       "    <tr style=\"text-align: right;\">\n",
       "      <th></th>\n",
       "      <th>Month</th>\n",
       "      <th>Year</th>\n",
       "      <th>m3</th>\n",
       "      <th>From</th>\n",
       "      <th>To</th>\n",
       "      <th>Actual Dates</th>\n",
       "      <th>HDDs</th>\n",
       "      <th>CDDs</th>\n",
       "      <th>modelled_m3</th>\n",
       "    </tr>\n",
       "  </thead>\n",
       "  <tbody>\n",
       "    <tr>\n",
       "      <th>34</th>\n",
       "      <td>Nov</td>\n",
       "      <td>2021</td>\n",
       "      <td>5</td>\n",
       "      <td>2021-10-23</td>\n",
       "      <td>2021-11-23</td>\n",
       "      <td>Yes</td>\n",
       "      <td>312.579167</td>\n",
       "      <td>0.000000</td>\n",
       "      <td>252.899814</td>\n",
       "    </tr>\n",
       "    <tr>\n",
       "      <th>35</th>\n",
       "      <td>Dec</td>\n",
       "      <td>2021</td>\n",
       "      <td>5</td>\n",
       "      <td>2021-11-24</td>\n",
       "      <td>2021-12-22</td>\n",
       "      <td>Yes</td>\n",
       "      <td>419.112500</td>\n",
       "      <td>0.000000</td>\n",
       "      <td>317.486996</td>\n",
       "    </tr>\n",
       "    <tr>\n",
       "      <th>36</th>\n",
       "      <td>Jan</td>\n",
       "      <td>2022</td>\n",
       "      <td>6</td>\n",
       "      <td>2021-12-23</td>\n",
       "      <td>2022-01-24</td>\n",
       "      <td>Yes</td>\n",
       "      <td>685.462500</td>\n",
       "      <td>0.000000</td>\n",
       "      <td>478.965057</td>\n",
       "    </tr>\n",
       "    <tr>\n",
       "      <th>37</th>\n",
       "      <td>Feb</td>\n",
       "      <td>2022</td>\n",
       "      <td>5</td>\n",
       "      <td>2022-01-25</td>\n",
       "      <td>2022-02-19</td>\n",
       "      <td>Yes</td>\n",
       "      <td>566.616667</td>\n",
       "      <td>0.000000</td>\n",
       "      <td>406.913266</td>\n",
       "    </tr>\n",
       "    <tr>\n",
       "      <th>38</th>\n",
       "      <td>Mar</td>\n",
       "      <td>2022</td>\n",
       "      <td>4</td>\n",
       "      <td>2022-02-20</td>\n",
       "      <td>2022-03-23</td>\n",
       "      <td>Yes</td>\n",
       "      <td>522.066667</td>\n",
       "      <td>0.000000</td>\n",
       "      <td>379.904264</td>\n",
       "    </tr>\n",
       "    <tr>\n",
       "      <th>39</th>\n",
       "      <td>Apr</td>\n",
       "      <td>2022</td>\n",
       "      <td>5</td>\n",
       "      <td>2022-03-23</td>\n",
       "      <td>2022-04-21</td>\n",
       "      <td>Yes</td>\n",
       "      <td>343.312500</td>\n",
       "      <td>0.000000</td>\n",
       "      <td>271.532286</td>\n",
       "    </tr>\n",
       "    <tr>\n",
       "      <th>40</th>\n",
       "      <td>May</td>\n",
       "      <td>2022</td>\n",
       "      <td>5</td>\n",
       "      <td>2022-04-22</td>\n",
       "      <td>2022-05-24</td>\n",
       "      <td>Yes</td>\n",
       "      <td>146.616667</td>\n",
       "      <td>1.437500</td>\n",
       "      <td>152.282946</td>\n",
       "    </tr>\n",
       "    <tr>\n",
       "      <th>41</th>\n",
       "      <td>Jun</td>\n",
       "      <td>2022</td>\n",
       "      <td>5</td>\n",
       "      <td>2022-05-25</td>\n",
       "      <td>2022-06-22</td>\n",
       "      <td>Yes</td>\n",
       "      <td>18.170833</td>\n",
       "      <td>14.979167</td>\n",
       "      <td>74.411032</td>\n",
       "    </tr>\n",
       "  </tbody>\n",
       "</table>\n",
       "</div>"
      ],
      "text/plain": [
       "   Month  Year  m3       From         To Actual Dates        HDDs       CDDs  \\\n",
       "34   Nov  2021   5 2021-10-23 2021-11-23          Yes  312.579167   0.000000   \n",
       "35   Dec  2021   5 2021-11-24 2021-12-22          Yes  419.112500   0.000000   \n",
       "36   Jan  2022   6 2021-12-23 2022-01-24          Yes  685.462500   0.000000   \n",
       "37   Feb  2022   5 2022-01-25 2022-02-19          Yes  566.616667   0.000000   \n",
       "38   Mar  2022   4 2022-02-20 2022-03-23          Yes  522.066667   0.000000   \n",
       "39   Apr  2022   5 2022-03-23 2022-04-21          Yes  343.312500   0.000000   \n",
       "40   May  2022   5 2022-04-22 2022-05-24          Yes  146.616667   1.437500   \n",
       "41   Jun  2022   5 2022-05-25 2022-06-22          Yes   18.170833  14.979167   \n",
       "\n",
       "    modelled_m3  \n",
       "34   252.899814  \n",
       "35   317.486996  \n",
       "36   478.965057  \n",
       "37   406.913266  \n",
       "38   379.904264  \n",
       "39   271.532286  \n",
       "40   152.282946  \n",
       "41    74.411032  "
      ]
     },
     "execution_count": 153,
     "metadata": {},
     "output_type": "execute_result"
    }
   ],
   "source": [
    "# Add modelled baseline to post-retrofit gas data consumption dataframe\n",
    "# Recall - baseline is what would have happened had there been no heat pump retrofit\n",
    "post_gas_data['modelled_m3'] = [baseline_gas(x) for x in post_gas_data.HDDs] # this is the baseline lines model applied to post-retrofit HDDs\n",
    "post_gas_data"
   ]
  },
  {
   "cell_type": "code",
   "execution_count": 154,
   "metadata": {},
   "outputs": [
    {
     "data": {
      "text/plain": [
       "<matplotlib.legend.Legend at 0x216cd515fd0>"
      ]
     },
     "execution_count": 154,
     "metadata": {},
     "output_type": "execute_result"
    },
    {
     "data": {
      "image/png": "[encoded data removed]",
      "text/plain": [
       "<Figure size 1080x360 with 1 Axes>"
      ]
     },
     "metadata": {
      "needs_background": "light"
     },
     "output_type": "display_data"
    }
   ],
   "source": [
    "# Visualize\n",
    "labels = [0,11,12,1,2,3,4,5,6] # Don't know why I need the 0...\n",
    "pos = [0,1,2,3,4,5,6,7]\n",
    "fig,ax = plt.subplots(figsize=(15,5))\n",
    "ax.bar(pos,post_gas_data.m3, width = 0.4, align = 'edge', color = step_blue, label = 'Post-retrofit')\n",
    "ax.bar(pos,post_gas_data.modelled_m3, width = -0.4, align = 'edge', color = step_gold, label = 'Baseline')\n",
    "ax.set_ylabel('Gas Consumption [m$^{3}$]')\n",
    "ax.set_xticklabels(labels)\n",
    "plt.legend()"
   ]
  },
  {
   "cell_type": "markdown",
   "metadata": {},
   "source": [
    "Now calculate totals for actual and modelled baseline gas consumption."
   ]
  },
  {
   "cell_type": "code",
   "execution_count": 155,
   "metadata": {},
   "outputs": [
    {
     "data": {
      "text/plain": [
       "40"
      ]
     },
     "execution_count": 155,
     "metadata": {},
     "output_type": "execute_result"
    }
   ],
   "source": [
    "# Actual post-retrofit gas consumption\n",
    "post_gas_total = post_gas_data.m3.sum()\n",
    "post_gas_total"
   ]
  },
  {
   "cell_type": "code",
   "execution_count": 156,
   "metadata": {},
   "outputs": [
    {
     "data": {
      "text/plain": [
       "2334.3956615411835"
      ]
     },
     "execution_count": 156,
     "metadata": {},
     "output_type": "execute_result"
    }
   ],
   "source": [
    "# Modelled baseline gas consumption\n",
    "post_gas_base_total = post_gas_data.modelled_m3.sum()\n",
    "post_gas_base_total"
   ]
  },
  {
   "cell_type": "code",
   "execution_count": 157,
   "metadata": {},
   "outputs": [
    {
     "data": {
      "text/plain": [
       "2294.3956615411835"
      ]
     },
     "execution_count": 157,
     "metadata": {},
     "output_type": "execute_result"
    }
   ],
   "source": [
    "# Gas savings\n",
    "gas_savings = post_gas_base_total - post_gas_total\n",
    "gas_savings"
   ]
  },
  {
   "cell_type": "code",
   "execution_count": 158,
   "metadata": {},
   "outputs": [
    {
     "data": {
      "text/plain": [
       "0.9828649441656383"
      ]
     },
     "execution_count": 158,
     "metadata": {},
     "output_type": "execute_result"
    }
   ],
   "source": [
    "# Percentage gas savings\n",
    "1-post_gas_total/post_gas_base_total"
   ]
  },
  {
   "cell_type": "markdown",
   "metadata": {},
   "source": [
    "Calculate totals for actual and modelled baseline electricity consumption."
   ]
  },
  {
   "cell_type": "code",
   "execution_count": 159,
   "metadata": {},
   "outputs": [
    {
     "data": {
      "text/html": [
       "<div>\n",
       "<style scoped>\n",
       "    .dataframe tbody tr th:only-of-type {\n",
       "        vertical-align: middle;\n",
       "    }\n",
       "\n",
       "    .dataframe tbody tr th {\n",
       "        vertical-align: top;\n",
       "    }\n",
       "\n",
       "    .dataframe thead th {\n",
       "        text-align: right;\n",
       "    }\n",
       "</style>\n",
       "<table border=\"1\" class=\"dataframe\">\n",
       "  <thead>\n",
       "    <tr style=\"text-align: right;\">\n",
       "      <th></th>\n",
       "      <th>From</th>\n",
       "      <th>To</th>\n",
       "      <th>Off-Peak</th>\n",
       "      <th>Mid-Peak</th>\n",
       "      <th>On-Peak</th>\n",
       "      <th>kWh</th>\n",
       "      <th>HDDs</th>\n",
       "      <th>CDDs</th>\n",
       "      <th>modelled_kWh</th>\n",
       "    </tr>\n",
       "  </thead>\n",
       "  <tbody>\n",
       "    <tr>\n",
       "      <th>22</th>\n",
       "      <td>2021-11-01</td>\n",
       "      <td>2021-11-30</td>\n",
       "      <td>713.25</td>\n",
       "      <td>176.45</td>\n",
       "      <td>191.15</td>\n",
       "      <td>1080.85</td>\n",
       "      <td>355.212500</td>\n",
       "      <td>0.000000</td>\n",
       "      <td>303.900737</td>\n",
       "    </tr>\n",
       "    <tr>\n",
       "      <th>23</th>\n",
       "      <td>2021-12-01</td>\n",
       "      <td>2021-12-31</td>\n",
       "      <td>964.37</td>\n",
       "      <td>253.53</td>\n",
       "      <td>246.47</td>\n",
       "      <td>1464.37</td>\n",
       "      <td>447.708333</td>\n",
       "      <td>0.000000</td>\n",
       "      <td>300.780154</td>\n",
       "    </tr>\n",
       "    <tr>\n",
       "      <th>24</th>\n",
       "      <td>2022-01-01</td>\n",
       "      <td>2022-01-31</td>\n",
       "      <td>1610.28</td>\n",
       "      <td>314.37</td>\n",
       "      <td>321.33</td>\n",
       "      <td>2245.98</td>\n",
       "      <td>732.379167</td>\n",
       "      <td>0.000000</td>\n",
       "      <td>291.176056</td>\n",
       "    </tr>\n",
       "    <tr>\n",
       "      <th>25</th>\n",
       "      <td>2022-02-01</td>\n",
       "      <td>2022-02-28</td>\n",
       "      <td>1235.67</td>\n",
       "      <td>258.33</td>\n",
       "      <td>278.88</td>\n",
       "      <td>1772.88</td>\n",
       "      <td>562.070833</td>\n",
       "      <td>0.000000</td>\n",
       "      <td>296.921843</td>\n",
       "    </tr>\n",
       "    <tr>\n",
       "      <th>26</th>\n",
       "      <td>2022-03-01</td>\n",
       "      <td>2022-03-31</td>\n",
       "      <td>963.42</td>\n",
       "      <td>217.97</td>\n",
       "      <td>242.93</td>\n",
       "      <td>1424.32</td>\n",
       "      <td>463.058333</td>\n",
       "      <td>0.000000</td>\n",
       "      <td>300.262282</td>\n",
       "    </tr>\n",
       "    <tr>\n",
       "      <th>27</th>\n",
       "      <td>2022-04-01</td>\n",
       "      <td>2022-04-30</td>\n",
       "      <td>838.31</td>\n",
       "      <td>153.10</td>\n",
       "      <td>180.11</td>\n",
       "      <td>1171.52</td>\n",
       "      <td>284.004167</td>\n",
       "      <td>0.000000</td>\n",
       "      <td>306.303132</td>\n",
       "    </tr>\n",
       "    <tr>\n",
       "      <th>28</th>\n",
       "      <td>2022-05-01</td>\n",
       "      <td>2022-05-31</td>\n",
       "      <td>426.49</td>\n",
       "      <td>83.14</td>\n",
       "      <td>88.50</td>\n",
       "      <td>598.13</td>\n",
       "      <td>74.758333</td>\n",
       "      <td>6.520833</td>\n",
       "      <td>313.362575</td>\n",
       "    </tr>\n",
       "    <tr>\n",
       "      <th>29</th>\n",
       "      <td>2022-06-01</td>\n",
       "      <td>2022-06-30</td>\n",
       "      <td>260.76</td>\n",
       "      <td>64.17</td>\n",
       "      <td>65.12</td>\n",
       "      <td>390.05</td>\n",
       "      <td>16.991667</td>\n",
       "      <td>14.150000</td>\n",
       "      <td>315.311481</td>\n",
       "    </tr>\n",
       "  </tbody>\n",
       "</table>\n",
       "</div>"
      ],
      "text/plain": [
       "         From         To  Off-Peak  Mid-Peak  On-Peak      kWh        HDDs  \\\n",
       "22 2021-11-01 2021-11-30    713.25    176.45   191.15  1080.85  355.212500   \n",
       "23 2021-12-01 2021-12-31    964.37    253.53   246.47  1464.37  447.708333   \n",
       "24 2022-01-01 2022-01-31   1610.28    314.37   321.33  2245.98  732.379167   \n",
       "25 2022-02-01 2022-02-28   1235.67    258.33   278.88  1772.88  562.070833   \n",
       "26 2022-03-01 2022-03-31    963.42    217.97   242.93  1424.32  463.058333   \n",
       "27 2022-04-01 2022-04-30    838.31    153.10   180.11  1171.52  284.004167   \n",
       "28 2022-05-01 2022-05-31    426.49     83.14    88.50   598.13   74.758333   \n",
       "29 2022-06-01 2022-06-30    260.76     64.17    65.12   390.05   16.991667   \n",
       "\n",
       "         CDDs  modelled_kWh  \n",
       "22   0.000000    303.900737  \n",
       "23   0.000000    300.780154  \n",
       "24   0.000000    291.176056  \n",
       "25   0.000000    296.921843  \n",
       "26   0.000000    300.262282  \n",
       "27   0.000000    306.303132  \n",
       "28   6.520833    313.362575  \n",
       "29  14.150000    315.311481  "
      ]
     },
     "execution_count": 159,
     "metadata": {},
     "output_type": "execute_result"
    }
   ],
   "source": [
    "# Add modelled baseline to post-retrofit elec data consumption dataframe\n",
    "# Recall - baseline is what would have happened had there been no heat pump retrofit\n",
    "post_elec_data['modelled_kWh'] = [base_elec_model(x) for x in post_elec_data.HDDs]\n",
    "post_elec_data"
   ]
  },
  {
   "cell_type": "code",
   "execution_count": 160,
   "metadata": {},
   "outputs": [
    {
     "data": {
      "text/plain": [
       "[Text(0, 0, '0'),\n",
       " Text(0, 0, '11'),\n",
       " Text(0, 0, '12'),\n",
       " Text(0, 0, '1'),\n",
       " Text(0, 0, '2'),\n",
       " Text(0, 0, '3'),\n",
       " Text(0, 0, '4'),\n",
       " Text(0, 0, '5'),\n",
       " Text(0, 0, '6')]"
      ]
     },
     "execution_count": 160,
     "metadata": {},
     "output_type": "execute_result"
    },
    {
     "data": {
      "image/png": "[encoded data removed]",
      "text/plain": [
       "<Figure size 1080x360 with 1 Axes>"
      ]
     },
     "metadata": {
      "needs_background": "light"
     },
     "output_type": "display_data"
    }
   ],
   "source": [
    "# Visualize\n",
    "pos = [1,2,3,4,5,6,7,8]\n",
    "fig,ax = plt.subplots(figsize=(15,5))\n",
    "ax.bar(pos,post_elec_data.kWh.to_list(), width = 0.4, align = 'edge', color = step_blue, label = 'Post-retrofit')\n",
    "ax.bar(pos,post_elec_data.modelled_kWh.to_list(), width = -0.4, align = 'edge', color = step_gold, label = 'Baseline')\n",
    "ax.set_ylabel('Electricity Consumption [kWh]')\n",
    "ax.set_xlabel('Month') #It doesn't align perfectly by month but it's simpler to plot this way\n",
    "plt.legend()\n",
    "ax.set_xticklabels(labels)"
   ]
  },
  {
   "cell_type": "code",
   "execution_count": 161,
   "metadata": {},
   "outputs": [
    {
     "data": {
      "text/plain": [
       "10148.1"
      ]
     },
     "execution_count": 161,
     "metadata": {},
     "output_type": "execute_result"
    }
   ],
   "source": [
    "#Actual post-retrofit electricity consumption\n",
    "post_elec_total = post_elec_data.kWh.sum()\n",
    "post_elec_total"
   ]
  },
  {
   "cell_type": "code",
   "execution_count": 162,
   "metadata": {},
   "outputs": [
    {
     "data": {
      "text/plain": [
       "2428.0182588632115"
      ]
     },
     "execution_count": 162,
     "metadata": {},
     "output_type": "execute_result"
    }
   ],
   "source": [
    "# Modelled baseline - what electricity consumption would have been if nothing changed\n",
    "post_elec_baseline = post_elec_data.modelled_kWh.sum()\n",
    "post_elec_baseline"
   ]
  },
  {
   "cell_type": "code",
   "execution_count": 163,
   "metadata": {},
   "outputs": [
    {
     "data": {
      "text/plain": [
       "7720.081741136789"
      ]
     },
     "execution_count": 163,
     "metadata": {},
     "output_type": "execute_result"
    }
   ],
   "source": [
    "# Increase in electricity consumption\n",
    "elec_increase = post_elec_total - post_elec_baseline\n",
    "elec_increase"
   ]
  },
  {
   "cell_type": "markdown",
   "metadata": {},
   "source": [
    "### 4.3 HDD Correction and Recalculate Savings"
   ]
  },
  {
   "cell_type": "markdown",
   "metadata": {},
   "source": [
    "Note that the post-retrofit electricity consumption dataframe goes from 11-01-2021 to 06-30-2022. The post-retrofit gas dataframe goes from 10-23-2021 to 06-22-2022 - so both contain 8 months of data. However, they are offset by approximately 2 weeks. The gas dataframe includes more of October and less of June. Can look at the impact of that offset by looking at the total HDDs for the post-retrofit electricity dataframe and the post-retrofit gas dataframe."
   ]
  },
  {
   "cell_type": "code",
   "execution_count": 164,
   "metadata": {},
   "outputs": [
    {
     "data": {
      "text/plain": [
       "3013.9375"
      ]
     },
     "execution_count": 164,
     "metadata": {},
     "output_type": "execute_result"
    }
   ],
   "source": [
    "# HDDs in gas dataframe\n",
    "post_gas_data.HDDs.sum()"
   ]
  },
  {
   "cell_type": "code",
   "execution_count": 165,
   "metadata": {},
   "outputs": [
    {
     "data": {
      "text/plain": [
       "2936.1833333333334"
      ]
     },
     "execution_count": 165,
     "metadata": {},
     "output_type": "execute_result"
    }
   ],
   "source": [
    "# HDDs in elec data frame\n",
    "post_elec_data.HDDs.sum()"
   ]
  },
  {
   "cell_type": "code",
   "execution_count": 166,
   "metadata": {},
   "outputs": [
    {
     "data": {
      "text/plain": [
       "77.7541666666666"
      ]
     },
     "execution_count": 166,
     "metadata": {},
     "output_type": "execute_result"
    }
   ],
   "source": [
    "# Difference in HDDs\n",
    "HDD_diff = post_gas_data.HDDs.sum()-post_elec_data.HDDs.sum()\n",
    "HDD_diff"
   ]
  },
  {
   "cell_type": "markdown",
   "metadata": {},
   "source": [
    "The gas data has more HDDs and this would unfairly inflate the gas savings. The modelled baseline gas consumption needs to be corrected such that it that it is representative of a similar amount of HDDs as the electricity data. To do that, I can just take the slope of the baseline gas model multiply it be the HDD difference and use that as a correction term."
   ]
  },
  {
   "cell_type": "code",
   "execution_count": 167,
   "metadata": {},
   "outputs": [
    {
     "data": {
      "text/plain": [
       "47.13944839755425"
      ]
     },
     "execution_count": 167,
     "metadata": {},
     "output_type": "execute_result"
    }
   ],
   "source": [
    "# Calculate correction term for baseline gas model\n",
    "m3_HDD_corr = HDD_diff*base_model_gas.coef_[0]\n",
    "m3_HDD_corr"
   ]
  },
  {
   "cell_type": "markdown",
   "metadata": {},
   "source": [
    "Now need to recalculate the baseline gas consumption and the savings."
   ]
  },
  {
   "cell_type": "code",
   "execution_count": 168,
   "metadata": {},
   "outputs": [
    {
     "data": {
      "text/plain": [
       "2287.2562131436293"
      ]
     },
     "execution_count": 168,
     "metadata": {},
     "output_type": "execute_result"
    }
   ],
   "source": [
    "post_gas_base_total_corr = post_gas_base_total - m3_HDD_corr\n",
    "post_gas_base_total_corr"
   ]
  },
  {
   "cell_type": "code",
   "execution_count": 169,
   "metadata": {},
   "outputs": [
    {
     "data": {
      "text/plain": [
       "2247.2562131436293"
      ]
     },
     "execution_count": 169,
     "metadata": {},
     "output_type": "execute_result"
    }
   ],
   "source": [
    "gas_savings_corr = post_gas_base_total_corr - post_gas_total\n",
    "gas_savings_corr"
   ]
  },
  {
   "cell_type": "markdown",
   "metadata": {},
   "source": [
    "It was not a huge correction (only 2%) but better to be correct. Also need to correct for the HRV which would have increased the heating load post-retrofit. The homeowner noted a significant improvement in indoor air quality. A detailed calculation has been done for a previous study and estimated the HRV required a 7% correction to the baseline gas consumption (https://sustainabletechnologies.ca/app/uploads/2021/12/HP_Case_Study_3.pdf). That number has also been used here. "
   ]
  },
  {
   "cell_type": "code",
   "execution_count": 170,
   "metadata": {},
   "outputs": [
    {
     "data": {
      "text/plain": [
       "2447.3641480636834"
      ]
     },
     "execution_count": 170,
     "metadata": {},
     "output_type": "execute_result"
    }
   ],
   "source": [
    "post_gas_base_total_corr = (post_gas_base_total - m3_HDD_corr)*1.07\n",
    "post_gas_base_total_corr"
   ]
  },
  {
   "cell_type": "code",
   "execution_count": 171,
   "metadata": {},
   "outputs": [
    {
     "data": {
      "text/plain": [
       "2407.3641480636834"
      ]
     },
     "execution_count": 171,
     "metadata": {},
     "output_type": "execute_result"
    }
   ],
   "source": [
    "gas_savings_corr = post_gas_base_total_corr - post_gas_total\n",
    "gas_savings_corr"
   ]
  },
  {
   "cell_type": "code",
   "execution_count": 172,
   "metadata": {},
   "outputs": [
    {
     "data": {
      "text/plain": [
       "98.36558854424474"
      ]
     },
     "execution_count": 172,
     "metadata": {},
     "output_type": "execute_result"
    }
   ],
   "source": [
    "# Percentage gas savings\n",
    "100-post_gas_total/post_gas_base_total_corr*100"
   ]
  },
  {
   "cell_type": "markdown",
   "metadata": {},
   "source": [
    "## 5 COP Estimate\n",
    "\n",
    "Based on the electricity increase and gas savings it is possible to estimate a COP. To be clear, COP was not monitored. This is just a high-level check on the reasonableness of the data. The gas savings is related to heat energy that was formerly provided by the furnace but is now provided by the ASHP. Converting gas savings to kWh and then multiplying by the efficiency of the previous furnace provides the numerator of the COP equation - the heat that was delivered. We know the prior furnace was mid-efficiency and installed in 2008 but do not know the specific make and model, nor do we do know if the rated performance was achieved in practice. For this exercise, it was assumed that the previous furnace efficiency was 80% or 85%.\n",
    "\n",
    "A second complication is that a small part of the gas savings (and new electrical consumptions) comes from electrifying the water heater. The gas savings from the water heater can be estimated by looking at the pre-retrofit data. For example in summer 2020, the gas consumption averaged 35 m3 per month. Post-retrofit the only remaining gas load was the stove and it averaged 5 m3 per month. Gas savings from the water heat might then be estimated at 30 m3 per month or 240 m3 for 8 months. It is approximately 10% of the total gas savings. For the purpose of this high level check on COP we can therefore just ignore the fact that the utility impacts are due both to the ASHP and heat pump water heater."
   ]
  },
  {
   "cell_type": "code",
   "execution_count": 173,
   "metadata": {},
   "outputs": [
    {
     "data": {
      "text/plain": [
       "2.809601206484099"
      ]
     },
     "execution_count": 173,
     "metadata": {},
     "output_type": "execute_result"
    }
   ],
   "source": [
    "COP_85 = (gas_savings_corr * 10.6 * 0.85) / elec_increase # Assume previous furnace was 80% \n",
    "COP_85"
   ]
  },
  {
   "cell_type": "code",
   "execution_count": 174,
   "metadata": {},
   "outputs": [
    {
     "data": {
      "text/plain": [
       "2.6443305472791523"
      ]
     },
     "execution_count": 174,
     "metadata": {},
     "output_type": "execute_result"
    }
   ],
   "source": [
    "COP_80 = (gas_savings_corr * 10.6 * 0.80) / elec_increase # Assume previous furnace was 80% \n",
    "COP_80"
   ]
  },
  {
   "cell_type": "markdown",
   "metadata": {},
   "source": [
    "The gas savings and electricity increase suggests the COP is 2.64 if the former furnace was 80% efficient or 2.81 if it was 85% efficient. Note that it is also likely the ASHP has lower electricity consumption for the blower and this will serve to inflate the COP calculation above, but it is nonetheless a real source of savings. The HSPF for the central system (2.5 ton) is 9.0 (Region IV), and is 12.5 for ductless system (0.75 ton). This translates to a seasonal average COP of 2.64 and 3.67. We can look at the data from the post-retrofit period and compare against the ASHRAE data from Zone IV and Zone V to see which value we ought to expect this installation to be closer to. "
   ]
  },
  {
   "cell_type": "code",
   "execution_count": 175,
   "metadata": {},
   "outputs": [
    {
     "data": {
      "text/plain": [
       "2.8776923076923078"
      ]
     },
     "execution_count": 175,
     "metadata": {},
     "output_type": "execute_result"
    }
   ],
   "source": [
    "# Calculate a weighted COP from the two ratings\n",
    "Region_IV_weighted_COP = 2.64*2.5/(2.5+0.75) + 3.67*0.75/(2.5+0.75)\n",
    "Region_IV_weighted_COP"
   ]
  },
  {
   "cell_type": "markdown",
   "metadata": {},
   "source": [
    "So we would hope to get a COP of 2.88 if the climate conditions near the post-retrofit period were near the assumptions of Region IV. Let's look."
   ]
  },
  {
   "cell_type": "code",
   "execution_count": 176,
   "metadata": {},
   "outputs": [],
   "source": [
    "# Get data from post-retrofit period\n",
    "start_date = datetime.datetime.strptime(\"2021-10-23\",\"%Y-%m-%d\")\n",
    "end_date = datetime.datetime.strptime(\"2022-06-22\",\"%Y-%m-%d\")\n",
    "weather_post_retrofit = toronto_weather.loc[(toronto_weather.index > start_date) & (toronto_weather.index < end_date)]                                  "
   ]
  },
  {
   "cell_type": "code",
   "execution_count": 177,
   "metadata": {},
   "outputs": [
    {
     "data": {
      "text/html": [
       "<div>\n",
       "<style scoped>\n",
       "    .dataframe tbody tr th:only-of-type {\n",
       "        vertical-align: middle;\n",
       "    }\n",
       "\n",
       "    .dataframe tbody tr th {\n",
       "        vertical-align: top;\n",
       "    }\n",
       "\n",
       "    .dataframe thead th {\n",
       "        text-align: right;\n",
       "    }\n",
       "</style>\n",
       "<table border=\"1\" class=\"dataframe\">\n",
       "  <thead>\n",
       "    <tr style=\"text-align: right;\">\n",
       "      <th></th>\n",
       "      <th>temperature</th>\n",
       "      <th>HDDs</th>\n",
       "      <th>CDDs</th>\n",
       "    </tr>\n",
       "    <tr>\n",
       "      <th>date_time_local</th>\n",
       "      <th></th>\n",
       "      <th></th>\n",
       "      <th></th>\n",
       "    </tr>\n",
       "  </thead>\n",
       "  <tbody>\n",
       "    <tr>\n",
       "      <th>2022-06-21 23:00:00</th>\n",
       "      <td>28.7</td>\n",
       "      <td>0.0</td>\n",
       "      <td>0.154167</td>\n",
       "    </tr>\n",
       "    <tr>\n",
       "      <th>2022-06-21 22:00:00</th>\n",
       "      <td>27.4</td>\n",
       "      <td>0.0</td>\n",
       "      <td>0.100000</td>\n",
       "    </tr>\n",
       "    <tr>\n",
       "      <th>2022-06-21 21:00:00</th>\n",
       "      <td>29.1</td>\n",
       "      <td>0.0</td>\n",
       "      <td>0.170833</td>\n",
       "    </tr>\n",
       "    <tr>\n",
       "      <th>2022-06-21 20:00:00</th>\n",
       "      <td>32.7</td>\n",
       "      <td>0.0</td>\n",
       "      <td>0.320833</td>\n",
       "    </tr>\n",
       "    <tr>\n",
       "      <th>2022-06-21 19:00:00</th>\n",
       "      <td>34.7</td>\n",
       "      <td>0.0</td>\n",
       "      <td>0.404167</td>\n",
       "    </tr>\n",
       "  </tbody>\n",
       "</table>\n",
       "</div>"
      ],
      "text/plain": [
       "                     temperature  HDDs      CDDs\n",
       "date_time_local                                 \n",
       "2022-06-21 23:00:00         28.7   0.0  0.154167\n",
       "2022-06-21 22:00:00         27.4   0.0  0.100000\n",
       "2022-06-21 21:00:00         29.1   0.0  0.170833\n",
       "2022-06-21 20:00:00         32.7   0.0  0.320833\n",
       "2022-06-21 19:00:00         34.7   0.0  0.404167"
      ]
     },
     "execution_count": 177,
     "metadata": {},
     "output_type": "execute_result"
    }
   ],
   "source": [
    "# Have a look\n",
    "weather_post_retrofit.head()"
   ]
  },
  {
   "cell_type": "code",
   "execution_count": 178,
   "metadata": {},
   "outputs": [
    {
     "data": {
      "text/html": [
       "<div>\n",
       "<style scoped>\n",
       "    .dataframe tbody tr th:only-of-type {\n",
       "        vertical-align: middle;\n",
       "    }\n",
       "\n",
       "    .dataframe tbody tr th {\n",
       "        vertical-align: top;\n",
       "    }\n",
       "\n",
       "    .dataframe thead th {\n",
       "        text-align: right;\n",
       "    }\n",
       "</style>\n",
       "<table border=\"1\" class=\"dataframe\">\n",
       "  <thead>\n",
       "    <tr style=\"text-align: right;\">\n",
       "      <th></th>\n",
       "      <th>F</th>\n",
       "      <th>C</th>\n",
       "      <th>IV</th>\n",
       "      <th>V</th>\n",
       "    </tr>\n",
       "  </thead>\n",
       "  <tbody>\n",
       "    <tr>\n",
       "      <th>0</th>\n",
       "      <td>62</td>\n",
       "      <td>16.666667</td>\n",
       "      <td>0.132</td>\n",
       "      <td>0.106</td>\n",
       "    </tr>\n",
       "    <tr>\n",
       "      <th>1</th>\n",
       "      <td>57</td>\n",
       "      <td>13.888889</td>\n",
       "      <td>0.110</td>\n",
       "      <td>0.092</td>\n",
       "    </tr>\n",
       "    <tr>\n",
       "      <th>2</th>\n",
       "      <td>52</td>\n",
       "      <td>11.111111</td>\n",
       "      <td>0.103</td>\n",
       "      <td>0.086</td>\n",
       "    </tr>\n",
       "    <tr>\n",
       "      <th>3</th>\n",
       "      <td>47</td>\n",
       "      <td>8.333333</td>\n",
       "      <td>0.093</td>\n",
       "      <td>0.076</td>\n",
       "    </tr>\n",
       "    <tr>\n",
       "      <th>4</th>\n",
       "      <td>42</td>\n",
       "      <td>5.555556</td>\n",
       "      <td>0.100</td>\n",
       "      <td>0.078</td>\n",
       "    </tr>\n",
       "    <tr>\n",
       "      <th>5</th>\n",
       "      <td>37</td>\n",
       "      <td>2.777778</td>\n",
       "      <td>0.109</td>\n",
       "      <td>0.087</td>\n",
       "    </tr>\n",
       "    <tr>\n",
       "      <th>6</th>\n",
       "      <td>32</td>\n",
       "      <td>0.000000</td>\n",
       "      <td>0.126</td>\n",
       "      <td>0.102</td>\n",
       "    </tr>\n",
       "    <tr>\n",
       "      <th>7</th>\n",
       "      <td>27</td>\n",
       "      <td>-2.777778</td>\n",
       "      <td>0.087</td>\n",
       "      <td>0.094</td>\n",
       "    </tr>\n",
       "    <tr>\n",
       "      <th>8</th>\n",
       "      <td>22</td>\n",
       "      <td>-5.555556</td>\n",
       "      <td>0.055</td>\n",
       "      <td>0.074</td>\n",
       "    </tr>\n",
       "    <tr>\n",
       "      <th>9</th>\n",
       "      <td>17</td>\n",
       "      <td>-8.333333</td>\n",
       "      <td>0.036</td>\n",
       "      <td>0.055</td>\n",
       "    </tr>\n",
       "    <tr>\n",
       "      <th>10</th>\n",
       "      <td>12</td>\n",
       "      <td>-11.111111</td>\n",
       "      <td>0.026</td>\n",
       "      <td>0.047</td>\n",
       "    </tr>\n",
       "    <tr>\n",
       "      <th>11</th>\n",
       "      <td>7</td>\n",
       "      <td>-13.888889</td>\n",
       "      <td>0.013</td>\n",
       "      <td>0.038</td>\n",
       "    </tr>\n",
       "    <tr>\n",
       "      <th>12</th>\n",
       "      <td>2</td>\n",
       "      <td>-16.666667</td>\n",
       "      <td>0.006</td>\n",
       "      <td>0.029</td>\n",
       "    </tr>\n",
       "    <tr>\n",
       "      <th>13</th>\n",
       "      <td>-3</td>\n",
       "      <td>-19.444444</td>\n",
       "      <td>0.002</td>\n",
       "      <td>0.018</td>\n",
       "    </tr>\n",
       "    <tr>\n",
       "      <th>14</th>\n",
       "      <td>-8</td>\n",
       "      <td>-22.222222</td>\n",
       "      <td>0.001</td>\n",
       "      <td>0.010</td>\n",
       "    </tr>\n",
       "    <tr>\n",
       "      <th>15</th>\n",
       "      <td>-13</td>\n",
       "      <td>-25.000000</td>\n",
       "      <td>0.000</td>\n",
       "      <td>0.005</td>\n",
       "    </tr>\n",
       "    <tr>\n",
       "      <th>16</th>\n",
       "      <td>-18</td>\n",
       "      <td>-27.777778</td>\n",
       "      <td>0.000</td>\n",
       "      <td>0.002</td>\n",
       "    </tr>\n",
       "    <tr>\n",
       "      <th>17</th>\n",
       "      <td>-23</td>\n",
       "      <td>-30.555556</td>\n",
       "      <td>0.000</td>\n",
       "      <td>0.001</td>\n",
       "    </tr>\n",
       "  </tbody>\n",
       "</table>\n",
       "</div>"
      ],
      "text/plain": [
       "     F          C     IV      V\n",
       "0   62  16.666667  0.132  0.106\n",
       "1   57  13.888889  0.110  0.092\n",
       "2   52  11.111111  0.103  0.086\n",
       "3   47   8.333333  0.093  0.076\n",
       "4   42   5.555556  0.100  0.078\n",
       "5   37   2.777778  0.109  0.087\n",
       "6   32   0.000000  0.126  0.102\n",
       "7   27  -2.777778  0.087  0.094\n",
       "8   22  -5.555556  0.055  0.074\n",
       "9   17  -8.333333  0.036  0.055\n",
       "10  12 -11.111111  0.026  0.047\n",
       "11   7 -13.888889  0.013  0.038\n",
       "12   2 -16.666667  0.006  0.029\n",
       "13  -3 -19.444444  0.002  0.018\n",
       "14  -8 -22.222222  0.001  0.010\n",
       "15 -13 -25.000000  0.000  0.005\n",
       "16 -18 -27.777778  0.000  0.002\n",
       "17 -23 -30.555556  0.000  0.001"
      ]
     },
     "execution_count": 178,
     "metadata": {},
     "output_type": "execute_result"
    }
   ],
   "source": [
    "# Get ASHRAE Region Data from AHRI 210/240 Standard\n",
    "ASHRAE_Regions = pd.read_csv(\"AHRAE_Regions_Workbook.csv\")\n",
    "ASHRAE_Regions"
   ]
  },
  {
   "cell_type": "code",
   "execution_count": 179,
   "metadata": {},
   "outputs": [
    {
     "data": {
      "text/plain": [
       "[-31.94055556,\n",
       " -29.162777780000003,\n",
       " -26.385,\n",
       " -23.60722222,\n",
       " -20.829444440000003,\n",
       " -18.051666670000003,\n",
       " -15.27388889,\n",
       " -12.49611111,\n",
       " -9.718333332999999,\n",
       " -6.940555556,\n",
       " -4.162777778,\n",
       " -1.385,\n",
       " 1.392777778,\n",
       " 4.170555556,\n",
       " 6.948333332999999,\n",
       " 9.72611111,\n",
       " 12.50388889,\n",
       " 15.281666670000002,\n",
       " 18.055000000000003]"
      ]
     },
     "execution_count": 179,
     "metadata": {},
     "output_type": "execute_result"
    }
   ],
   "source": [
    "# Define bins for a histogram - the bin midpoints should be the same as the ASHRAE temp data\n",
    "bins = (ASHRAE_Regions.C - (2.77/2)).to_list()\n",
    "bins = [(2.77/2 + 16.67)] + bins\n",
    "bins.reverse()\n",
    "bins"
   ]
  },
  {
   "cell_type": "code",
   "execution_count": 180,
   "metadata": {},
   "outputs": [
    {
     "data": {
      "image/png": "[encoded data removed]",
      "text/plain": [
       "<Figure size 432x288 with 1 Axes>"
      ]
     },
     "metadata": {
      "needs_background": "light"
     },
     "output_type": "display_data"
    }
   ],
   "source": [
    "# Create a histogram\n",
    "hist_results = plt.hist(weather_post_retrofit.temperature,bins)"
   ]
  },
  {
   "cell_type": "code",
   "execution_count": 181,
   "metadata": {},
   "outputs": [],
   "source": [
    "# Number of hours below 18 C - this is need to put histogram results on same scale as ASHRAE data\n",
    "number_hours = len(weather_post_retrofit.loc[weather_post_retrofit.temperature < 18.1])"
   ]
  },
  {
   "cell_type": "code",
   "execution_count": 182,
   "metadata": {},
   "outputs": [
    {
     "data": {
      "text/plain": [
       "<matplotlib.legend.Legend at 0x216cdba4d68>"
      ]
     },
     "execution_count": 182,
     "metadata": {},
     "output_type": "execute_result"
    },
    {
     "data": {
      "image/png": "[encoded data removed]",
      "text/plain": [
       "<Figure size 432x288 with 1 Axes>"
      ]
     },
     "metadata": {
      "needs_background": "light"
     },
     "output_type": "display_data"
    }
   ],
   "source": [
    "# Visualize\n",
    "\n",
    "# Create x values for histogram\n",
    "ASHRAE_temps = ASHRAE_Regions.C.to_list()\n",
    "ASHRAE_temps.reverse()\n",
    "\n",
    "# Plot all data\n",
    "plt.bar(ASHRAE_temps,hist_results[0]/number_hours,alpha = 0.5,width=2.8, label = \"2021/2022\")\n",
    "plt.bar(ASHRAE_Regions.C,ASHRAE_Regions.IV,alpha=0.5,width=2.8, label = \"Zone IV\")\n",
    "plt.bar(ASHRAE_Regions.C,ASHRAE_Regions.V,alpha=0.5,width=2.8, label = \"Zone V\")\n",
    "plt.plot(ASHRAE_temps,hist_results[0]/number_hours)\n",
    "plt.plot(ASHRAE_Regions.C,ASHRAE_Regions.IV,alpha=0.5)\n",
    "plt.plot(ASHRAE_Regions.C,ASHRAE_Regions.V,alpha=0.5)\n",
    "\n",
    "plt.xlabel('Temperature [oC]')\n",
    "plt.ylabel('Relative Fraction of Hours')\n",
    "\n",
    "plt.legend()"
   ]
  },
  {
   "cell_type": "markdown",
   "metadata": {},
   "source": [
    "It's clear that the post-retrofit period was colder than the assumptions of Region IV but not as cold as that for Region V. So we ought to expect that COP is something a bit less than the Region IV of 2.88 since the post-retrofit period was colder. We estimated it at actually 2.64 to 2.81 depending on if the furnace was 80% or 85% efficient - which we can't know. Overall, it lines up near expectations."
   ]
  },
  {
   "cell_type": "markdown",
   "metadata": {},
   "source": [
    "## 6 Utility Rates and Emission Factors\n",
    "\n",
    "### 6.1 Gas Rates"
   ]
  },
  {
   "cell_type": "markdown",
   "metadata": {},
   "source": [
    "The marginal cost of natural gas was estimated using the Ontario Energy Board (OEB) bill calculator, available at: https://www.oeb.ca/rates-and-your-bill/bill-calculator. Two sample bills were calculated in November 2022 for an Enbridge service area, one for 100 m3 consumption and one for 200 m3. These are shown below. \n",
    "\n",
    "![GasCalc2.png](GasCalc2.png)\n",
    "\n",
    "The difference in cost between the two bills is 61.6 dollars - for a difference in consumption of 100 m$^{3}$. It follows that the marginal rate for gas was estimated at 0.616 dollars per m3. The price of natural gas has increased drastically in 2022 due to the war in the Ukraine and shortage of natural gas. It is not known how long prices will remain inflated. The approach taken in this case study series is simply to apply current utility rates. The case srudy document also considers a scenario where the rates are 20% lower.\n",
    "\n",
    "At the end of 2020 the federal government announced a new carbon pricing schedule in their plan titled \"A Healthy Environment and A Healthy Economy.\" Starting in 2023, the federal price on carbon will increase at 15 dollars per tonne annually to reach 170 dollars by 2030. This considered later in the analysis."
   ]
  },
  {
   "cell_type": "code",
   "execution_count": 183,
   "metadata": {},
   "outputs": [],
   "source": [
    "# Define gas rate\n",
    "gas_rate = 0.616 # $/m3"
   ]
  },
  {
   "cell_type": "markdown",
   "metadata": {},
   "source": [
    "### 6.2 Electricity Rate \n",
    "The current marginal electricity rates were also calculated using the OEB bill calculator. Two bills were calculated one for a 500 kWh and one for 600 kWh. The bills assumed a TOU breakdown of 60% off-peak, 20% mid-peakm and 20% on-peak. This breakdown considers that the daily TOU breakdown includes 12 hours off-peak (50%), 6 hours mid-peak (25%) and 6 hours on-peak (25%) (but all off-peak on weekends), and also that it is typically colder during the night. This weights electricity consumption further towards the off-peak TOU. \n",
    "\n",
    "The difference between the two bills was used to calculated the marginal electricity rate for the TOU. This kind of approach was necessary to properly capture all marginal costs, and is helpful because it is straightforward and electricity pricing structures can be complex with mutiple line items. Bills were calculated in January 2021.\n",
    "\n",
    "The results are shown below. For an increase in 100 kWh of electricity consumption, it cost an additional 11.7 dollars.  Marginal electricity cost was estimated at 0.117 dollars per kWh.\n",
    "![Elec_Calc2.png](Elec_Calc2.png)"
   ]
  },
  {
   "cell_type": "code",
   "execution_count": 184,
   "metadata": {},
   "outputs": [],
   "source": [
    "# Define gas rate\n",
    "elec_rate = 0.117 # $/kWh"
   ]
  },
  {
   "cell_type": "markdown",
   "metadata": {},
   "source": [
    "The emission factors for electricity and natural gas are include both marginal and annual emission factors from the TAF report \"A Clearer View on Ontario's Emissions\" 2021 Edition. Fugitive emissions have been ignored."
   ]
  },
  {
   "cell_type": "code",
   "execution_count": 185,
   "metadata": {},
   "outputs": [],
   "source": [
    "# Define emission factor assumptions\n",
    "AEF_elec_2021 = 0.031 # From TAF 2021 report \"A Clearer View on Ontario's Emissions\"\n",
    "MEF_elec_2021 = 0.113\n",
    "AEF_elec_2036 = 0.094 # From TAF 2021 report \"A Clearer View on Ontario's Emissions\"\n",
    "MEF_elec_2036 = 0.340\n",
    "EF_gas = 1.89 # in units kg CO2e per m3 from Canada's NIR report"
   ]
  },
  {
   "cell_type": "markdown",
   "metadata": {},
   "source": [
    "## 7 Current Utility Cost and Carbon Reductions"
   ]
  },
  {
   "cell_type": "code",
   "execution_count": 186,
   "metadata": {},
   "outputs": [
    {
     "data": {
      "text/plain": [
       "903.2495637130044"
      ]
     },
     "execution_count": 186,
     "metadata": {},
     "output_type": "execute_result"
    }
   ],
   "source": [
    "# Increased electricity cost\n",
    "elec_cost_increase = elec_increase*elec_rate\n",
    "elec_cost_increase"
   ]
  },
  {
   "cell_type": "code",
   "execution_count": 187,
   "metadata": {},
   "outputs": [
    {
     "data": {
      "text/plain": [
       "1482.936315207229"
      ]
     },
     "execution_count": 187,
     "metadata": {},
     "output_type": "execute_result"
    }
   ],
   "source": [
    "# Decrease in natural gas costs\n",
    "gas_cost_reduction = gas_savings_corr*gas_rate\n",
    "gas_cost_reduction"
   ]
  },
  {
   "cell_type": "code",
   "execution_count": 188,
   "metadata": {},
   "outputs": [
    {
     "data": {
      "text/plain": [
       "579.6867514942246"
      ]
     },
     "execution_count": 188,
     "metadata": {},
     "output_type": "execute_result"
    }
   ],
   "source": [
    "# Net utility cost savings\n",
    "net_cost_reduction = gas_cost_reduction - elec_cost_increase\n",
    "net_cost_reduction"
   ]
  },
  {
   "cell_type": "markdown",
   "metadata": {},
   "source": [
    "Visualize change in bills at current rates."
   ]
  },
  {
   "cell_type": "code",
   "execution_count": 189,
   "metadata": {},
   "outputs": [
    {
     "data": {
      "text/plain": [
       "<matplotlib.legend.Legend at 0x216cd7c4320>"
      ]
     },
     "execution_count": 189,
     "metadata": {},
     "output_type": "execute_result"
    },
    {
     "data": {
      "image/png": "[encoded data removed]",
      "text/plain": [
       "<Figure size 504x360 with 1 Axes>"
      ]
     },
     "metadata": {
      "needs_background": "light"
     },
     "output_type": "display_data"
    }
   ],
   "source": [
    "# Create lists for plot\n",
    "baseline = [post_gas_base_total_corr*gas_rate,post_elec_baseline*elec_rate]\n",
    "postretrofit = [post_gas_total*gas_rate,post_elec_total*elec_rate]\n",
    "reduction = [net_cost_reduction]\n",
    "\n",
    "# Plot \n",
    "fig, ax = plt.subplots(figsize = (7,5))\n",
    "ax.bar([1,2], baseline, width = -0.4, align = 'edge', color = step_blue, label = 'Baseline')\n",
    "ax.bar([1,2], postretrofit, width = 0.4, align = 'edge', color = step_gold, label = 'Post-retrofit')\n",
    "ax.bar([3],reduction, color = 'grey', width = 0.4)\n",
    "ax.set_xticks([1,2,3])\n",
    "ax.set_xticklabels(['Natural Gas','Electricity', 'Reduction'])\n",
    "ax.set_ylabel('Utility Costs [$]')\n",
    "ax.legend()\n",
    "#ax.set_ylim(0,1000)"
   ]
  },
  {
   "cell_type": "code",
   "execution_count": 190,
   "metadata": {},
   "outputs": [
    {
     "data": {
      "text/plain": [
       "4310.595705865121"
      ]
     },
     "execution_count": 190,
     "metadata": {},
     "output_type": "execute_result"
    }
   ],
   "source": [
    "# Carbon savings 2021 annual emission factor\n",
    "carbon_reduction_AEF_2021 = (gas_savings_corr * EF_gas) - (elec_increase*AEF_elec_2021)\n",
    "carbon_reduction_AEF_2021"
   ]
  },
  {
   "cell_type": "code",
   "execution_count": 191,
   "metadata": {},
   "outputs": [
    {
     "data": {
      "text/plain": [
       "94.740069571368"
      ]
     },
     "execution_count": 191,
     "metadata": {},
     "output_type": "execute_result"
    }
   ],
   "source": [
    "# Percentage reduction 2021 AEF\n",
    "100*(1-((elec_increase*AEF_elec_2021)/(gas_savings_corr * EF_gas)))"
   ]
  },
  {
   "cell_type": "code",
   "execution_count": 192,
   "metadata": {},
   "outputs": [
    {
     "data": {
      "text/plain": [
       "3824.230556173504"
      ]
     },
     "execution_count": 192,
     "metadata": {},
     "output_type": "execute_result"
    }
   ],
   "source": [
    "# Carbon savings 2036 annual emission factor\n",
    "carbon_reduction_AEF_2036 = (gas_savings_corr * EF_gas) - (elec_increase*AEF_elec_2036)\n",
    "carbon_reduction_AEF_2036"
   ]
  },
  {
   "cell_type": "code",
   "execution_count": 193,
   "metadata": {},
   "outputs": [
    {
     "data": {
      "text/plain": [
       "84.05053353898685"
      ]
     },
     "execution_count": 193,
     "metadata": {},
     "output_type": "execute_result"
    }
   ],
   "source": [
    "# Percentage reduction 2036 AEF\n",
    "100*(1-((elec_increase*AEF_elec_2036)/(gas_savings_corr * EF_gas)))"
   ]
  },
  {
   "cell_type": "code",
   "execution_count": 194,
   "metadata": {},
   "outputs": [
    {
     "data": {
      "text/plain": [
       "3677.5490030919045"
      ]
     },
     "execution_count": 194,
     "metadata": {},
     "output_type": "execute_result"
    }
   ],
   "source": [
    "# Carbon reduction 2021 marginal emission factor\n",
    "carbon_reduction_MEF_2021 = (gas_savings_corr * EF_gas) - (elec_increase*MEF_elec_2021)\n",
    "carbon_reduction_MEF_2021"
   ]
  },
  {
   "cell_type": "code",
   "execution_count": 195,
   "metadata": {},
   "outputs": [
    {
     "data": {
      "text/plain": [
       "80.8267052117608"
      ]
     },
     "execution_count": 195,
     "metadata": {},
     "output_type": "execute_result"
    }
   ],
   "source": [
    "# Percentage reduction 2021 MEF\n",
    "100*(1-((elec_increase*MEF_elec_2021)/(gas_savings_corr * EF_gas)))"
   ]
  },
  {
   "cell_type": "code",
   "execution_count": 196,
   "metadata": {},
   "outputs": [
    {
     "data": {
      "text/plain": [
       "1925.0904478538532"
      ]
     },
     "execution_count": 196,
     "metadata": {},
     "output_type": "execute_result"
    }
   ],
   "source": [
    "# Carbon reduction 2036 marginal emission factor\n",
    "carbon_reduction_MEF_2036 = (gas_savings_corr * EF_gas) - (elec_increase*MEF_elec_2036)\n",
    "carbon_reduction_MEF_2036"
   ]
  },
  {
   "cell_type": "code",
   "execution_count": 197,
   "metadata": {},
   "outputs": [
    {
     "data": {
      "text/plain": [
       "42.31044046016521"
      ]
     },
     "execution_count": 197,
     "metadata": {},
     "output_type": "execute_result"
    }
   ],
   "source": [
    "# Percentage reduction 2036 MEF\n",
    "100*(1-((elec_increase*MEF_elec_2036)/(gas_savings_corr * EF_gas)))"
   ]
  },
  {
   "cell_type": "markdown",
   "metadata": {},
   "source": [
    "## 8 Future Cost Reductions Due to Carbon Pricing"
   ]
  },
  {
   "cell_type": "markdown",
   "metadata": {},
   "source": [
    "At the end of 2020 the federal government announced a new carbon pricing schedule in their plan titled \"A Healthy Environment and A Healthy Economy.\" Starting in 2023, the federal price on carbon will increase at 15$\\$$ per year to reach $\\$$170 by 2030. This is outlined in the dataframe below. Note the schedule is not available beyond 2030 and has been assumed to stay at $\\$$170 beyond 2030 but this may be conservative. Also note the calculated rate ignores other fluctuations in the cost of natural gas and simply adds additional charges onto the current rate."
   ]
  },
  {
   "cell_type": "code",
   "execution_count": 198,
   "metadata": {},
   "outputs": [
    {
     "data": {
      "text/html": [
       "<div>\n",
       "<style scoped>\n",
       "    .dataframe tbody tr th:only-of-type {\n",
       "        vertical-align: middle;\n",
       "    }\n",
       "\n",
       "    .dataframe tbody tr th {\n",
       "        vertical-align: top;\n",
       "    }\n",
       "\n",
       "    .dataframe thead th {\n",
       "        text-align: right;\n",
       "    }\n",
       "</style>\n",
       "<table border=\"1\" class=\"dataframe\">\n",
       "  <thead>\n",
       "    <tr style=\"text-align: right;\">\n",
       "      <th></th>\n",
       "      <th>Year</th>\n",
       "      <th>Carbon Tax ($/tonne)</th>\n",
       "      <th>Carbon Charge Natural Gas ($/m3)</th>\n",
       "    </tr>\n",
       "  </thead>\n",
       "  <tbody>\n",
       "    <tr>\n",
       "      <th>0</th>\n",
       "      <td>2022</td>\n",
       "      <td>50</td>\n",
       "      <td>0.097875</td>\n",
       "    </tr>\n",
       "    <tr>\n",
       "      <th>1</th>\n",
       "      <td>2023</td>\n",
       "      <td>65</td>\n",
       "      <td>0.127238</td>\n",
       "    </tr>\n",
       "    <tr>\n",
       "      <th>2</th>\n",
       "      <td>2024</td>\n",
       "      <td>80</td>\n",
       "      <td>0.156600</td>\n",
       "    </tr>\n",
       "    <tr>\n",
       "      <th>3</th>\n",
       "      <td>2025</td>\n",
       "      <td>95</td>\n",
       "      <td>0.185963</td>\n",
       "    </tr>\n",
       "    <tr>\n",
       "      <th>4</th>\n",
       "      <td>2026</td>\n",
       "      <td>110</td>\n",
       "      <td>0.215325</td>\n",
       "    </tr>\n",
       "    <tr>\n",
       "      <th>5</th>\n",
       "      <td>2027</td>\n",
       "      <td>125</td>\n",
       "      <td>0.244688</td>\n",
       "    </tr>\n",
       "    <tr>\n",
       "      <th>6</th>\n",
       "      <td>2028</td>\n",
       "      <td>140</td>\n",
       "      <td>0.274050</td>\n",
       "    </tr>\n",
       "    <tr>\n",
       "      <th>7</th>\n",
       "      <td>2029</td>\n",
       "      <td>155</td>\n",
       "      <td>0.303412</td>\n",
       "    </tr>\n",
       "    <tr>\n",
       "      <th>8</th>\n",
       "      <td>2030</td>\n",
       "      <td>170</td>\n",
       "      <td>0.332775</td>\n",
       "    </tr>\n",
       "    <tr>\n",
       "      <th>9</th>\n",
       "      <td>2031</td>\n",
       "      <td>170</td>\n",
       "      <td>0.332775</td>\n",
       "    </tr>\n",
       "    <tr>\n",
       "      <th>10</th>\n",
       "      <td>2032</td>\n",
       "      <td>170</td>\n",
       "      <td>0.332775</td>\n",
       "    </tr>\n",
       "    <tr>\n",
       "      <th>11</th>\n",
       "      <td>2033</td>\n",
       "      <td>170</td>\n",
       "      <td>0.332775</td>\n",
       "    </tr>\n",
       "    <tr>\n",
       "      <th>12</th>\n",
       "      <td>2034</td>\n",
       "      <td>170</td>\n",
       "      <td>0.332775</td>\n",
       "    </tr>\n",
       "    <tr>\n",
       "      <th>13</th>\n",
       "      <td>2035</td>\n",
       "      <td>170</td>\n",
       "      <td>0.332775</td>\n",
       "    </tr>\n",
       "    <tr>\n",
       "      <th>14</th>\n",
       "      <td>2036</td>\n",
       "      <td>170</td>\n",
       "      <td>0.332775</td>\n",
       "    </tr>\n",
       "  </tbody>\n",
       "</table>\n",
       "</div>"
      ],
      "text/plain": [
       "    Year  Carbon Tax ($/tonne)  Carbon Charge Natural Gas ($/m3)\n",
       "0   2022                    50                          0.097875\n",
       "1   2023                    65                          0.127238\n",
       "2   2024                    80                          0.156600\n",
       "3   2025                    95                          0.185963\n",
       "4   2026                   110                          0.215325\n",
       "5   2027                   125                          0.244688\n",
       "6   2028                   140                          0.274050\n",
       "7   2029                   155                          0.303412\n",
       "8   2030                   170                          0.332775\n",
       "9   2031                   170                          0.332775\n",
       "10  2032                   170                          0.332775\n",
       "11  2033                   170                          0.332775\n",
       "12  2034                   170                          0.332775\n",
       "13  2035                   170                          0.332775\n",
       "14  2036                   170                          0.332775"
      ]
     },
     "execution_count": 198,
     "metadata": {},
     "output_type": "execute_result"
    }
   ],
   "source": [
    "# Import carbon charge data\n",
    "# You can see this aligns with carbon charge data from enbridge\n",
    "# https://www.enbridgegas.com/residential/my-account/rates/federal-carbon-charge (below)\n",
    "nat_gas_rate_df = pd.read_csv(\"nat_gas_carbon_pricing.csv\")\n",
    "nat_gas_rate_df.head(16)"
   ]
  },
  {
   "cell_type": "markdown",
   "metadata": {},
   "source": [
    "![Enbridge_CC2.png](Enbridge_CC2.png)"
   ]
  },
  {
   "cell_type": "code",
   "execution_count": 199,
   "metadata": {},
   "outputs": [
    {
     "data": {
      "text/html": [
       "<div>\n",
       "<style scoped>\n",
       "    .dataframe tbody tr th:only-of-type {\n",
       "        vertical-align: middle;\n",
       "    }\n",
       "\n",
       "    .dataframe tbody tr th {\n",
       "        vertical-align: top;\n",
       "    }\n",
       "\n",
       "    .dataframe thead th {\n",
       "        text-align: right;\n",
       "    }\n",
       "</style>\n",
       "<table border=\"1\" class=\"dataframe\">\n",
       "  <thead>\n",
       "    <tr style=\"text-align: right;\">\n",
       "      <th></th>\n",
       "      <th>Year</th>\n",
       "      <th>Carbon Tax ($/tonne)</th>\n",
       "      <th>Carbon Charge Natural Gas ($/m3)</th>\n",
       "      <th>Gas_Rate</th>\n",
       "      <th>Gas_Rate_Low</th>\n",
       "    </tr>\n",
       "  </thead>\n",
       "  <tbody>\n",
       "    <tr>\n",
       "      <th>0</th>\n",
       "      <td>2022</td>\n",
       "      <td>50</td>\n",
       "      <td>0.097875</td>\n",
       "      <td>0.615975</td>\n",
       "      <td>0.512355</td>\n",
       "    </tr>\n",
       "    <tr>\n",
       "      <th>1</th>\n",
       "      <td>2023</td>\n",
       "      <td>65</td>\n",
       "      <td>0.127238</td>\n",
       "      <td>0.645338</td>\n",
       "      <td>0.541718</td>\n",
       "    </tr>\n",
       "    <tr>\n",
       "      <th>2</th>\n",
       "      <td>2024</td>\n",
       "      <td>80</td>\n",
       "      <td>0.156600</td>\n",
       "      <td>0.674700</td>\n",
       "      <td>0.571080</td>\n",
       "    </tr>\n",
       "    <tr>\n",
       "      <th>3</th>\n",
       "      <td>2025</td>\n",
       "      <td>95</td>\n",
       "      <td>0.185963</td>\n",
       "      <td>0.704063</td>\n",
       "      <td>0.600442</td>\n",
       "    </tr>\n",
       "    <tr>\n",
       "      <th>4</th>\n",
       "      <td>2026</td>\n",
       "      <td>110</td>\n",
       "      <td>0.215325</td>\n",
       "      <td>0.733425</td>\n",
       "      <td>0.629805</td>\n",
       "    </tr>\n",
       "    <tr>\n",
       "      <th>5</th>\n",
       "      <td>2027</td>\n",
       "      <td>125</td>\n",
       "      <td>0.244688</td>\n",
       "      <td>0.762787</td>\n",
       "      <td>0.659168</td>\n",
       "    </tr>\n",
       "    <tr>\n",
       "      <th>6</th>\n",
       "      <td>2028</td>\n",
       "      <td>140</td>\n",
       "      <td>0.274050</td>\n",
       "      <td>0.792150</td>\n",
       "      <td>0.688530</td>\n",
       "    </tr>\n",
       "    <tr>\n",
       "      <th>7</th>\n",
       "      <td>2029</td>\n",
       "      <td>155</td>\n",
       "      <td>0.303412</td>\n",
       "      <td>0.821512</td>\n",
       "      <td>0.717893</td>\n",
       "    </tr>\n",
       "    <tr>\n",
       "      <th>8</th>\n",
       "      <td>2030</td>\n",
       "      <td>170</td>\n",
       "      <td>0.332775</td>\n",
       "      <td>0.850875</td>\n",
       "      <td>0.721350</td>\n",
       "    </tr>\n",
       "    <tr>\n",
       "      <th>9</th>\n",
       "      <td>2031</td>\n",
       "      <td>170</td>\n",
       "      <td>0.332775</td>\n",
       "      <td>0.867893</td>\n",
       "      <td>0.735777</td>\n",
       "    </tr>\n",
       "    <tr>\n",
       "      <th>10</th>\n",
       "      <td>2032</td>\n",
       "      <td>170</td>\n",
       "      <td>0.332775</td>\n",
       "      <td>0.885250</td>\n",
       "      <td>0.750493</td>\n",
       "    </tr>\n",
       "    <tr>\n",
       "      <th>11</th>\n",
       "      <td>2033</td>\n",
       "      <td>170</td>\n",
       "      <td>0.332775</td>\n",
       "      <td>0.902955</td>\n",
       "      <td>0.765502</td>\n",
       "    </tr>\n",
       "    <tr>\n",
       "      <th>12</th>\n",
       "      <td>2034</td>\n",
       "      <td>170</td>\n",
       "      <td>0.332775</td>\n",
       "      <td>0.921014</td>\n",
       "      <td>0.780812</td>\n",
       "    </tr>\n",
       "    <tr>\n",
       "      <th>13</th>\n",
       "      <td>2035</td>\n",
       "      <td>170</td>\n",
       "      <td>0.332775</td>\n",
       "      <td>0.939435</td>\n",
       "      <td>0.796429</td>\n",
       "    </tr>\n",
       "    <tr>\n",
       "      <th>14</th>\n",
       "      <td>2036</td>\n",
       "      <td>170</td>\n",
       "      <td>0.332775</td>\n",
       "      <td>0.958223</td>\n",
       "      <td>0.812357</td>\n",
       "    </tr>\n",
       "  </tbody>\n",
       "</table>\n",
       "</div>"
      ],
      "text/plain": [
       "    Year  Carbon Tax ($/tonne)  Carbon Charge Natural Gas ($/m3)  Gas_Rate  \\\n",
       "0   2022                    50                          0.097875  0.615975   \n",
       "1   2023                    65                          0.127238  0.645338   \n",
       "2   2024                    80                          0.156600  0.674700   \n",
       "3   2025                    95                          0.185963  0.704063   \n",
       "4   2026                   110                          0.215325  0.733425   \n",
       "5   2027                   125                          0.244688  0.762787   \n",
       "6   2028                   140                          0.274050  0.792150   \n",
       "7   2029                   155                          0.303412  0.821512   \n",
       "8   2030                   170                          0.332775  0.850875   \n",
       "9   2031                   170                          0.332775  0.867893   \n",
       "10  2032                   170                          0.332775  0.885250   \n",
       "11  2033                   170                          0.332775  0.902955   \n",
       "12  2034                   170                          0.332775  0.921014   \n",
       "13  2035                   170                          0.332775  0.939435   \n",
       "14  2036                   170                          0.332775  0.958223   \n",
       "\n",
       "    Gas_Rate_Low  \n",
       "0       0.512355  \n",
       "1       0.541718  \n",
       "2       0.571080  \n",
       "3       0.600442  \n",
       "4       0.629805  \n",
       "5       0.659168  \n",
       "6       0.688530  \n",
       "7       0.717893  \n",
       "8       0.721350  \n",
       "9       0.735777  \n",
       "10      0.750493  \n",
       "11      0.765502  \n",
       "12      0.780812  \n",
       "13      0.796429  \n",
       "14      0.812357  "
      ]
     },
     "execution_count": 199,
     "metadata": {},
     "output_type": "execute_result"
    }
   ],
   "source": [
    "# Add cost escalation due to carbon charge\n",
    "gas_rate_no_carbon_charge = gas_rate - 0.0979\n",
    "nat_gas_rate_df['Gas_Rate'] = [(gas_rate_no_carbon_charge + x) if (y < 170) else (gas_rate_no_carbon_charge + 0.332775)*(1.02)**(z-2030) for x,y,z in zip(nat_gas_rate_df['Carbon Charge Natural Gas ($/m3)'],nat_gas_rate_df['Carbon Tax ($/tonne)'],nat_gas_rate_df['Year'])]\n",
    "\n",
    "#Scenario with lower gas rates by 25%\n",
    "nat_gas_rate_df['Gas_Rate_Low'] = [(gas_rate_no_carbon_charge*0.80 + x) if (y < 170) else (gas_rate_no_carbon_charge*0.75 + 0.332775)*(1.02)**(z-2030) for x,y,z in zip(nat_gas_rate_df['Carbon Charge Natural Gas ($/m3)'],nat_gas_rate_df['Carbon Tax ($/tonne)'],nat_gas_rate_df['Year'])]\n",
    "nat_gas_rate_df.head(15)"
   ]
  },
  {
   "cell_type": "code",
   "execution_count": 200,
   "metadata": {},
   "outputs": [
    {
     "data": {
      "text/html": [
       "<div>\n",
       "<style scoped>\n",
       "    .dataframe tbody tr th:only-of-type {\n",
       "        vertical-align: middle;\n",
       "    }\n",
       "\n",
       "    .dataframe tbody tr th {\n",
       "        vertical-align: top;\n",
       "    }\n",
       "\n",
       "    .dataframe thead th {\n",
       "        text-align: right;\n",
       "    }\n",
       "</style>\n",
       "<table border=\"1\" class=\"dataframe\">\n",
       "  <thead>\n",
       "    <tr style=\"text-align: right;\">\n",
       "      <th></th>\n",
       "      <th>Year</th>\n",
       "      <th>Carbon Tax ($/tonne)</th>\n",
       "      <th>Carbon Charge Natural Gas ($/m3)</th>\n",
       "      <th>Gas_Rate</th>\n",
       "      <th>Gas_Rate_Low</th>\n",
       "      <th>Elec_Rate</th>\n",
       "    </tr>\n",
       "  </thead>\n",
       "  <tbody>\n",
       "    <tr>\n",
       "      <th>0</th>\n",
       "      <td>2022</td>\n",
       "      <td>50</td>\n",
       "      <td>0.097875</td>\n",
       "      <td>0.615975</td>\n",
       "      <td>0.512355</td>\n",
       "      <td>0.117000</td>\n",
       "    </tr>\n",
       "    <tr>\n",
       "      <th>1</th>\n",
       "      <td>2023</td>\n",
       "      <td>65</td>\n",
       "      <td>0.127238</td>\n",
       "      <td>0.645338</td>\n",
       "      <td>0.541718</td>\n",
       "      <td>0.119340</td>\n",
       "    </tr>\n",
       "    <tr>\n",
       "      <th>2</th>\n",
       "      <td>2024</td>\n",
       "      <td>80</td>\n",
       "      <td>0.156600</td>\n",
       "      <td>0.674700</td>\n",
       "      <td>0.571080</td>\n",
       "      <td>0.121727</td>\n",
       "    </tr>\n",
       "    <tr>\n",
       "      <th>3</th>\n",
       "      <td>2025</td>\n",
       "      <td>95</td>\n",
       "      <td>0.185963</td>\n",
       "      <td>0.704063</td>\n",
       "      <td>0.600442</td>\n",
       "      <td>0.124161</td>\n",
       "    </tr>\n",
       "    <tr>\n",
       "      <th>4</th>\n",
       "      <td>2026</td>\n",
       "      <td>110</td>\n",
       "      <td>0.215325</td>\n",
       "      <td>0.733425</td>\n",
       "      <td>0.629805</td>\n",
       "      <td>0.126645</td>\n",
       "    </tr>\n",
       "    <tr>\n",
       "      <th>5</th>\n",
       "      <td>2027</td>\n",
       "      <td>125</td>\n",
       "      <td>0.244688</td>\n",
       "      <td>0.762787</td>\n",
       "      <td>0.659168</td>\n",
       "      <td>0.129177</td>\n",
       "    </tr>\n",
       "    <tr>\n",
       "      <th>6</th>\n",
       "      <td>2028</td>\n",
       "      <td>140</td>\n",
       "      <td>0.274050</td>\n",
       "      <td>0.792150</td>\n",
       "      <td>0.688530</td>\n",
       "      <td>0.131761</td>\n",
       "    </tr>\n",
       "    <tr>\n",
       "      <th>7</th>\n",
       "      <td>2029</td>\n",
       "      <td>155</td>\n",
       "      <td>0.303412</td>\n",
       "      <td>0.821512</td>\n",
       "      <td>0.717893</td>\n",
       "      <td>0.134396</td>\n",
       "    </tr>\n",
       "    <tr>\n",
       "      <th>8</th>\n",
       "      <td>2030</td>\n",
       "      <td>170</td>\n",
       "      <td>0.332775</td>\n",
       "      <td>0.850875</td>\n",
       "      <td>0.721350</td>\n",
       "      <td>0.137084</td>\n",
       "    </tr>\n",
       "    <tr>\n",
       "      <th>9</th>\n",
       "      <td>2031</td>\n",
       "      <td>170</td>\n",
       "      <td>0.332775</td>\n",
       "      <td>0.867893</td>\n",
       "      <td>0.735777</td>\n",
       "      <td>0.139826</td>\n",
       "    </tr>\n",
       "  </tbody>\n",
       "</table>\n",
       "</div>"
      ],
      "text/plain": [
       "   Year  Carbon Tax ($/tonne)  Carbon Charge Natural Gas ($/m3)  Gas_Rate  \\\n",
       "0  2022                    50                          0.097875  0.615975   \n",
       "1  2023                    65                          0.127238  0.645338   \n",
       "2  2024                    80                          0.156600  0.674700   \n",
       "3  2025                    95                          0.185963  0.704063   \n",
       "4  2026                   110                          0.215325  0.733425   \n",
       "5  2027                   125                          0.244688  0.762787   \n",
       "6  2028                   140                          0.274050  0.792150   \n",
       "7  2029                   155                          0.303412  0.821512   \n",
       "8  2030                   170                          0.332775  0.850875   \n",
       "9  2031                   170                          0.332775  0.867893   \n",
       "\n",
       "   Gas_Rate_Low  Elec_Rate  \n",
       "0      0.512355   0.117000  \n",
       "1      0.541718   0.119340  \n",
       "2      0.571080   0.121727  \n",
       "3      0.600442   0.124161  \n",
       "4      0.629805   0.126645  \n",
       "5      0.659168   0.129177  \n",
       "6      0.688530   0.131761  \n",
       "7      0.717893   0.134396  \n",
       "8      0.721350   0.137084  \n",
       "9      0.735777   0.139826  "
      ]
     },
     "execution_count": 200,
     "metadata": {},
     "output_type": "execute_result"
    }
   ],
   "source": [
    "# Add electricity cost escalation - \n",
    "# Assume 2% per year there has been no recent long-term energy plan to for a better estimate\n",
    "# Just add it to natural gas data frame\n",
    "nat_gas_rate_df['Elec_Rate'] = [elec_rate*(1.02)**x for x in nat_gas_rate_df.index]\n",
    "nat_gas_rate_df.head(10)"
   ]
  },
  {
   "cell_type": "markdown",
   "metadata": {},
   "source": [
    "The rates are determined. But now need adjust the data to also include savings from operations in September and October which up until now have been ignored."
   ]
  },
  {
   "cell_type": "code",
   "execution_count": 201,
   "metadata": {},
   "outputs": [
    {
     "data": {
      "text/plain": [
       "{'HDDs': 28.15416666666667, 'CDDs': 0.620833333333333}"
      ]
     },
     "execution_count": 201,
     "metadata": {},
     "output_type": "execute_result"
    }
   ],
   "source": [
    "# Want to do two things here:\n",
    "# 1) Estimate savings for a full season including September and October\n",
    "# 2) Correct savings to be against a 95% efficient furnace rather than an (estimated) 80% efficient one\n",
    "# Assumed 80% here to be more conservative. It could have been 85%. \"Mid-efficiency\" means greater than 78% AFUE.\n",
    "# For September & October need to model the baseline (already have a model) AND the post-retrofit (no model yet)\n",
    "\n",
    "# September HDDs\n",
    "sept_HDDs = HDD_total(datetime.datetime.strptime('09/01/2021','%m/%d/%Y'),datetime.datetime.strptime('09/30/2021','%m/%d/%Y'))\n",
    "sept_HDDs"
   ]
  },
  {
   "cell_type": "code",
   "execution_count": 202,
   "metadata": {},
   "outputs": [
    {
     "data": {
      "text/plain": [
       "{'HDDs': 103.32083333333333, 'CDDs': 0.025000000000000057}"
      ]
     },
     "execution_count": 202,
     "metadata": {},
     "output_type": "execute_result"
    }
   ],
   "source": [
    "# October HDDs\n",
    "oct_HDDs = HDD_total(datetime.datetime.strptime('10/01/2021','%m/%d/%Y'),datetime.datetime.strptime('10/31/2021','%m/%d/%Y'))\n",
    "oct_HDDs"
   ]
  },
  {
   "cell_type": "code",
   "execution_count": 203,
   "metadata": {},
   "outputs": [
    {
     "data": {
      "text/plain": [
       "314.9348853576393"
      ]
     },
     "execution_count": 203,
     "metadata": {},
     "output_type": "execute_result"
    }
   ],
   "source": [
    "# Determine baseline electricity for Sept\n",
    "sept_baseline_kWh = base_elec_model(sept_HDDs['HDDs'])\n",
    "sept_baseline_kWh"
   ]
  },
  {
   "cell_type": "code",
   "execution_count": 204,
   "metadata": {},
   "outputs": [
    {
     "data": {
      "text/plain": [
       "312.3989458270286"
      ]
     },
     "execution_count": 204,
     "metadata": {},
     "output_type": "execute_result"
    }
   ],
   "source": [
    "# Determine baseline electricity for Oct\n",
    "oct_baseline_kWh = base_elec_model(oct_HDDs['HDDs'])\n",
    "oct_baseline_kWh"
   ]
  },
  {
   "cell_type": "code",
   "execution_count": 205,
   "metadata": {},
   "outputs": [
    {
     "data": {
      "text/plain": [
       "80.46355474967393"
      ]
     },
     "execution_count": 205,
     "metadata": {},
     "output_type": "execute_result"
    }
   ],
   "source": [
    "# Determine baseline gas consumption for Sept\n",
    "sept_baseline_m3 = baseline_gas(sept_HDDs['HDDs'])\n",
    "sept_baseline_m3"
   ]
  },
  {
   "cell_type": "code",
   "execution_count": 206,
   "metadata": {},
   "outputs": [
    {
     "data": {
      "text/plain": [
       "126.034298498234"
      ]
     },
     "execution_count": 206,
     "metadata": {},
     "output_type": "execute_result"
    }
   ],
   "source": [
    "# Determine baseline gas consumption for Oct\n",
    "oct_baseline_m3 = baseline_gas(oct_HDDs['HDDs'])\n",
    "oct_baseline_m3"
   ]
  },
  {
   "cell_type": "code",
   "execution_count": 207,
   "metadata": {},
   "outputs": [
    {
     "data": {
      "text/plain": [
       "627.3338311846679"
      ]
     },
     "execution_count": 207,
     "metadata": {},
     "output_type": "execute_result"
    }
   ],
   "source": [
    "# Total baseline electricity for Sept/Oct\n",
    "sept_oct_baseline_kWh = sept_baseline_kWh + oct_baseline_kWh\n",
    "sept_oct_baseline_kWh"
   ]
  },
  {
   "cell_type": "code",
   "execution_count": 208,
   "metadata": {},
   "outputs": [
    {
     "data": {
      "text/plain": [
       "206.49785324790793"
      ]
     },
     "execution_count": 208,
     "metadata": {},
     "output_type": "execute_result"
    }
   ],
   "source": [
    "# Total baseline gas for Sept/Oct\n",
    "sept_oct_baseline_m3 = sept_baseline_m3 + oct_baseline_m3\n",
    "sept_oct_baseline_m3"
   ]
  },
  {
   "cell_type": "code",
   "execution_count": 209,
   "metadata": {},
   "outputs": [
    {
     "data": {
      "text/plain": [
       "10"
      ]
     },
     "execution_count": 209,
     "metadata": {},
     "output_type": "execute_result"
    }
   ],
   "source": [
    "# Post-retrofit gas consumption \n",
    "# This is what would have been the case had the retrofit happened prior to Septemeber\n",
    "sept_postretro_m3 = 5\n",
    "oct_postretro_m3 = 5\n",
    "sept_oct_postretro_m3 = sept_postretro_m3 + oct_postretro_m3\n",
    "sept_oct_postretro_m3"
   ]
  },
  {
   "cell_type": "code",
   "execution_count": 210,
   "metadata": {},
   "outputs": [
    {
     "data": {
      "text/html": [
       "<div>\n",
       "<style scoped>\n",
       "    .dataframe tbody tr th:only-of-type {\n",
       "        vertical-align: middle;\n",
       "    }\n",
       "\n",
       "    .dataframe tbody tr th {\n",
       "        vertical-align: top;\n",
       "    }\n",
       "\n",
       "    .dataframe thead th {\n",
       "        text-align: right;\n",
       "    }\n",
       "</style>\n",
       "<table border=\"1\" class=\"dataframe\">\n",
       "  <thead>\n",
       "    <tr style=\"text-align: right;\">\n",
       "      <th></th>\n",
       "      <th>From</th>\n",
       "      <th>To</th>\n",
       "      <th>Off-Peak</th>\n",
       "      <th>Mid-Peak</th>\n",
       "      <th>On-Peak</th>\n",
       "      <th>kWh</th>\n",
       "      <th>HDDs</th>\n",
       "      <th>CDDs</th>\n",
       "      <th>modelled_kWh</th>\n",
       "    </tr>\n",
       "  </thead>\n",
       "  <tbody>\n",
       "    <tr>\n",
       "      <th>22</th>\n",
       "      <td>2021-11-01</td>\n",
       "      <td>2021-11-30</td>\n",
       "      <td>713.25</td>\n",
       "      <td>176.45</td>\n",
       "      <td>191.15</td>\n",
       "      <td>1080.85</td>\n",
       "      <td>355.212500</td>\n",
       "      <td>0.000000</td>\n",
       "      <td>303.900737</td>\n",
       "    </tr>\n",
       "    <tr>\n",
       "      <th>23</th>\n",
       "      <td>2021-12-01</td>\n",
       "      <td>2021-12-31</td>\n",
       "      <td>964.37</td>\n",
       "      <td>253.53</td>\n",
       "      <td>246.47</td>\n",
       "      <td>1464.37</td>\n",
       "      <td>447.708333</td>\n",
       "      <td>0.000000</td>\n",
       "      <td>300.780154</td>\n",
       "    </tr>\n",
       "    <tr>\n",
       "      <th>24</th>\n",
       "      <td>2022-01-01</td>\n",
       "      <td>2022-01-31</td>\n",
       "      <td>1610.28</td>\n",
       "      <td>314.37</td>\n",
       "      <td>321.33</td>\n",
       "      <td>2245.98</td>\n",
       "      <td>732.379167</td>\n",
       "      <td>0.000000</td>\n",
       "      <td>291.176056</td>\n",
       "    </tr>\n",
       "    <tr>\n",
       "      <th>25</th>\n",
       "      <td>2022-02-01</td>\n",
       "      <td>2022-02-28</td>\n",
       "      <td>1235.67</td>\n",
       "      <td>258.33</td>\n",
       "      <td>278.88</td>\n",
       "      <td>1772.88</td>\n",
       "      <td>562.070833</td>\n",
       "      <td>0.000000</td>\n",
       "      <td>296.921843</td>\n",
       "    </tr>\n",
       "    <tr>\n",
       "      <th>26</th>\n",
       "      <td>2022-03-01</td>\n",
       "      <td>2022-03-31</td>\n",
       "      <td>963.42</td>\n",
       "      <td>217.97</td>\n",
       "      <td>242.93</td>\n",
       "      <td>1424.32</td>\n",
       "      <td>463.058333</td>\n",
       "      <td>0.000000</td>\n",
       "      <td>300.262282</td>\n",
       "    </tr>\n",
       "    <tr>\n",
       "      <th>27</th>\n",
       "      <td>2022-04-01</td>\n",
       "      <td>2022-04-30</td>\n",
       "      <td>838.31</td>\n",
       "      <td>153.10</td>\n",
       "      <td>180.11</td>\n",
       "      <td>1171.52</td>\n",
       "      <td>284.004167</td>\n",
       "      <td>0.000000</td>\n",
       "      <td>306.303132</td>\n",
       "    </tr>\n",
       "    <tr>\n",
       "      <th>28</th>\n",
       "      <td>2022-05-01</td>\n",
       "      <td>2022-05-31</td>\n",
       "      <td>426.49</td>\n",
       "      <td>83.14</td>\n",
       "      <td>88.50</td>\n",
       "      <td>598.13</td>\n",
       "      <td>74.758333</td>\n",
       "      <td>6.520833</td>\n",
       "      <td>313.362575</td>\n",
       "    </tr>\n",
       "    <tr>\n",
       "      <th>29</th>\n",
       "      <td>2022-06-01</td>\n",
       "      <td>2022-06-30</td>\n",
       "      <td>260.76</td>\n",
       "      <td>64.17</td>\n",
       "      <td>65.12</td>\n",
       "      <td>390.05</td>\n",
       "      <td>16.991667</td>\n",
       "      <td>14.150000</td>\n",
       "      <td>315.311481</td>\n",
       "    </tr>\n",
       "  </tbody>\n",
       "</table>\n",
       "</div>"
      ],
      "text/plain": [
       "         From         To  Off-Peak  Mid-Peak  On-Peak      kWh        HDDs  \\\n",
       "22 2021-11-01 2021-11-30    713.25    176.45   191.15  1080.85  355.212500   \n",
       "23 2021-12-01 2021-12-31    964.37    253.53   246.47  1464.37  447.708333   \n",
       "24 2022-01-01 2022-01-31   1610.28    314.37   321.33  2245.98  732.379167   \n",
       "25 2022-02-01 2022-02-28   1235.67    258.33   278.88  1772.88  562.070833   \n",
       "26 2022-03-01 2022-03-31    963.42    217.97   242.93  1424.32  463.058333   \n",
       "27 2022-04-01 2022-04-30    838.31    153.10   180.11  1171.52  284.004167   \n",
       "28 2022-05-01 2022-05-31    426.49     83.14    88.50   598.13   74.758333   \n",
       "29 2022-06-01 2022-06-30    260.76     64.17    65.12   390.05   16.991667   \n",
       "\n",
       "         CDDs  modelled_kWh  \n",
       "22   0.000000    303.900737  \n",
       "23   0.000000    300.780154  \n",
       "24   0.000000    291.176056  \n",
       "25   0.000000    296.921843  \n",
       "26   0.000000    300.262282  \n",
       "27   0.000000    306.303132  \n",
       "28   6.520833    313.362575  \n",
       "29  14.150000    315.311481  "
      ]
     },
     "execution_count": 210,
     "metadata": {},
     "output_type": "execute_result"
    }
   ],
   "source": [
    "# Will need to model the post-retrofit electricity consumption and use that model \n",
    "# to estimate electricity consumption for Sept/Oct 2021 with the heat pump \n",
    "# Look at data\n",
    "post_elec_data"
   ]
  },
  {
   "cell_type": "code",
   "execution_count": 211,
   "metadata": {},
   "outputs": [
    {
     "name": "stdout",
     "output_type": "stream",
     "text": [
      "coefficient of determination: 0.9793871689770851\n",
      "intercept: 356.0943427382887\n",
      "slope: [2.48599778]\n"
     ]
    },
    {
     "data": {
      "text/plain": [
       "<matplotlib.legend.Legend at 0x216cdc90ba8>"
      ]
     },
     "execution_count": 211,
     "metadata": {},
     "output_type": "execute_result"
    },
    {
     "data": {
      "image/png": "[encoded data removed]",
      "text/plain": [
       "<Figure size 504x360 with 1 Axes>"
      ]
     },
     "metadata": {
      "needs_background": "light"
     },
     "output_type": "display_data"
    }
   ],
   "source": [
    "# Calculate regression line for post_retrofit elec data\n",
    "x = np.array(post_elec_data.HDDs).reshape((-1, 1))\n",
    "y = np.array(post_elec_data.kWh)\n",
    "post_model_elec = LinearRegression()\n",
    "post_model_elec.fit(x, y)\n",
    "post_model_elec_r_sq_2 = post_model_elec.score(x, y)\n",
    "print('coefficient of determination:', post_model_elec_r_sq_2)\n",
    "print('intercept:', post_model_elec.intercept_)\n",
    "print('slope:', post_model_elec.coef_)\n",
    "\n",
    "# Function for baseline model\n",
    "def post_elec_model(HDDs):\n",
    "    kWh = post_model_elec.coef_[0]*HDDs + post_model_elec.intercept_\n",
    "    return kWh\n",
    "\n",
    "# Visualize pre-retrofit data, baseline model, and post-retrofit data\n",
    "x = [0,600]\n",
    "y = [post_elec_model(a) for a in x]\n",
    "plt.figure(figsize = (7,5))\n",
    "plt.scatter(post_elec_data.HDDs,post_elec_data.kWh, color = step_blue, label = 'Post-retrofit Data')\n",
    "plt.plot(x,y, color = step_blue, label = 'Model')\n",
    "plt.xlim(0,600)\n",
    "plt.xlabel('HDDs')\n",
    "plt.ylabel('Elec Consumption [kWh]')\n",
    "plt.grid(ls='--')\n",
    "plt.legend(loc = 2)"
   ]
  },
  {
   "cell_type": "markdown",
   "metadata": {},
   "source": [
    "Model looks good."
   ]
  },
  {
   "cell_type": "code",
   "execution_count": 212,
   "metadata": {},
   "outputs": [
    {
     "data": {
      "text/plain": [
       "426.0855386629004"
      ]
     },
     "execution_count": 212,
     "metadata": {},
     "output_type": "execute_result"
    }
   ],
   "source": [
    "# Use model to determine September electricity consumption if ASHP system was used\n",
    "sept_postretro_kWh = post_elec_model(sept_HDDs['HDDs'])\n",
    "sept_postretro_kWh "
   ]
  },
  {
   "cell_type": "code",
   "execution_count": 213,
   "metadata": {},
   "outputs": [
    {
     "data": {
      "text/plain": [
       "612.9497053759379"
      ]
     },
     "execution_count": 213,
     "metadata": {},
     "output_type": "execute_result"
    }
   ],
   "source": [
    "# Use model to determine October electricity consumption if ASHP system was used\n",
    "oct_postretro_kWh = post_elec_model(oct_HDDs['HDDs'])\n",
    "oct_postretro_kWh "
   ]
  },
  {
   "cell_type": "code",
   "execution_count": 214,
   "metadata": {},
   "outputs": [
    {
     "data": {
      "text/plain": [
       "1039.0352440388383"
      ]
     },
     "execution_count": 214,
     "metadata": {},
     "output_type": "execute_result"
    }
   ],
   "source": [
    "# Total for Sept and Oct\n",
    "sept_oct_postretro_kWh = sept_postretro_kWh + oct_postretro_kWh\n",
    "sept_oct_postretro_kWh"
   ]
  },
  {
   "cell_type": "code",
   "execution_count": 215,
   "metadata": {},
   "outputs": [
    {
     "data": {
      "text/plain": [
       "196.49785324790793"
      ]
     },
     "execution_count": 215,
     "metadata": {},
     "output_type": "execute_result"
    }
   ],
   "source": [
    "# Total Gas decrease for Sept and Oct if ASHP is used\n",
    "sept_oct_gas_decrease = sept_oct_baseline_m3 - sept_oct_postretro_m3\n",
    "sept_oct_gas_decrease"
   ]
  },
  {
   "cell_type": "code",
   "execution_count": 216,
   "metadata": {},
   "outputs": [
    {
     "data": {
      "text/plain": [
       "411.70141285417037"
      ]
     },
     "execution_count": 216,
     "metadata": {},
     "output_type": "execute_result"
    }
   ],
   "source": [
    "# Total Elec increase for Sept and Oct if ASHP is used\n",
    "sept_oct_elec_increase = sept_oct_postretro_kWh - sept_oct_baseline_kWh\n",
    "sept_oct_elec_increase"
   ]
  },
  {
   "cell_type": "code",
   "execution_count": 217,
   "metadata": {},
   "outputs": [
    {
     "data": {
      "text/plain": [
       "4.047355057614251"
      ]
     },
     "execution_count": 217,
     "metadata": {},
     "output_type": "execute_result"
    }
   ],
   "source": [
    "# COP for Sept and Oct\n",
    "sept_oct_COP = (sept_oct_gas_decrease * 10.6 * 0.80) / sept_oct_elec_increase \n",
    "sept_oct_COP"
   ]
  },
  {
   "cell_type": "code",
   "execution_count": 218,
   "metadata": {},
   "outputs": [
    {
     "data": {
      "text/plain": [
       "2192.7258958413404"
      ]
     },
     "execution_count": 218,
     "metadata": {},
     "output_type": "execute_result"
    }
   ],
   "source": [
    "# Now want to add Sept/Oct gas savings to total\n",
    "# Also want to correct here to use a high-efficiency furnace (95%) as a point of reference rather than mid.\n",
    "# This decreases the savings\n",
    "gas_savings_corr2 = (gas_savings_corr + sept_oct_gas_decrease) * (0.80/0.95) # Want to lower the gas savings to reflect what they would be vs. 95% furnace\n",
    "gas_savings_corr2"
   ]
  },
  {
   "cell_type": "code",
   "execution_count": 219,
   "metadata": {},
   "outputs": [
    {
     "data": {
      "text/plain": [
       "8131.783153990959"
      ]
     },
     "execution_count": 219,
     "metadata": {},
     "output_type": "execute_result"
    }
   ],
   "source": [
    "# Add Sept/Oct elec increase to the total\n",
    "elec_increase_corr = sept_oct_elec_increase + elec_increase\n",
    "elec_increase_corr"
   ]
  },
  {
   "cell_type": "code",
   "execution_count": 220,
   "metadata": {},
   "outputs": [
    {
     "data": {
      "text/html": [
       "<div>\n",
       "<style scoped>\n",
       "    .dataframe tbody tr th:only-of-type {\n",
       "        vertical-align: middle;\n",
       "    }\n",
       "\n",
       "    .dataframe tbody tr th {\n",
       "        vertical-align: top;\n",
       "    }\n",
       "\n",
       "    .dataframe thead th {\n",
       "        text-align: right;\n",
       "    }\n",
       "</style>\n",
       "<table border=\"1\" class=\"dataframe\">\n",
       "  <thead>\n",
       "    <tr style=\"text-align: right;\">\n",
       "      <th></th>\n",
       "      <th>Year</th>\n",
       "      <th>Carbon Tax ($/tonne)</th>\n",
       "      <th>Carbon Charge Natural Gas ($/m3)</th>\n",
       "      <th>Gas_Rate</th>\n",
       "      <th>Gas_Rate_Low</th>\n",
       "      <th>Elec_Rate</th>\n",
       "      <th>Annual_Gas_Savings_m3</th>\n",
       "      <th>Annual_Elec_Increase_kWh</th>\n",
       "      <th>Annual_Gas_Savings_dol</th>\n",
       "      <th>Annual_Gas_Savings_dol_Low</th>\n",
       "      <th>Annual_Elec_Increase_dol</th>\n",
       "      <th>Annual_Net_Cost_Change</th>\n",
       "      <th>Annual_Net_Cost_Change_Low</th>\n",
       "    </tr>\n",
       "  </thead>\n",
       "  <tbody>\n",
       "    <tr>\n",
       "      <th>0</th>\n",
       "      <td>2022</td>\n",
       "      <td>50</td>\n",
       "      <td>0.097875</td>\n",
       "      <td>0.615975</td>\n",
       "      <td>0.512355</td>\n",
       "      <td>0.117000</td>\n",
       "      <td>2192.725896</td>\n",
       "      <td>8131.783154</td>\n",
       "      <td>1350.664334</td>\n",
       "      <td>1123.454076</td>\n",
       "      <td>951.418629</td>\n",
       "      <td>-399.245705</td>\n",
       "      <td>-172.035447</td>\n",
       "    </tr>\n",
       "    <tr>\n",
       "      <th>1</th>\n",
       "      <td>2023</td>\n",
       "      <td>65</td>\n",
       "      <td>0.127238</td>\n",
       "      <td>0.645338</td>\n",
       "      <td>0.541718</td>\n",
       "      <td>0.119340</td>\n",
       "      <td>2192.725896</td>\n",
       "      <td>8131.783154</td>\n",
       "      <td>1415.048248</td>\n",
       "      <td>1187.837990</td>\n",
       "      <td>970.447002</td>\n",
       "      <td>-444.601246</td>\n",
       "      <td>-217.390989</td>\n",
       "    </tr>\n",
       "    <tr>\n",
       "      <th>2</th>\n",
       "      <td>2024</td>\n",
       "      <td>80</td>\n",
       "      <td>0.156600</td>\n",
       "      <td>0.674700</td>\n",
       "      <td>0.571080</td>\n",
       "      <td>0.121727</td>\n",
       "      <td>2192.725896</td>\n",
       "      <td>8131.783154</td>\n",
       "      <td>1479.432162</td>\n",
       "      <td>1252.221905</td>\n",
       "      <td>989.855942</td>\n",
       "      <td>-489.576220</td>\n",
       "      <td>-262.365963</td>\n",
       "    </tr>\n",
       "    <tr>\n",
       "      <th>3</th>\n",
       "      <td>2025</td>\n",
       "      <td>95</td>\n",
       "      <td>0.185963</td>\n",
       "      <td>0.704063</td>\n",
       "      <td>0.600442</td>\n",
       "      <td>0.124161</td>\n",
       "      <td>2192.725896</td>\n",
       "      <td>8131.783154</td>\n",
       "      <td>1543.816076</td>\n",
       "      <td>1316.605819</td>\n",
       "      <td>1009.653060</td>\n",
       "      <td>-534.163016</td>\n",
       "      <td>-306.952758</td>\n",
       "    </tr>\n",
       "    <tr>\n",
       "      <th>4</th>\n",
       "      <td>2026</td>\n",
       "      <td>110</td>\n",
       "      <td>0.215325</td>\n",
       "      <td>0.733425</td>\n",
       "      <td>0.629805</td>\n",
       "      <td>0.126645</td>\n",
       "      <td>2192.725896</td>\n",
       "      <td>8131.783154</td>\n",
       "      <td>1608.199990</td>\n",
       "      <td>1380.989733</td>\n",
       "      <td>1029.846122</td>\n",
       "      <td>-578.353868</td>\n",
       "      <td>-351.143611</td>\n",
       "    </tr>\n",
       "    <tr>\n",
       "      <th>5</th>\n",
       "      <td>2027</td>\n",
       "      <td>125</td>\n",
       "      <td>0.244688</td>\n",
       "      <td>0.762787</td>\n",
       "      <td>0.659168</td>\n",
       "      <td>0.129177</td>\n",
       "      <td>2192.725896</td>\n",
       "      <td>8131.783154</td>\n",
       "      <td>1672.583904</td>\n",
       "      <td>1445.373647</td>\n",
       "      <td>1050.443044</td>\n",
       "      <td>-622.140860</td>\n",
       "      <td>-394.930603</td>\n",
       "    </tr>\n",
       "    <tr>\n",
       "      <th>6</th>\n",
       "      <td>2028</td>\n",
       "      <td>140</td>\n",
       "      <td>0.274050</td>\n",
       "      <td>0.792150</td>\n",
       "      <td>0.688530</td>\n",
       "      <td>0.131761</td>\n",
       "      <td>2192.725896</td>\n",
       "      <td>8131.783154</td>\n",
       "      <td>1736.967818</td>\n",
       "      <td>1509.757561</td>\n",
       "      <td>1071.451905</td>\n",
       "      <td>-665.515913</td>\n",
       "      <td>-438.305656</td>\n",
       "    </tr>\n",
       "    <tr>\n",
       "      <th>7</th>\n",
       "      <td>2029</td>\n",
       "      <td>155</td>\n",
       "      <td>0.303412</td>\n",
       "      <td>0.821512</td>\n",
       "      <td>0.717893</td>\n",
       "      <td>0.134396</td>\n",
       "      <td>2192.725896</td>\n",
       "      <td>8131.783154</td>\n",
       "      <td>1801.351733</td>\n",
       "      <td>1574.141475</td>\n",
       "      <td>1092.880943</td>\n",
       "      <td>-708.470789</td>\n",
       "      <td>-481.260532</td>\n",
       "    </tr>\n",
       "    <tr>\n",
       "      <th>8</th>\n",
       "      <td>2030</td>\n",
       "      <td>170</td>\n",
       "      <td>0.332775</td>\n",
       "      <td>0.850875</td>\n",
       "      <td>0.721350</td>\n",
       "      <td>0.137084</td>\n",
       "      <td>2192.725896</td>\n",
       "      <td>8131.783154</td>\n",
       "      <td>1865.735647</td>\n",
       "      <td>1581.722825</td>\n",
       "      <td>1114.738562</td>\n",
       "      <td>-750.997085</td>\n",
       "      <td>-466.984263</td>\n",
       "    </tr>\n",
       "    <tr>\n",
       "      <th>9</th>\n",
       "      <td>2031</td>\n",
       "      <td>170</td>\n",
       "      <td>0.332775</td>\n",
       "      <td>0.867893</td>\n",
       "      <td>0.735777</td>\n",
       "      <td>0.139826</td>\n",
       "      <td>2192.725896</td>\n",
       "      <td>8131.783154</td>\n",
       "      <td>1903.050360</td>\n",
       "      <td>1613.357281</td>\n",
       "      <td>1137.033333</td>\n",
       "      <td>-766.017026</td>\n",
       "      <td>-476.323948</td>\n",
       "    </tr>\n",
       "    <tr>\n",
       "      <th>10</th>\n",
       "      <td>2032</td>\n",
       "      <td>170</td>\n",
       "      <td>0.332775</td>\n",
       "      <td>0.885250</td>\n",
       "      <td>0.750493</td>\n",
       "      <td>0.142622</td>\n",
       "      <td>2192.725896</td>\n",
       "      <td>8131.783154</td>\n",
       "      <td>1941.111367</td>\n",
       "      <td>1645.624427</td>\n",
       "      <td>1159.774000</td>\n",
       "      <td>-781.337367</td>\n",
       "      <td>-485.850427</td>\n",
       "    </tr>\n",
       "    <tr>\n",
       "      <th>11</th>\n",
       "      <td>2033</td>\n",
       "      <td>170</td>\n",
       "      <td>0.332775</td>\n",
       "      <td>0.902955</td>\n",
       "      <td>0.765502</td>\n",
       "      <td>0.145475</td>\n",
       "      <td>2192.725896</td>\n",
       "      <td>8131.783154</td>\n",
       "      <td>1979.933594</td>\n",
       "      <td>1678.536916</td>\n",
       "      <td>1182.969480</td>\n",
       "      <td>-796.964114</td>\n",
       "      <td>-495.567436</td>\n",
       "    </tr>\n",
       "    <tr>\n",
       "      <th>12</th>\n",
       "      <td>2034</td>\n",
       "      <td>170</td>\n",
       "      <td>0.332775</td>\n",
       "      <td>0.921014</td>\n",
       "      <td>0.780812</td>\n",
       "      <td>0.148384</td>\n",
       "      <td>2192.725896</td>\n",
       "      <td>8131.783154</td>\n",
       "      <td>2019.532266</td>\n",
       "      <td>1712.107654</td>\n",
       "      <td>1206.628869</td>\n",
       "      <td>-812.903397</td>\n",
       "      <td>-505.478785</td>\n",
       "    </tr>\n",
       "    <tr>\n",
       "      <th>13</th>\n",
       "      <td>2035</td>\n",
       "      <td>170</td>\n",
       "      <td>0.332775</td>\n",
       "      <td>0.939435</td>\n",
       "      <td>0.796429</td>\n",
       "      <td>0.151352</td>\n",
       "      <td>2192.725896</td>\n",
       "      <td>8131.783154</td>\n",
       "      <td>2059.922911</td>\n",
       "      <td>1746.349807</td>\n",
       "      <td>1230.761447</td>\n",
       "      <td>-829.161464</td>\n",
       "      <td>-515.588360</td>\n",
       "    </tr>\n",
       "    <tr>\n",
       "      <th>14</th>\n",
       "      <td>2036</td>\n",
       "      <td>170</td>\n",
       "      <td>0.332775</td>\n",
       "      <td>0.958223</td>\n",
       "      <td>0.812357</td>\n",
       "      <td>0.154379</td>\n",
       "      <td>2192.725896</td>\n",
       "      <td>8131.783154</td>\n",
       "      <td>2101.121370</td>\n",
       "      <td>1781.276803</td>\n",
       "      <td>1255.376676</td>\n",
       "      <td>-845.744694</td>\n",
       "      <td>-525.900127</td>\n",
       "    </tr>\n",
       "  </tbody>\n",
       "</table>\n",
       "</div>"
      ],
      "text/plain": [
       "    Year  Carbon Tax ($/tonne)  Carbon Charge Natural Gas ($/m3)  Gas_Rate  \\\n",
       "0   2022                    50                          0.097875  0.615975   \n",
       "1   2023                    65                          0.127238  0.645338   \n",
       "2   2024                    80                          0.156600  0.674700   \n",
       "3   2025                    95                          0.185963  0.704063   \n",
       "4   2026                   110                          0.215325  0.733425   \n",
       "5   2027                   125                          0.244688  0.762787   \n",
       "6   2028                   140                          0.274050  0.792150   \n",
       "7   2029                   155                          0.303412  0.821512   \n",
       "8   2030                   170                          0.332775  0.850875   \n",
       "9   2031                   170                          0.332775  0.867893   \n",
       "10  2032                   170                          0.332775  0.885250   \n",
       "11  2033                   170                          0.332775  0.902955   \n",
       "12  2034                   170                          0.332775  0.921014   \n",
       "13  2035                   170                          0.332775  0.939435   \n",
       "14  2036                   170                          0.332775  0.958223   \n",
       "\n",
       "    Gas_Rate_Low  Elec_Rate  Annual_Gas_Savings_m3  Annual_Elec_Increase_kWh  \\\n",
       "0       0.512355   0.117000            2192.725896               8131.783154   \n",
       "1       0.541718   0.119340            2192.725896               8131.783154   \n",
       "2       0.571080   0.121727            2192.725896               8131.783154   \n",
       "3       0.600442   0.124161            2192.725896               8131.783154   \n",
       "4       0.629805   0.126645            2192.725896               8131.783154   \n",
       "5       0.659168   0.129177            2192.725896               8131.783154   \n",
       "6       0.688530   0.131761            2192.725896               8131.783154   \n",
       "7       0.717893   0.134396            2192.725896               8131.783154   \n",
       "8       0.721350   0.137084            2192.725896               8131.783154   \n",
       "9       0.735777   0.139826            2192.725896               8131.783154   \n",
       "10      0.750493   0.142622            2192.725896               8131.783154   \n",
       "11      0.765502   0.145475            2192.725896               8131.783154   \n",
       "12      0.780812   0.148384            2192.725896               8131.783154   \n",
       "13      0.796429   0.151352            2192.725896               8131.783154   \n",
       "14      0.812357   0.154379            2192.725896               8131.783154   \n",
       "\n",
       "    Annual_Gas_Savings_dol  Annual_Gas_Savings_dol_Low  \\\n",
       "0              1350.664334                 1123.454076   \n",
       "1              1415.048248                 1187.837990   \n",
       "2              1479.432162                 1252.221905   \n",
       "3              1543.816076                 1316.605819   \n",
       "4              1608.199990                 1380.989733   \n",
       "5              1672.583904                 1445.373647   \n",
       "6              1736.967818                 1509.757561   \n",
       "7              1801.351733                 1574.141475   \n",
       "8              1865.735647                 1581.722825   \n",
       "9              1903.050360                 1613.357281   \n",
       "10             1941.111367                 1645.624427   \n",
       "11             1979.933594                 1678.536916   \n",
       "12             2019.532266                 1712.107654   \n",
       "13             2059.922911                 1746.349807   \n",
       "14             2101.121370                 1781.276803   \n",
       "\n",
       "    Annual_Elec_Increase_dol  Annual_Net_Cost_Change  \\\n",
       "0                 951.418629             -399.245705   \n",
       "1                 970.447002             -444.601246   \n",
       "2                 989.855942             -489.576220   \n",
       "3                1009.653060             -534.163016   \n",
       "4                1029.846122             -578.353868   \n",
       "5                1050.443044             -622.140860   \n",
       "6                1071.451905             -665.515913   \n",
       "7                1092.880943             -708.470789   \n",
       "8                1114.738562             -750.997085   \n",
       "9                1137.033333             -766.017026   \n",
       "10               1159.774000             -781.337367   \n",
       "11               1182.969480             -796.964114   \n",
       "12               1206.628869             -812.903397   \n",
       "13               1230.761447             -829.161464   \n",
       "14               1255.376676             -845.744694   \n",
       "\n",
       "    Annual_Net_Cost_Change_Low  \n",
       "0                  -172.035447  \n",
       "1                  -217.390989  \n",
       "2                  -262.365963  \n",
       "3                  -306.952758  \n",
       "4                  -351.143611  \n",
       "5                  -394.930603  \n",
       "6                  -438.305656  \n",
       "7                  -481.260532  \n",
       "8                  -466.984263  \n",
       "9                  -476.323948  \n",
       "10                 -485.850427  \n",
       "11                 -495.567436  \n",
       "12                 -505.478785  \n",
       "13                 -515.588360  \n",
       "14                 -525.900127  "
      ]
     },
     "execution_count": 220,
     "metadata": {},
     "output_type": "execute_result"
    }
   ],
   "source": [
    "# Can now calculate full annual savings with those corrections made\n",
    "nat_gas_rate_df['Annual_Gas_Savings_m3'] = [gas_savings_corr2 for x in nat_gas_rate_df.Gas_Rate]\n",
    "nat_gas_rate_df['Annual_Elec_Increase_kWh'] = [elec_increase_corr for x in nat_gas_rate_df.Elec_Rate] #elec_increase + add_elec_increase\n",
    "nat_gas_rate_df['Annual_Gas_Savings_dol'] = [gas_savings_corr2*x for x in nat_gas_rate_df.Gas_Rate]\n",
    "nat_gas_rate_df['Annual_Gas_Savings_dol_Low'] = [gas_savings_corr2*x for x in nat_gas_rate_df.Gas_Rate_Low] #Scenario with lower rates\n",
    "nat_gas_rate_df['Annual_Elec_Increase_dol'] = [elec_increase_corr*x for x in nat_gas_rate_df.Elec_Rate]\n",
    "nat_gas_rate_df['Annual_Net_Cost_Change'] = [y - x for x,y in zip(nat_gas_rate_df.Annual_Gas_Savings_dol,nat_gas_rate_df.Annual_Elec_Increase_dol)]\n",
    "nat_gas_rate_df['Annual_Net_Cost_Change_Low'] = [y - x for x,y in zip(nat_gas_rate_df.Annual_Gas_Savings_dol_Low,nat_gas_rate_df.Annual_Elec_Increase_dol)]\n",
    "nat_gas_rate_df.head(15)"
   ]
  },
  {
   "cell_type": "code",
   "execution_count": 221,
   "metadata": {},
   "outputs": [
    {
     "data": {
      "text/plain": [
       "-10025.19276512488"
      ]
     },
     "execution_count": 221,
     "metadata": {},
     "output_type": "execute_result"
    }
   ],
   "source": [
    "# Total net cost to 2036 not including gas customer charge\n",
    "nat_gas_rate_df.Annual_Net_Cost_Change.sum()"
   ]
  },
  {
   "cell_type": "code",
   "execution_count": 222,
   "metadata": {},
   "outputs": [
    {
     "data": {
      "text/plain": [
       "-6096.078906043144"
      ]
     },
     "execution_count": 222,
     "metadata": {},
     "output_type": "execute_result"
    }
   ],
   "source": [
    "# Total net cost to 2036 not including gas customer charge - assuming low gas rate scenario\n",
    "nat_gas_rate_df.Annual_Net_Cost_Change_Low.sum()"
   ]
  },
  {
   "cell_type": "code",
   "execution_count": 223,
   "metadata": {},
   "outputs": [
    {
     "data": {
      "text/plain": [
       "-14525.192765124882"
      ]
     },
     "execution_count": 223,
     "metadata": {},
     "output_type": "execute_result"
    }
   ],
   "source": [
    "# Total net cost savings to 2036 including gas custmer charge\n",
    "nat_gas_rate_df['Annual_Net_Cost_Change_GCC'] =  nat_gas_rate_df.Annual_Net_Cost_Change - 300\n",
    "nat_gas_rate_df.Annual_Net_Cost_Change_GCC.sum()"
   ]
  },
  {
   "cell_type": "code",
   "execution_count": 224,
   "metadata": {},
   "outputs": [
    {
     "data": {
      "text/plain": [
       "-10596.078906043143"
      ]
     },
     "execution_count": 224,
     "metadata": {},
     "output_type": "execute_result"
    }
   ],
   "source": [
    "# Total net cost savings to 2036 including gas custmer charge\n",
    "nat_gas_rate_df['Annual_Net_Cost_Change_GCC_Low'] =  nat_gas_rate_df.Annual_Net_Cost_Change_Low - 300\n",
    "nat_gas_rate_df.Annual_Net_Cost_Change_GCC_Low.sum()"
   ]
  },
  {
   "cell_type": "code",
   "execution_count": 225,
   "metadata": {},
   "outputs": [
    {
     "data": {
      "text/plain": [
       "-12287.482114673792"
      ]
     },
     "execution_count": 225,
     "metadata": {},
     "output_type": "execute_result"
    }
   ],
   "source": [
    "# Discount all future savings to today's dollars assuming 2% discount rate\n",
    "nat_gas_rate_df['PV_2'] = [x/(1.02)**(y+1) for x,y in zip(nat_gas_rate_df.Annual_Net_Cost_Change_GCC,nat_gas_rate_df.index)]\n",
    "PV_2 = nat_gas_rate_df['PV_2'].sum()\n",
    "PV_2"
   ]
  },
  {
   "cell_type": "code",
   "execution_count": 226,
   "metadata": {},
   "outputs": [
    {
     "data": {
      "text/plain": [
       "-8959.513022845547"
      ]
     },
     "execution_count": 226,
     "metadata": {},
     "output_type": "execute_result"
    }
   ],
   "source": [
    "# Discount all future savings to today's dollars assuming 2% discount rate - low gas rate scenario\n",
    "nat_gas_rate_df['PV_2_Low'] = [x/(1.02)**(y+1) for x,y in zip(nat_gas_rate_df.Annual_Net_Cost_Change_GCC_Low,nat_gas_rate_df.index)]\n",
    "PV_2_Low = nat_gas_rate_df['PV_2_Low'].sum()\n",
    "PV_2_Low"
   ]
  },
  {
   "cell_type": "code",
   "execution_count": 227,
   "metadata": {},
   "outputs": [
    {
     "data": {
      "text/plain": [
       "-9741.345770308888"
      ]
     },
     "execution_count": 227,
     "metadata": {},
     "output_type": "execute_result"
    }
   ],
   "source": [
    "# Discount all future savings to today's dollars assuming 5% discount rate\n",
    "nat_gas_rate_df['PV_5'] = [x/(1.05)**(y+1) for x,y in zip(nat_gas_rate_df.Annual_Net_Cost_Change_GCC,nat_gas_rate_df.index)]\n",
    "PV_5 = nat_gas_rate_df['PV_5'].sum()\n",
    "PV_5"
   ]
  },
  {
   "cell_type": "code",
   "execution_count": 228,
   "metadata": {},
   "outputs": [
    {
     "data": {
      "text/plain": [
       "-7096.0596102452955"
      ]
     },
     "execution_count": 228,
     "metadata": {},
     "output_type": "execute_result"
    }
   ],
   "source": [
    "# Discount all future savings to today's dollars assuming 5% discount rate\n",
    "nat_gas_rate_df['PV_5_Low'] = [x/(1.05)**(y+1) for x,y in zip(nat_gas_rate_df.Annual_Net_Cost_Change_GCC_Low,nat_gas_rate_df.index)]\n",
    "PV_5_Low = nat_gas_rate_df['PV_5_Low'].sum()\n",
    "PV_5_Low"
   ]
  },
  {
   "cell_type": "code",
   "execution_count": 229,
   "metadata": {},
   "outputs": [
    {
     "data": {
      "text/plain": [
       "-8443.07890300505"
      ]
     },
     "execution_count": 229,
     "metadata": {},
     "output_type": "execute_result"
    }
   ],
   "source": [
    "# Discount all future savings to today's dollars assuming 7% discount rate\n",
    "nat_gas_rate_df['PV_7'] = [x/(1.07)**(y+1) for x,y in zip(nat_gas_rate_df.Annual_Net_Cost_Change_GCC,nat_gas_rate_df.index)]\n",
    "PV_7 = nat_gas_rate_df['PV_7'].sum()\n",
    "PV_7"
   ]
  },
  {
   "cell_type": "code",
   "execution_count": 230,
   "metadata": {},
   "outputs": [
    {
     "data": {
      "text/plain": [
       "-6145.276027941139"
      ]
     },
     "execution_count": 230,
     "metadata": {},
     "output_type": "execute_result"
    }
   ],
   "source": [
    "# Discount all future savings to today's dollars assuming 7% discount rate\n",
    "nat_gas_rate_df['PV_7_Low'] = [x/(1.07)**(y+1) for x,y in zip(nat_gas_rate_df.Annual_Net_Cost_Change_GCC_Low,nat_gas_rate_df.index)]\n",
    "PV_7_Low = nat_gas_rate_df['PV_7_Low'].sum()\n",
    "PV_7_Low"
   ]
  },
  {
   "cell_type": "code",
   "execution_count": 231,
   "metadata": {},
   "outputs": [
    {
     "data": {
      "text/html": [
       "<div>\n",
       "<style scoped>\n",
       "    .dataframe tbody tr th:only-of-type {\n",
       "        vertical-align: middle;\n",
       "    }\n",
       "\n",
       "    .dataframe tbody tr th {\n",
       "        vertical-align: top;\n",
       "    }\n",
       "\n",
       "    .dataframe thead th {\n",
       "        text-align: right;\n",
       "    }\n",
       "</style>\n",
       "<table border=\"1\" class=\"dataframe\">\n",
       "  <thead>\n",
       "    <tr style=\"text-align: right;\">\n",
       "      <th></th>\n",
       "      <th>Year</th>\n",
       "      <th>Carbon Tax ($/tonne)</th>\n",
       "      <th>Carbon Charge Natural Gas ($/m3)</th>\n",
       "      <th>Gas_Rate</th>\n",
       "      <th>Gas_Rate_Low</th>\n",
       "      <th>Elec_Rate</th>\n",
       "      <th>Annual_Gas_Savings_m3</th>\n",
       "      <th>Annual_Elec_Increase_kWh</th>\n",
       "      <th>Annual_Gas_Savings_dol</th>\n",
       "      <th>Annual_Gas_Savings_dol_Low</th>\n",
       "      <th>Annual_Elec_Increase_dol</th>\n",
       "      <th>Annual_Net_Cost_Change</th>\n",
       "      <th>Annual_Net_Cost_Change_Low</th>\n",
       "      <th>Annual_Net_Cost_Change_GCC</th>\n",
       "      <th>Annual_Net_Cost_Change_GCC_Low</th>\n",
       "      <th>PV_2</th>\n",
       "      <th>PV_2_Low</th>\n",
       "      <th>PV_5</th>\n",
       "      <th>PV_5_Low</th>\n",
       "      <th>PV_7</th>\n",
       "      <th>PV_7_Low</th>\n",
       "    </tr>\n",
       "  </thead>\n",
       "  <tbody>\n",
       "    <tr>\n",
       "      <th>0</th>\n",
       "      <td>2022</td>\n",
       "      <td>50</td>\n",
       "      <td>0.097875</td>\n",
       "      <td>0.615975</td>\n",
       "      <td>0.512355</td>\n",
       "      <td>0.117000</td>\n",
       "      <td>2192.725896</td>\n",
       "      <td>8131.783154</td>\n",
       "      <td>1350.664334</td>\n",
       "      <td>1123.454076</td>\n",
       "      <td>951.418629</td>\n",
       "      <td>-399.245705</td>\n",
       "      <td>-172.035447</td>\n",
       "      <td>-699.245705</td>\n",
       "      <td>-472.035447</td>\n",
       "      <td>-685.535005</td>\n",
       "      <td>-462.779850</td>\n",
       "      <td>-665.948290</td>\n",
       "      <td>-449.557569</td>\n",
       "      <td>-653.500659</td>\n",
       "      <td>-441.154624</td>\n",
       "    </tr>\n",
       "    <tr>\n",
       "      <th>1</th>\n",
       "      <td>2023</td>\n",
       "      <td>65</td>\n",
       "      <td>0.127238</td>\n",
       "      <td>0.645338</td>\n",
       "      <td>0.541718</td>\n",
       "      <td>0.119340</td>\n",
       "      <td>2192.725896</td>\n",
       "      <td>8131.783154</td>\n",
       "      <td>1415.048248</td>\n",
       "      <td>1187.837990</td>\n",
       "      <td>970.447002</td>\n",
       "      <td>-444.601246</td>\n",
       "      <td>-217.390989</td>\n",
       "      <td>-744.601246</td>\n",
       "      <td>-517.390989</td>\n",
       "      <td>-715.687472</td>\n",
       "      <td>-497.300066</td>\n",
       "      <td>-675.375280</td>\n",
       "      <td>-469.288879</td>\n",
       "      <td>-650.363566</td>\n",
       "      <td>-451.909327</td>\n",
       "    </tr>\n",
       "    <tr>\n",
       "      <th>2</th>\n",
       "      <td>2024</td>\n",
       "      <td>80</td>\n",
       "      <td>0.156600</td>\n",
       "      <td>0.674700</td>\n",
       "      <td>0.571080</td>\n",
       "      <td>0.121727</td>\n",
       "      <td>2192.725896</td>\n",
       "      <td>8131.783154</td>\n",
       "      <td>1479.432162</td>\n",
       "      <td>1252.221905</td>\n",
       "      <td>989.855942</td>\n",
       "      <td>-489.576220</td>\n",
       "      <td>-262.365963</td>\n",
       "      <td>-789.576220</td>\n",
       "      <td>-562.365963</td>\n",
       "      <td>-744.035307</td>\n",
       "      <td>-529.930007</td>\n",
       "      <td>-682.065626</td>\n",
       "      <td>-485.792863</td>\n",
       "      <td>-644.529392</td>\n",
       "      <td>-459.058142</td>\n",
       "    </tr>\n",
       "    <tr>\n",
       "      <th>3</th>\n",
       "      <td>2025</td>\n",
       "      <td>95</td>\n",
       "      <td>0.185963</td>\n",
       "      <td>0.704063</td>\n",
       "      <td>0.600442</td>\n",
       "      <td>0.124161</td>\n",
       "      <td>2192.725896</td>\n",
       "      <td>8131.783154</td>\n",
       "      <td>1543.816076</td>\n",
       "      <td>1316.605819</td>\n",
       "      <td>1009.653060</td>\n",
       "      <td>-534.163016</td>\n",
       "      <td>-306.952758</td>\n",
       "      <td>-834.163016</td>\n",
       "      <td>-606.952758</td>\n",
       "      <td>-770.637687</td>\n",
       "      <td>-560.730530</td>\n",
       "      <td>-686.267977</td>\n",
       "      <td>-499.341536</td>\n",
       "      <td>-636.378971</td>\n",
       "      <td>-463.041353</td>\n",
       "    </tr>\n",
       "    <tr>\n",
       "      <th>4</th>\n",
       "      <td>2026</td>\n",
       "      <td>110</td>\n",
       "      <td>0.215325</td>\n",
       "      <td>0.733425</td>\n",
       "      <td>0.629805</td>\n",
       "      <td>0.126645</td>\n",
       "      <td>2192.725896</td>\n",
       "      <td>8131.783154</td>\n",
       "      <td>1608.199990</td>\n",
       "      <td>1380.989733</td>\n",
       "      <td>1029.846122</td>\n",
       "      <td>-578.353868</td>\n",
       "      <td>-351.143611</td>\n",
       "      <td>-878.353868</td>\n",
       "      <td>-651.143611</td>\n",
       "      <td>-795.552161</td>\n",
       "      <td>-589.760830</td>\n",
       "      <td>-688.213239</td>\n",
       "      <td>-510.188057</td>\n",
       "      <td>-626.254169</td>\n",
       "      <td>-464.256396</td>\n",
       "    </tr>\n",
       "    <tr>\n",
       "      <th>5</th>\n",
       "      <td>2027</td>\n",
       "      <td>125</td>\n",
       "      <td>0.244688</td>\n",
       "      <td>0.762787</td>\n",
       "      <td>0.659168</td>\n",
       "      <td>0.129177</td>\n",
       "      <td>2192.725896</td>\n",
       "      <td>8131.783154</td>\n",
       "      <td>1672.583904</td>\n",
       "      <td>1445.373647</td>\n",
       "      <td>1050.443044</td>\n",
       "      <td>-622.140860</td>\n",
       "      <td>-394.930603</td>\n",
       "      <td>-922.140860</td>\n",
       "      <td>-694.930603</td>\n",
       "      <td>-818.834694</td>\n",
       "      <td>-617.078488</td>\n",
       "      <td>-688.115708</td>\n",
       "      <td>-518.567915</td>\n",
       "      <td>-614.461391</td>\n",
       "      <td>-463.061603</td>\n",
       "    </tr>\n",
       "    <tr>\n",
       "      <th>6</th>\n",
       "      <td>2028</td>\n",
       "      <td>140</td>\n",
       "      <td>0.274050</td>\n",
       "      <td>0.792150</td>\n",
       "      <td>0.688530</td>\n",
       "      <td>0.131761</td>\n",
       "      <td>2192.725896</td>\n",
       "      <td>8131.783154</td>\n",
       "      <td>1736.967818</td>\n",
       "      <td>1509.757561</td>\n",
       "      <td>1071.451905</td>\n",
       "      <td>-665.515913</td>\n",
       "      <td>-438.305656</td>\n",
       "      <td>-965.515913</td>\n",
       "      <td>-738.305656</td>\n",
       "      <td>-840.539706</td>\n",
       "      <td>-642.739504</td>\n",
       "      <td>-686.174134</td>\n",
       "      <td>-524.700046</td>\n",
       "      <td>-601.274786</td>\n",
       "      <td>-459.779657</td>\n",
       "    </tr>\n",
       "    <tr>\n",
       "      <th>7</th>\n",
       "      <td>2029</td>\n",
       "      <td>155</td>\n",
       "      <td>0.303412</td>\n",
       "      <td>0.821512</td>\n",
       "      <td>0.717893</td>\n",
       "      <td>0.134396</td>\n",
       "      <td>2192.725896</td>\n",
       "      <td>8131.783154</td>\n",
       "      <td>1801.351733</td>\n",
       "      <td>1574.141475</td>\n",
       "      <td>1092.880943</td>\n",
       "      <td>-708.470789</td>\n",
       "      <td>-481.260532</td>\n",
       "      <td>-1008.470789</td>\n",
       "      <td>-781.260532</td>\n",
       "      <td>-860.720108</td>\n",
       "      <td>-666.798342</td>\n",
       "      <td>-682.572726</td>\n",
       "      <td>-528.787880</td>\n",
       "      <td>-586.939181</td>\n",
       "      <td>-454.700743</td>\n",
       "    </tr>\n",
       "    <tr>\n",
       "      <th>8</th>\n",
       "      <td>2030</td>\n",
       "      <td>170</td>\n",
       "      <td>0.332775</td>\n",
       "      <td>0.850875</td>\n",
       "      <td>0.721350</td>\n",
       "      <td>0.137084</td>\n",
       "      <td>2192.725896</td>\n",
       "      <td>8131.783154</td>\n",
       "      <td>1865.735647</td>\n",
       "      <td>1581.722825</td>\n",
       "      <td>1114.738562</td>\n",
       "      <td>-750.997085</td>\n",
       "      <td>-466.984263</td>\n",
       "      <td>-1050.997085</td>\n",
       "      <td>-766.984263</td>\n",
       "      <td>-879.427345</td>\n",
       "      <td>-641.778121</td>\n",
       "      <td>-677.482092</td>\n",
       "      <td>-494.404895</td>\n",
       "      <td>-571.672778</td>\n",
       "      <td>-417.188621</td>\n",
       "    </tr>\n",
       "    <tr>\n",
       "      <th>9</th>\n",
       "      <td>2031</td>\n",
       "      <td>170</td>\n",
       "      <td>0.332775</td>\n",
       "      <td>0.867893</td>\n",
       "      <td>0.735777</td>\n",
       "      <td>0.139826</td>\n",
       "      <td>2192.725896</td>\n",
       "      <td>8131.783154</td>\n",
       "      <td>1903.050360</td>\n",
       "      <td>1613.357281</td>\n",
       "      <td>1137.033333</td>\n",
       "      <td>-766.017026</td>\n",
       "      <td>-476.323948</td>\n",
       "      <td>-1066.017026</td>\n",
       "      <td>-776.323948</td>\n",
       "      <td>-874.505255</td>\n",
       "      <td>-636.856031</td>\n",
       "      <td>-654.441981</td>\n",
       "      <td>-476.595561</td>\n",
       "      <td>-541.909001</td>\n",
       "      <td>-394.643730</td>\n",
       "    </tr>\n",
       "    <tr>\n",
       "      <th>10</th>\n",
       "      <td>2032</td>\n",
       "      <td>170</td>\n",
       "      <td>0.332775</td>\n",
       "      <td>0.885250</td>\n",
       "      <td>0.750493</td>\n",
       "      <td>0.142622</td>\n",
       "      <td>2192.725896</td>\n",
       "      <td>8131.783154</td>\n",
       "      <td>1941.111367</td>\n",
       "      <td>1645.624427</td>\n",
       "      <td>1159.774000</td>\n",
       "      <td>-781.337367</td>\n",
       "      <td>-485.850427</td>\n",
       "      <td>-1081.337367</td>\n",
       "      <td>-785.850427</td>\n",
       "      <td>-869.679677</td>\n",
       "      <td>-632.030453</td>\n",
       "      <td>-632.235563</td>\n",
       "      <td>-459.470469</td>\n",
       "      <td>-513.735593</td>\n",
       "      <td>-373.351877</td>\n",
       "    </tr>\n",
       "    <tr>\n",
       "      <th>11</th>\n",
       "      <td>2033</td>\n",
       "      <td>170</td>\n",
       "      <td>0.332775</td>\n",
       "      <td>0.902955</td>\n",
       "      <td>0.765502</td>\n",
       "      <td>0.145475</td>\n",
       "      <td>2192.725896</td>\n",
       "      <td>8131.783154</td>\n",
       "      <td>1979.933594</td>\n",
       "      <td>1678.536916</td>\n",
       "      <td>1182.969480</td>\n",
       "      <td>-796.964114</td>\n",
       "      <td>-495.567436</td>\n",
       "      <td>-1096.964114</td>\n",
       "      <td>-795.567436</td>\n",
       "      <td>-864.948718</td>\n",
       "      <td>-627.299494</td>\n",
       "      <td>-610.830665</td>\n",
       "      <td>-443.001717</td>\n",
       "      <td>-487.065186</td>\n",
       "      <td>-353.241456</td>\n",
       "    </tr>\n",
       "    <tr>\n",
       "      <th>12</th>\n",
       "      <td>2034</td>\n",
       "      <td>170</td>\n",
       "      <td>0.332775</td>\n",
       "      <td>0.921014</td>\n",
       "      <td>0.780812</td>\n",
       "      <td>0.148384</td>\n",
       "      <td>2192.725896</td>\n",
       "      <td>8131.783154</td>\n",
       "      <td>2019.532266</td>\n",
       "      <td>1712.107654</td>\n",
       "      <td>1206.628869</td>\n",
       "      <td>-812.903397</td>\n",
       "      <td>-505.478785</td>\n",
       "      <td>-1112.903397</td>\n",
       "      <td>-805.478785</td>\n",
       "      <td>-860.310523</td>\n",
       "      <td>-622.661299</td>\n",
       "      <td>-590.196432</td>\n",
       "      <td>-427.162597</td>\n",
       "      <td>-461.815343</td>\n",
       "      <td>-334.245059</td>\n",
       "    </tr>\n",
       "    <tr>\n",
       "      <th>13</th>\n",
       "      <td>2035</td>\n",
       "      <td>170</td>\n",
       "      <td>0.332775</td>\n",
       "      <td>0.939435</td>\n",
       "      <td>0.796429</td>\n",
       "      <td>0.151352</td>\n",
       "      <td>2192.725896</td>\n",
       "      <td>8131.783154</td>\n",
       "      <td>2059.922911</td>\n",
       "      <td>1746.349807</td>\n",
       "      <td>1230.761447</td>\n",
       "      <td>-829.161464</td>\n",
       "      <td>-515.588360</td>\n",
       "      <td>-1129.161464</td>\n",
       "      <td>-815.588360</td>\n",
       "      <td>-855.763273</td>\n",
       "      <td>-618.114049</td>\n",
       "      <td>-570.303269</td>\n",
       "      <td>-411.927544</td>\n",
       "      <td>-437.908284</td>\n",
       "      <td>-316.299228</td>\n",
       "    </tr>\n",
       "    <tr>\n",
       "      <th>14</th>\n",
       "      <td>2036</td>\n",
       "      <td>170</td>\n",
       "      <td>0.332775</td>\n",
       "      <td>0.958223</td>\n",
       "      <td>0.812357</td>\n",
       "      <td>0.154379</td>\n",
       "      <td>2192.725896</td>\n",
       "      <td>8131.783154</td>\n",
       "      <td>2101.121370</td>\n",
       "      <td>1781.276803</td>\n",
       "      <td>1255.376676</td>\n",
       "      <td>-845.744694</td>\n",
       "      <td>-525.900127</td>\n",
       "      <td>-1145.744694</td>\n",
       "      <td>-825.900127</td>\n",
       "      <td>-851.305184</td>\n",
       "      <td>-613.655960</td>\n",
       "      <td>-551.122788</td>\n",
       "      <td>-397.272083</td>\n",
       "      <td>-415.270604</td>\n",
       "      <td>-299.344214</td>\n",
       "    </tr>\n",
       "  </tbody>\n",
       "</table>\n",
       "</div>"
      ],
      "text/plain": [
       "    Year  Carbon Tax ($/tonne)  Carbon Charge Natural Gas ($/m3)  Gas_Rate  \\\n",
       "0   2022                    50                          0.097875  0.615975   \n",
       "1   2023                    65                          0.127238  0.645338   \n",
       "2   2024                    80                          0.156600  0.674700   \n",
       "3   2025                    95                          0.185963  0.704063   \n",
       "4   2026                   110                          0.215325  0.733425   \n",
       "5   2027                   125                          0.244688  0.762787   \n",
       "6   2028                   140                          0.274050  0.792150   \n",
       "7   2029                   155                          0.303412  0.821512   \n",
       "8   2030                   170                          0.332775  0.850875   \n",
       "9   2031                   170                          0.332775  0.867893   \n",
       "10  2032                   170                          0.332775  0.885250   \n",
       "11  2033                   170                          0.332775  0.902955   \n",
       "12  2034                   170                          0.332775  0.921014   \n",
       "13  2035                   170                          0.332775  0.939435   \n",
       "14  2036                   170                          0.332775  0.958223   \n",
       "\n",
       "    Gas_Rate_Low  Elec_Rate  Annual_Gas_Savings_m3  Annual_Elec_Increase_kWh  \\\n",
       "0       0.512355   0.117000            2192.725896               8131.783154   \n",
       "1       0.541718   0.119340            2192.725896               8131.783154   \n",
       "2       0.571080   0.121727            2192.725896               8131.783154   \n",
       "3       0.600442   0.124161            2192.725896               8131.783154   \n",
       "4       0.629805   0.126645            2192.725896               8131.783154   \n",
       "5       0.659168   0.129177            2192.725896               8131.783154   \n",
       "6       0.688530   0.131761            2192.725896               8131.783154   \n",
       "7       0.717893   0.134396            2192.725896               8131.783154   \n",
       "8       0.721350   0.137084            2192.725896               8131.783154   \n",
       "9       0.735777   0.139826            2192.725896               8131.783154   \n",
       "10      0.750493   0.142622            2192.725896               8131.783154   \n",
       "11      0.765502   0.145475            2192.725896               8131.783154   \n",
       "12      0.780812   0.148384            2192.725896               8131.783154   \n",
       "13      0.796429   0.151352            2192.725896               8131.783154   \n",
       "14      0.812357   0.154379            2192.725896               8131.783154   \n",
       "\n",
       "    Annual_Gas_Savings_dol  Annual_Gas_Savings_dol_Low  \\\n",
       "0              1350.664334                 1123.454076   \n",
       "1              1415.048248                 1187.837990   \n",
       "2              1479.432162                 1252.221905   \n",
       "3              1543.816076                 1316.605819   \n",
       "4              1608.199990                 1380.989733   \n",
       "5              1672.583904                 1445.373647   \n",
       "6              1736.967818                 1509.757561   \n",
       "7              1801.351733                 1574.141475   \n",
       "8              1865.735647                 1581.722825   \n",
       "9              1903.050360                 1613.357281   \n",
       "10             1941.111367                 1645.624427   \n",
       "11             1979.933594                 1678.536916   \n",
       "12             2019.532266                 1712.107654   \n",
       "13             2059.922911                 1746.349807   \n",
       "14             2101.121370                 1781.276803   \n",
       "\n",
       "    Annual_Elec_Increase_dol  Annual_Net_Cost_Change  \\\n",
       "0                 951.418629             -399.245705   \n",
       "1                 970.447002             -444.601246   \n",
       "2                 989.855942             -489.576220   \n",
       "3                1009.653060             -534.163016   \n",
       "4                1029.846122             -578.353868   \n",
       "5                1050.443044             -622.140860   \n",
       "6                1071.451905             -665.515913   \n",
       "7                1092.880943             -708.470789   \n",
       "8                1114.738562             -750.997085   \n",
       "9                1137.033333             -766.017026   \n",
       "10               1159.774000             -781.337367   \n",
       "11               1182.969480             -796.964114   \n",
       "12               1206.628869             -812.903397   \n",
       "13               1230.761447             -829.161464   \n",
       "14               1255.376676             -845.744694   \n",
       "\n",
       "    Annual_Net_Cost_Change_Low  Annual_Net_Cost_Change_GCC  \\\n",
       "0                  -172.035447                 -699.245705   \n",
       "1                  -217.390989                 -744.601246   \n",
       "2                  -262.365963                 -789.576220   \n",
       "3                  -306.952758                 -834.163016   \n",
       "4                  -351.143611                 -878.353868   \n",
       "5                  -394.930603                 -922.140860   \n",
       "6                  -438.305656                 -965.515913   \n",
       "7                  -481.260532                -1008.470789   \n",
       "8                  -466.984263                -1050.997085   \n",
       "9                  -476.323948                -1066.017026   \n",
       "10                 -485.850427                -1081.337367   \n",
       "11                 -495.567436                -1096.964114   \n",
       "12                 -505.478785                -1112.903397   \n",
       "13                 -515.588360                -1129.161464   \n",
       "14                 -525.900127                -1145.744694   \n",
       "\n",
       "    Annual_Net_Cost_Change_GCC_Low        PV_2    PV_2_Low        PV_5  \\\n",
       "0                      -472.035447 -685.535005 -462.779850 -665.948290   \n",
       "1                      -517.390989 -715.687472 -497.300066 -675.375280   \n",
       "2                      -562.365963 -744.035307 -529.930007 -682.065626   \n",
       "3                      -606.952758 -770.637687 -560.730530 -686.267977   \n",
       "4                      -651.143611 -795.552161 -589.760830 -688.213239   \n",
       "5                      -694.930603 -818.834694 -617.078488 -688.115708   \n",
       "6                      -738.305656 -840.539706 -642.739504 -686.174134   \n",
       "7                      -781.260532 -860.720108 -666.798342 -682.572726   \n",
       "8                      -766.984263 -879.427345 -641.778121 -677.482092   \n",
       "9                      -776.323948 -874.505255 -636.856031 -654.441981   \n",
       "10                     -785.850427 -869.679677 -632.030453 -632.235563   \n",
       "11                     -795.567436 -864.948718 -627.299494 -610.830665   \n",
       "12                     -805.478785 -860.310523 -622.661299 -590.196432   \n",
       "13                     -815.588360 -855.763273 -618.114049 -570.303269   \n",
       "14                     -825.900127 -851.305184 -613.655960 -551.122788   \n",
       "\n",
       "      PV_5_Low        PV_7    PV_7_Low  \n",
       "0  -449.557569 -653.500659 -441.154624  \n",
       "1  -469.288879 -650.363566 -451.909327  \n",
       "2  -485.792863 -644.529392 -459.058142  \n",
       "3  -499.341536 -636.378971 -463.041353  \n",
       "4  -510.188057 -626.254169 -464.256396  \n",
       "5  -518.567915 -614.461391 -463.061603  \n",
       "6  -524.700046 -601.274786 -459.779657  \n",
       "7  -528.787880 -586.939181 -454.700743  \n",
       "8  -494.404895 -571.672778 -417.188621  \n",
       "9  -476.595561 -541.909001 -394.643730  \n",
       "10 -459.470469 -513.735593 -373.351877  \n",
       "11 -443.001717 -487.065186 -353.241456  \n",
       "12 -427.162597 -461.815343 -334.245059  \n",
       "13 -411.927544 -437.908284 -316.299228  \n",
       "14 -397.272083 -415.270604 -299.344214  "
      ]
     },
     "execution_count": 231,
     "metadata": {},
     "output_type": "execute_result"
    }
   ],
   "source": [
    "nat_gas_rate_df.head(20)"
   ]
  },
  {
   "cell_type": "code",
   "execution_count": 232,
   "metadata": {},
   "outputs": [
    {
     "data": {
      "text/plain": [
       "16673.199804985168"
      ]
     },
     "execution_count": 232,
     "metadata": {},
     "output_type": "execute_result"
    }
   ],
   "source": [
    "# Incremental cost assuming 2% discount rate and 0% financing and 10-year term (like in Greener Homes Loan)\n",
    "cost_ASHPs = 41827 -1000 #1000 rebate for water heater\n",
    "cost_conv = 20000\n",
    "cost_inc = cost_ASHPs - cost_conv\n",
    "payment = (cost_ASHPs/10)\n",
    "year = [1,2,3,4,5,6,7,8,9,10]\n",
    "\n",
    "sum_2 = 0\n",
    "for yr in year:\n",
    "    sum_2 = sum_2 + payment/(1.02)**yr\n",
    "Inc_2 = sum_2-cost_conv\n",
    "Inc_2"
   ]
  },
  {
   "cell_type": "code",
   "execution_count": 233,
   "metadata": {},
   "outputs": [
    {
     "data": {
      "text/plain": [
       "20827"
      ]
     },
     "execution_count": 233,
     "metadata": {},
     "output_type": "execute_result"
    }
   ],
   "source": [
    "#Incremental cost\n",
    "cost_inc"
   ]
  },
  {
   "cell_type": "code",
   "execution_count": 234,
   "metadata": {},
   "outputs": [
    {
     "data": {
      "text/plain": [
       "4082.7"
      ]
     },
     "execution_count": 234,
     "metadata": {},
     "output_type": "execute_result"
    }
   ],
   "source": [
    "#Annual payment\n",
    "payment"
   ]
  },
  {
   "cell_type": "code",
   "execution_count": 235,
   "metadata": {
    "scrolled": true
   },
   "outputs": [
    {
     "data": {
      "text/plain": [
       "36673.19980498517"
      ]
     },
     "execution_count": 235,
     "metadata": {},
     "output_type": "execute_result"
    }
   ],
   "source": [
    "# Upfront cost in today's dollars assuming 2% discount rate and 0% financing\n",
    "sum_2"
   ]
  },
  {
   "cell_type": "code",
   "execution_count": 236,
   "metadata": {},
   "outputs": [
    {
     "data": {
      "text/plain": [
       "10.17414993757766"
      ]
     },
     "execution_count": 236,
     "metadata": {},
     "output_type": "execute_result"
    }
   ],
   "source": [
    "# Percentage reduction due to 0% financing\n",
    "(1-sum_2/cost_ASHPs)*100"
   ]
  },
  {
   "cell_type": "code",
   "execution_count": 237,
   "metadata": {},
   "outputs": [
    {
     "data": {
      "text/plain": [
       "11525.52719538282"
      ]
     },
     "execution_count": 237,
     "metadata": {},
     "output_type": "execute_result"
    }
   ],
   "source": [
    "# Incremental cost assuming 5% discount rate and 0% financing\n",
    "sum_5 = 0\n",
    "for yr in year:\n",
    "    sum_5 = sum_5 + payment/(1.05)**yr\n",
    "sum_5-cost_conv\n",
    "Inc_5 = sum_5-cost_conv\n",
    "Inc_5"
   ]
  },
  {
   "cell_type": "code",
   "execution_count": 238,
   "metadata": {},
   "outputs": [
    {
     "data": {
      "text/plain": [
       "31525.52719538282"
      ]
     },
     "execution_count": 238,
     "metadata": {},
     "output_type": "execute_result"
    }
   ],
   "source": [
    "# Upfront cost in today's dollars assuming 5% discount rate and 0% financing\n",
    "sum_5"
   ]
  },
  {
   "cell_type": "code",
   "execution_count": 239,
   "metadata": {},
   "outputs": [
    {
     "data": {
      "text/plain": [
       "22.78265070815191"
      ]
     },
     "execution_count": 239,
     "metadata": {},
     "output_type": "execute_result"
    }
   ],
   "source": [
    "# Percentage reduction due to 0% financing assuming 5% discount rate\n",
    "(1-sum_5/cost_ASHPs)*100"
   ]
  },
  {
   "cell_type": "code",
   "execution_count": 240,
   "metadata": {
    "scrolled": true
   },
   "outputs": [
    {
     "data": {
      "text/plain": [
       "8675.176357165528"
      ]
     },
     "execution_count": 240,
     "metadata": {},
     "output_type": "execute_result"
    }
   ],
   "source": [
    "# Incremental cost assuming 7% discount rate and 0% financing\n",
    "sum_7 = 0\n",
    "for yr in year:\n",
    "    sum_7 = sum_7 + payment/(1.07)**yr\n",
    "Inc_7 = sum_7-cost_conv\n",
    "Inc_7"
   ]
  },
  {
   "cell_type": "code",
   "execution_count": 241,
   "metadata": {},
   "outputs": [
    {
     "data": {
      "text/plain": [
       "28675.17635716553"
      ]
     },
     "execution_count": 241,
     "metadata": {},
     "output_type": "execute_result"
    }
   ],
   "source": [
    "# Upfront cost in today's dollars assuming 7% discount rate and 0% financing\n",
    "sum_7"
   ]
  },
  {
   "cell_type": "code",
   "execution_count": 242,
   "metadata": {},
   "outputs": [
    {
     "data": {
      "text/plain": [
       "29.76418459067399"
      ]
     },
     "execution_count": 242,
     "metadata": {},
     "output_type": "execute_result"
    }
   ],
   "source": [
    "# Percentage reduction due to 0% financing\n",
    "(1-sum_7/cost_ASHPs)*100"
   ]
  },
  {
   "cell_type": "code",
   "execution_count": 243,
   "metadata": {},
   "outputs": [
    {
     "data": {
      "text/plain": [
       "-8539.517885326208"
      ]
     },
     "execution_count": 243,
     "metadata": {},
     "output_type": "execute_result"
    }
   ],
   "source": [
    "# Scenario 1: NPV no 0%-financing \n",
    "S1_max = -cost_inc - PV_2 # Use the full incremental cost (not discounted) but savings are discounted\n",
    "S1_max # Maximum NPV from Scenario 1"
   ]
  },
  {
   "cell_type": "code",
   "execution_count": 244,
   "metadata": {},
   "outputs": [
    {
     "data": {
      "text/plain": [
       "-11867.486977154453"
      ]
     },
     "execution_count": 244,
     "metadata": {},
     "output_type": "execute_result"
    }
   ],
   "source": [
    "# NPV no 0%-financing 2% discount - Low gas scenario\n",
    "S1_max_Low = -cost_inc - PV_2_Low\n",
    "S1_max_Low"
   ]
  },
  {
   "cell_type": "code",
   "execution_count": 245,
   "metadata": {},
   "outputs": [
    {
     "data": {
      "text/plain": [
       "-11085.654229691112"
      ]
     },
     "execution_count": 245,
     "metadata": {},
     "output_type": "execute_result"
    }
   ],
   "source": [
    "# NPV no 0%-financing 5% discount\n",
    "-cost_inc - PV_5"
   ]
  },
  {
   "cell_type": "code",
   "execution_count": 246,
   "metadata": {},
   "outputs": [
    {
     "data": {
      "text/plain": [
       "-13730.940389754705"
      ]
     },
     "execution_count": 246,
     "metadata": {},
     "output_type": "execute_result"
    }
   ],
   "source": [
    "# NPV no 0%-financing 5% discount - Low gas scenario\n",
    "-cost_inc - PV_5_Low"
   ]
  },
  {
   "cell_type": "code",
   "execution_count": 247,
   "metadata": {},
   "outputs": [
    {
     "data": {
      "text/plain": [
       "-12383.92109699495"
      ]
     },
     "execution_count": 247,
     "metadata": {},
     "output_type": "execute_result"
    }
   ],
   "source": [
    "# NPV no 0%-financing 7% discount\n",
    "S1_min = -cost_inc - PV_7 # \"Min\" because it is a lower value\n",
    "S1_min"
   ]
  },
  {
   "cell_type": "code",
   "execution_count": 248,
   "metadata": {},
   "outputs": [
    {
     "data": {
      "text/plain": [
       "-14681.723972058862"
      ]
     },
     "execution_count": 248,
     "metadata": {},
     "output_type": "execute_result"
    }
   ],
   "source": [
    "# NPV no 0%-financing 7% discount - Low gas scenario\n",
    "S1_min_Low = -cost_inc - PV_7_Low\n",
    "S1_min_Low"
   ]
  },
  {
   "cell_type": "code",
   "execution_count": 249,
   "metadata": {},
   "outputs": [
    {
     "data": {
      "text/plain": [
       "-4385.717690311376"
      ]
     },
     "execution_count": 249,
     "metadata": {},
     "output_type": "execute_result"
    }
   ],
   "source": [
    "# Scenario 2: 0% Financing; No Rebate - this one isn't in white paper\n",
    "# NPV 0%-financing 2% discount\n",
    "S2_min = -Inc_2 - PV_2\n",
    "S2_min"
   ]
  },
  {
   "cell_type": "code",
   "execution_count": 250,
   "metadata": {},
   "outputs": [
    {
     "data": {
      "text/plain": [
       "-7713.686782139621"
      ]
     },
     "execution_count": 250,
     "metadata": {},
     "output_type": "execute_result"
    }
   ],
   "source": [
    "# NPV 0%-financing 2% discount - Low gas scenario\n",
    "S2_min_Low = -Inc_2 - PV_2_Low\n",
    "S2_min_Low"
   ]
  },
  {
   "cell_type": "code",
   "execution_count": 251,
   "metadata": {},
   "outputs": [
    {
     "data": {
      "text/plain": [
       "-1784.1814250739317"
      ]
     },
     "execution_count": 251,
     "metadata": {},
     "output_type": "execute_result"
    }
   ],
   "source": [
    "# NPV 0%-financing 5% discount\n",
    "-Inc_5 - PV_5"
   ]
  },
  {
   "cell_type": "code",
   "execution_count": 252,
   "metadata": {},
   "outputs": [
    {
     "data": {
      "text/plain": [
       "-4429.467585137524"
      ]
     },
     "execution_count": 252,
     "metadata": {},
     "output_type": "execute_result"
    }
   ],
   "source": [
    "# NPV 0%-financing 5% discount - Low gas scenario\n",
    "-Inc_5 - PV_5_Low"
   ]
  },
  {
   "cell_type": "code",
   "execution_count": 253,
   "metadata": {},
   "outputs": [
    {
     "data": {
      "text/plain": [
       "-232.09745416047917"
      ]
     },
     "execution_count": 253,
     "metadata": {},
     "output_type": "execute_result"
    }
   ],
   "source": [
    "# NPV 0%-financing 7% discount\n",
    "S2_max = -Inc_7 - PV_7\n",
    "S2_max"
   ]
  },
  {
   "cell_type": "code",
   "execution_count": 254,
   "metadata": {},
   "outputs": [
    {
     "data": {
      "text/plain": [
       "-2529.9003292243897"
      ]
     },
     "execution_count": 254,
     "metadata": {},
     "output_type": "execute_result"
    }
   ],
   "source": [
    "# NPV 0%-financing 7% discount - Low gas scenario\n",
    "S2_max_Low = -Inc_7 - PV_7_Low\n",
    "S2_max_Low"
   ]
  },
  {
   "cell_type": "code",
   "execution_count": 255,
   "metadata": {},
   "outputs": [
    {
     "data": {
      "text/plain": [
       "-385.7176903113759"
      ]
     },
     "execution_count": 255,
     "metadata": {},
     "output_type": "execute_result"
    }
   ],
   "source": [
    "# Scenario 3: 0% Financing and Rebate\n",
    "# NPV 0%-financing 2% discount and rebate (additional $4,000 since $1,000 was already included)\n",
    "S3_min = -Inc_2 - PV_2 + 4000\n",
    "S3_min"
   ]
  },
  {
   "cell_type": "code",
   "execution_count": 256,
   "metadata": {},
   "outputs": [
    {
     "data": {
      "text/plain": [
       "-3713.686782139621"
      ]
     },
     "execution_count": 256,
     "metadata": {},
     "output_type": "execute_result"
    }
   ],
   "source": [
    "# NPV 0%-financing 2% discount and rebate (additional $4,000 since $1,000 was already included) - Low gas rate scenario\n",
    "S3_min_Low = -Inc_2 - PV_2_Low + 4000\n",
    "S3_min_Low"
   ]
  },
  {
   "cell_type": "code",
   "execution_count": 257,
   "metadata": {},
   "outputs": [
    {
     "data": {
      "text/plain": [
       "2215.8185749260683"
      ]
     },
     "execution_count": 257,
     "metadata": {},
     "output_type": "execute_result"
    }
   ],
   "source": [
    "# NPV 0%-financing 5% discount and rebate (additional $4,000 since $1,000 was already included)\n",
    "-Inc_5 - PV_5 + 4000"
   ]
  },
  {
   "cell_type": "code",
   "execution_count": 258,
   "metadata": {},
   "outputs": [
    {
     "data": {
      "text/plain": [
       "-429.4675851375241"
      ]
     },
     "execution_count": 258,
     "metadata": {},
     "output_type": "execute_result"
    }
   ],
   "source": [
    "# NPV 0%-financing 5% discount and rebate (additional $4,000 since $1,000 was already included) - Low gas rate scenario\n",
    "-Inc_5 - PV_5_Low + 4000"
   ]
  },
  {
   "cell_type": "code",
   "execution_count": 259,
   "metadata": {},
   "outputs": [
    {
     "data": {
      "text/plain": [
       "3767.902545839521"
      ]
     },
     "execution_count": 259,
     "metadata": {},
     "output_type": "execute_result"
    }
   ],
   "source": [
    "# NPV 0%-financing 7% discount and rebate (additional $4,000 since $1,000 was already included)\n",
    "S3_max = -Inc_7 - PV_7 + 4000\n",
    "S3_max"
   ]
  },
  {
   "cell_type": "code",
   "execution_count": 260,
   "metadata": {},
   "outputs": [
    {
     "data": {
      "text/plain": [
       "1470.0996707756103"
      ]
     },
     "execution_count": 260,
     "metadata": {},
     "output_type": "execute_result"
    }
   ],
   "source": [
    "# NPV 0%-financing 7% discount and rebate (additional $4,000 since $1,000 was already included) - Low gas rate scenario\n",
    "S3_max_Low = -Inc_7 - PV_7_Low + 4000\n",
    "S3_max_Low"
   ]
  },
  {
   "cell_type": "code",
   "execution_count": 261,
   "metadata": {},
   "outputs": [
    {
     "data": {
      "image/png": "[encoded data removed]",
      "text/plain": [
       "<Figure size 504x360 with 1 Axes>"
      ]
     },
     "metadata": {
      "needs_background": "light"
     },
     "output_type": "display_data"
    }
   ],
   "source": [
    "# Make the NPV summary plot\n",
    "a=0.05\n",
    "b= a + a/2\n",
    "w=10\n",
    "service_up_cost = 6300\n",
    "\n",
    "# Current Rates\n",
    "y1 = [1-a,1-a]\n",
    "x1 = [S1_min,S1_max]\n",
    "\n",
    "y3 = [2-a,2-a]\n",
    "x3 = [S3_min,S3_max]\n",
    "\n",
    "# Current Rates; No Service Upgrade\n",
    "y1_no = [1+(2*b),1+(2*b)]\n",
    "x1_no = [S1_min+service_up_cost,S1_max+service_up_cost]\n",
    "\n",
    "y3_no = [2+(2*b),2+(2*b)]\n",
    "x3_no = [S3_min+service_up_cost,S3_max+service_up_cost]\n",
    "\n",
    "# 20% Lower Gas Rates; Incl Service Upgrade\"\n",
    "y1L = [1-(2*b),1-(2*b)]\n",
    "x1L = [S1_min_Low,S1_max_Low]\n",
    "\n",
    "y3L = [2-(2*b),2-(2*b)]\n",
    "x3L = [S3_min_Low,S3_max_Low]\n",
    "       \n",
    "# 20% Lower Gas Rates; Incl Service Upgrade\"\n",
    "y1L_no = [1+(a),1+(a)]\n",
    "x1L_no = [S1_min_Low+service_up_cost,S1_max_Low+service_up_cost]\n",
    "\n",
    "y3L_no = [2+(a),2+(a)]\n",
    "x3L_no = [S3_min_Low+service_up_cost,S3_max_Low+service_up_cost]\n",
    "\n",
    "fig = plt.figure(figsize=(7,5))\n",
    "ax = plt.subplot(111)\n",
    "\n",
    "ax.plot(x1, y1, lw = w, color = step_gold)\n",
    "ax.plot(x3, y3, lw = w, color = step_gold)\n",
    "\n",
    "ax.plot(x1L, y1L, lw = w, color = step_blue)\n",
    "ax.plot(x3L, y3L, lw = w, color = step_blue)\n",
    "\n",
    "ax.plot(x1_no, y1_no, lw = w, color = step_gold, alpha = 0.3)\n",
    "ax.plot(x3_no, y3_no, lw = w, color = step_gold, alpha = 0.3)\n",
    "\n",
    "ax.plot(x1L_no, y1L_no, lw = w, color = step_blue, alpha = 0.3)\n",
    "ax.plot(x3L_no, y3L_no, lw = w, color = step_blue, alpha = 0.3)\n",
    "\n",
    "ax.set_yticks(ticks = [1,2])\n",
    "ax.set_yticklabels(labels = ['No 0% Financing\\n and No Rebate','0% Financing\\n and Rebate'])\n",
    "ax.set_ylim(0.5,2.5)\n",
    "ax.set_xlim(-17000,12000)\n",
    "ax.set_xlabel('Net Present Value (ASHP Savings)')\n",
    "ax.axhline(y = 1.5, color = 'black')\n",
    "\n",
    "legend_elements = [Patch(facecolor= step_gold, label='Current Gas Rates\\n(w/ Service Upgrade)'),\n",
    "                  Patch(facecolor= step_blue, label='Lower Gas Rates\\n(w/ Service Upgrade)'),\n",
    "                  Patch(facecolor= step_gold, alpha = 0.3, label='Current Gas Rates\\n(No Service Upgrade)'),\n",
    "                  Patch(facecolor= step_blue, alpha = 0.3, label='Lower Gas Rates\\n(No Service Upgrade)')]\n",
    "\n",
    "\n",
    "# Shrink current axis's height by 10% on the bottom\n",
    "box = ax.get_position()\n",
    "ax.set_position([box.x0, box.y0 + box.height * 0.9, box.width, box.height * 0.9])\n",
    "\n",
    "# Put a legend below current axis\n",
    "ax.legend(handles=legend_elements,loc='upper center', bbox_to_anchor=(0.5, -0.2),ncol=2, fontsize = 14)\n",
    "ax.grid(axis = 'x', ls = '--')\n"
   ]
  },
  {
   "cell_type": "code",
   "execution_count": 262,
   "metadata": {},
   "outputs": [
    {
     "data": {
      "text/plain": [
       "<matplotlib.legend.Legend at 0x216ce0014a8>"
      ]
     },
     "execution_count": 262,
     "metadata": {},
     "output_type": "execute_result"
    },
    {
     "data": {
      "image/png": "[encoded data removed]",
      "text/plain": [
       "<Figure size 504x360 with 1 Axes>"
      ]
     },
     "metadata": {
      "needs_background": "light"
     },
     "output_type": "display_data"
    }
   ],
   "source": [
    "# Visualize lifetime to 2036\n",
    "gcc = [-300]*15\n",
    "\n",
    "plt.figure(figsize=(7,5))\n",
    "plt.bar(nat_gas_rate_df.Year,nat_gas_rate_df.Annual_Net_Cost_Change,color=step_blue, align = 'center', width = 0.4, label = 'Utility usage')\n",
    "plt.bar(nat_gas_rate_df.Year,gcc,bottom=nat_gas_rate_df.Annual_Net_Cost_Change, align = 'center', width = 0.4, color = step_gold, label = 'Gas Customer Charge')\n",
    "plt.grid(ls='--')\n",
    "plt.ylabel('Net Annual Utility Cost Change [$]')\n",
    "plt.legend()"
   ]
  },
  {
   "cell_type": "markdown",
   "metadata": {},
   "source": [
    "This analysis is taking the energy savings from the post-retrofit period and assuming that it will be constant on an annual basis moving forward. This is a simplification. In reality, future savings will vary with the annual changes in weather. It is useful to confirm whether or not the post-retrofit was an outlying year that is not a good representation of future savings. To do that it's possible just to look at total HDDs of the post-retrofit period vs. the same time period from 10 previous years. "
   ]
  },
  {
   "cell_type": "code",
   "execution_count": 263,
   "metadata": {},
   "outputs": [
    {
     "data": {
      "text/plain": [
       "3050.6666666666665"
      ]
     },
     "execution_count": 263,
     "metadata": {},
     "output_type": "execute_result"
    }
   ],
   "source": [
    "HDD_total(datetime.datetime.strptime(\"2021-09-01\",\"%Y-%m-%d\"),datetime.datetime.strptime(\"2022-06-01\",\"%Y-%m-%d\"))['HDDs']"
   ]
  },
  {
   "cell_type": "code",
   "execution_count": 264,
   "metadata": {},
   "outputs": [
    {
     "name": "stdout",
     "output_type": "stream",
     "text": [
      "2020-21 2957.75\n",
      "2019-20 3091.4125\n",
      "2018-19 3403.9375\n",
      "2017-18 3242.558333333333\n",
      "2016-17 2842.520833333333\n",
      "2015-16 2821.704166666667\n",
      "2014-15 3517.9666666666667\n",
      "2013-14 3672.3916666666664\n",
      "2012-13 3085.9249999999997\n"
     ]
    }
   ],
   "source": [
    "year = [\"2020-21\",\"2019-20\",\"2018-19\",\"2017-18\",\"2016-17\",\"2015-16\",\"2014-15\",\"2013-14\",\"2012-13\"]\n",
    "strts = [\"2020-09-01\",\"2019-09-01\",\"2018-09-01\",\"2017-09-01\",\"2016-09-01\",\"2015-09-01\",\"2014-09-01\",\"2013-09-01\",\"2012-09-01\"]\n",
    "ends = [\"2021-06-01\",\"2020-06-01\",\"2019-06-01\",\"2018-06-01\",\"2017-06-01\",\"2016-06-01\",\"2015-06-01\",\"2014-06-01\",\"2013-06-01\"]\n",
    "HDD_list = []\n",
    "\n",
    "for st,en, yr in zip(strts,ends, year):\n",
    "    HDDs_ = HDD_total(datetime.datetime.strptime(st,\"%Y-%m-%d\"),datetime.datetime.strptime(en,\"%Y-%m-%d\"))['HDDs']\n",
    "    HDD_list.append(HDDs_)\n",
    "    print(str(yr) + \" \" + str(HDDs_))"
   ]
  },
  {
   "cell_type": "code",
   "execution_count": 265,
   "metadata": {},
   "outputs": [
    {
     "data": {
      "text/plain": [
       "3181.796296296296"
      ]
     },
     "execution_count": 265,
     "metadata": {},
     "output_type": "execute_result"
    }
   ],
   "source": [
    "# Mean HDDs\n",
    "sum(HDD_list)/len(HDD_list)"
   ]
  },
  {
   "cell_type": "code",
   "execution_count": 266,
   "metadata": {},
   "outputs": [
    {
     "data": {
      "text/plain": [
       "0.959132348318139"
      ]
     },
     "execution_count": 266,
     "metadata": {},
     "output_type": "execute_result"
    }
   ],
   "source": [
    "3051/3181"
   ]
  },
  {
   "cell_type": "markdown",
   "metadata": {},
   "source": [
    "The total HDDs for the post-retrofit period in this analysis are 4% lower than the mean HDDs for the same period across the last 10 years. It follows that 2021-2022 is not an outlier.\n"
   ]
  },
  {
   "cell_type": "code",
   "execution_count": null,
   "metadata": {},
   "outputs": [],
   "source": []
  }
 ],
 "metadata": {
  "kernelspec": {
   "display_name": "Python 3",
   "language": "python",
   "name": "python3"
  },
  "language_info": {
   "codemirror_mode": {
    "name": "ipython",
    "version": 3
   },
   "file_extension": ".py",
   "mimetype": "text/x-python",
   "name": "python",
   "nbconvert_exporter": "python",
   "pygments_lexer": "ipython3",
   "version": "3.7.3"
  }
 },
 "nbformat": 4,
 "nbformat_minor": 2
}
